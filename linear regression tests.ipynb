{
 "cells": [
  {
   "cell_type": "code",
   "execution_count": 1,
   "id": "3c0c1691",
   "metadata": {},
   "outputs": [],
   "source": [
    "#transformation\n",
    "\n",
    "import pandas as pd\n",
    "df1=pd.read_csv(\"d:/csv-ml/boston_dataset.csv\")"
   ]
  },
  {
   "cell_type": "code",
   "execution_count": 2,
   "id": "5763f5a2",
   "metadata": {},
   "outputs": [
    {
     "data": {
      "text/html": [
       "<div>\n",
       "<style scoped>\n",
       "    .dataframe tbody tr th:only-of-type {\n",
       "        vertical-align: middle;\n",
       "    }\n",
       "\n",
       "    .dataframe tbody tr th {\n",
       "        vertical-align: top;\n",
       "    }\n",
       "\n",
       "    .dataframe thead th {\n",
       "        text-align: right;\n",
       "    }\n",
       "</style>\n",
       "<table border=\"1\" class=\"dataframe\">\n",
       "  <thead>\n",
       "    <tr style=\"text-align: right;\">\n",
       "      <th></th>\n",
       "      <th>Unnamed: 0</th>\n",
       "      <th>crim</th>\n",
       "      <th>zn</th>\n",
       "      <th>indus</th>\n",
       "      <th>chas</th>\n",
       "      <th>nox</th>\n",
       "      <th>rm</th>\n",
       "      <th>age</th>\n",
       "      <th>dis</th>\n",
       "      <th>rad</th>\n",
       "      <th>tax</th>\n",
       "      <th>ptratio</th>\n",
       "      <th>black</th>\n",
       "      <th>lstat</th>\n",
       "      <th>medv</th>\n",
       "    </tr>\n",
       "  </thead>\n",
       "  <tbody>\n",
       "    <tr>\n",
       "      <th>0</th>\n",
       "      <td>1</td>\n",
       "      <td>0.00632</td>\n",
       "      <td>18.0</td>\n",
       "      <td>2.31</td>\n",
       "      <td>0</td>\n",
       "      <td>0.538</td>\n",
       "      <td>6.575</td>\n",
       "      <td>65.2</td>\n",
       "      <td>4.0900</td>\n",
       "      <td>1</td>\n",
       "      <td>296</td>\n",
       "      <td>15.3</td>\n",
       "      <td>396.90</td>\n",
       "      <td>4.98</td>\n",
       "      <td>24.0</td>\n",
       "    </tr>\n",
       "    <tr>\n",
       "      <th>1</th>\n",
       "      <td>2</td>\n",
       "      <td>0.02731</td>\n",
       "      <td>0.0</td>\n",
       "      <td>7.07</td>\n",
       "      <td>0</td>\n",
       "      <td>0.469</td>\n",
       "      <td>6.421</td>\n",
       "      <td>78.9</td>\n",
       "      <td>4.9671</td>\n",
       "      <td>2</td>\n",
       "      <td>242</td>\n",
       "      <td>17.8</td>\n",
       "      <td>396.90</td>\n",
       "      <td>9.14</td>\n",
       "      <td>21.6</td>\n",
       "    </tr>\n",
       "    <tr>\n",
       "      <th>2</th>\n",
       "      <td>3</td>\n",
       "      <td>0.02729</td>\n",
       "      <td>0.0</td>\n",
       "      <td>7.07</td>\n",
       "      <td>0</td>\n",
       "      <td>0.469</td>\n",
       "      <td>7.185</td>\n",
       "      <td>61.1</td>\n",
       "      <td>4.9671</td>\n",
       "      <td>2</td>\n",
       "      <td>242</td>\n",
       "      <td>17.8</td>\n",
       "      <td>392.83</td>\n",
       "      <td>4.03</td>\n",
       "      <td>34.7</td>\n",
       "    </tr>\n",
       "    <tr>\n",
       "      <th>3</th>\n",
       "      <td>4</td>\n",
       "      <td>0.03237</td>\n",
       "      <td>0.0</td>\n",
       "      <td>2.18</td>\n",
       "      <td>0</td>\n",
       "      <td>0.458</td>\n",
       "      <td>6.998</td>\n",
       "      <td>45.8</td>\n",
       "      <td>6.0622</td>\n",
       "      <td>3</td>\n",
       "      <td>222</td>\n",
       "      <td>18.7</td>\n",
       "      <td>394.63</td>\n",
       "      <td>2.94</td>\n",
       "      <td>33.4</td>\n",
       "    </tr>\n",
       "    <tr>\n",
       "      <th>4</th>\n",
       "      <td>5</td>\n",
       "      <td>0.06905</td>\n",
       "      <td>0.0</td>\n",
       "      <td>2.18</td>\n",
       "      <td>0</td>\n",
       "      <td>0.458</td>\n",
       "      <td>7.147</td>\n",
       "      <td>54.2</td>\n",
       "      <td>6.0622</td>\n",
       "      <td>3</td>\n",
       "      <td>222</td>\n",
       "      <td>18.7</td>\n",
       "      <td>396.90</td>\n",
       "      <td>5.33</td>\n",
       "      <td>36.2</td>\n",
       "    </tr>\n",
       "  </tbody>\n",
       "</table>\n",
       "</div>"
      ],
      "text/plain": [
       "   Unnamed: 0     crim    zn  indus  chas    nox     rm   age     dis  rad  \\\n",
       "0           1  0.00632  18.0   2.31     0  0.538  6.575  65.2  4.0900    1   \n",
       "1           2  0.02731   0.0   7.07     0  0.469  6.421  78.9  4.9671    2   \n",
       "2           3  0.02729   0.0   7.07     0  0.469  7.185  61.1  4.9671    2   \n",
       "3           4  0.03237   0.0   2.18     0  0.458  6.998  45.8  6.0622    3   \n",
       "4           5  0.06905   0.0   2.18     0  0.458  7.147  54.2  6.0622    3   \n",
       "\n",
       "   tax  ptratio   black  lstat  medv  \n",
       "0  296     15.3  396.90   4.98  24.0  \n",
       "1  242     17.8  396.90   9.14  21.6  \n",
       "2  242     17.8  392.83   4.03  34.7  \n",
       "3  222     18.7  394.63   2.94  33.4  \n",
       "4  222     18.7  396.90   5.33  36.2  "
      ]
     },
     "execution_count": 2,
     "metadata": {},
     "output_type": "execute_result"
    }
   ],
   "source": [
    "df1.head()"
   ]
  },
  {
   "cell_type": "code",
   "execution_count": 3,
   "id": "49fd1502",
   "metadata": {},
   "outputs": [],
   "source": [
    "df1=df1.drop(\"Unnamed: 0\",axis=1)"
   ]
  },
  {
   "cell_type": "code",
   "execution_count": 4,
   "id": "49f1542c",
   "metadata": {},
   "outputs": [],
   "source": [
    "x=df1.iloc[:,0:13]\n",
    "y=df1.iloc[:,13]"
   ]
  },
  {
   "cell_type": "markdown",
   "id": "f575af43",
   "metadata": {},
   "source": [
    "# Primer model or full model"
   ]
  },
  {
   "cell_type": "code",
   "execution_count": 5,
   "id": "92dee8c2",
   "metadata": {},
   "outputs": [],
   "source": [
    "from sklearn.linear_model import LinearRegression\n",
    "from sklearn.metrics import r2_score\n",
    "from sklearn.model_selection import train_test_split"
   ]
  },
  {
   "cell_type": "code",
   "execution_count": 6,
   "id": "c60cf765",
   "metadata": {},
   "outputs": [],
   "source": [
    "x_tr,x_test,y_tr,y_test=train_test_split(x,y,test_size=.2,random_state=100)"
   ]
  },
  {
   "cell_type": "code",
   "execution_count": 7,
   "id": "d477d1c0",
   "metadata": {},
   "outputs": [],
   "source": [
    "lm_model=LinearRegression().fit(x_tr,y_tr)"
   ]
  },
  {
   "cell_type": "code",
   "execution_count": 8,
   "id": "c1e42650",
   "metadata": {},
   "outputs": [],
   "source": [
    "y_fitted=lm_model.predict(x_tr)"
   ]
  },
  {
   "cell_type": "code",
   "execution_count": 9,
   "id": "dbd00465",
   "metadata": {},
   "outputs": [],
   "source": [
    "import numpy as np\n",
    "resid=np.array(y_fitted)-np.array(y_tr)\n"
   ]
  },
  {
   "cell_type": "code",
   "execution_count": 10,
   "id": "5c84a85a",
   "metadata": {},
   "outputs": [
    {
     "data": {
      "text/plain": [
       "0.7337332767917557"
      ]
     },
     "execution_count": 10,
     "metadata": {},
     "output_type": "execute_result"
    }
   ],
   "source": [
    "r2_score(y_tr,y_fitted)"
   ]
  },
  {
   "cell_type": "code",
   "execution_count": 11,
   "id": "b7d8c787",
   "metadata": {},
   "outputs": [],
   "source": [
    "p=lm_model.predict(x_test)"
   ]
  },
  {
   "cell_type": "code",
   "execution_count": 12,
   "id": "7d81dec3",
   "metadata": {},
   "outputs": [],
   "source": [
    "#validation tests of linear regression"
   ]
  },
  {
   "cell_type": "code",
   "execution_count": 13,
   "id": "177af24c",
   "metadata": {},
   "outputs": [],
   "source": [
    "#Linearity"
   ]
  },
  {
   "cell_type": "code",
   "execution_count": 14,
   "id": "dbff050a",
   "metadata": {},
   "outputs": [
    {
     "data": {
      "text/plain": [
       "<AxesSubplot:>"
      ]
     },
     "execution_count": 14,
     "metadata": {},
     "output_type": "execute_result"
    },
    {
     "data": {
      "image/png": "[encoded data removed]",
      "text/plain": [
       "<Figure size 432x288 with 1 Axes>"
      ]
     },
     "metadata": {
      "needs_background": "light"
     },
     "output_type": "display_data"
    }
   ],
   "source": [
    "#residual plot\n",
    "import seaborn as sns\n",
    "sns.regplot(x=y_fitted,y=resid,order=2)\n",
    "\n"
   ]
  },
  {
   "cell_type": "code",
   "execution_count": 15,
   "id": "f08603d1",
   "metadata": {},
   "outputs": [
    {
     "data": {
      "image/png": "[encoded data removed]",
      "text/plain": [
       "<Figure size 432x288 with 1 Axes>"
      ]
     },
     "metadata": {
      "needs_background": "light"
     },
     "output_type": "display_data"
    }
   ],
   "source": [
    "#qqplot\n",
    "from scipy import stats\n",
    "import pylab\n",
    "stats.probplot(resid,dist=\"norm\",plot=pylab)\n",
    "pylab.show()"
   ]
  },
  {
   "cell_type": "code",
   "execution_count": 16,
   "id": "b94eb24e",
   "metadata": {},
   "outputs": [
    {
     "data": {
      "text/plain": [
       "ShapiroResult(statistic=0.9052581191062927, pvalue=3.4911509006775848e-15)"
      ]
     },
     "execution_count": 16,
     "metadata": {},
     "output_type": "execute_result"
    }
   ],
   "source": [
    "#shapiro wilk test\n",
    "from scipy import stats\n",
    "stats.shapiro(resid)"
   ]
  },
  {
   "cell_type": "code",
   "execution_count": 17,
   "id": "204b3452",
   "metadata": {},
   "outputs": [],
   "source": [
    "#pvalue less than .05 ,residuals not normally distributed"
   ]
  },
  {
   "cell_type": "code",
   "execution_count": 18,
   "id": "e6fa1648",
   "metadata": {},
   "outputs": [
    {
     "name": "stderr",
     "output_type": "stream",
     "text": [
      "C:\\Users\\Indrani Sen\\anaconda3\\lib\\site-packages\\seaborn\\distributions.py:2557: FutureWarning: `distplot` is a deprecated function and will be removed in a future version. Please adapt your code to use either `displot` (a figure-level function with similar flexibility) or `histplot` (an axes-level function for histograms).\n",
      "  warnings.warn(msg, FutureWarning)\n"
     ]
    },
    {
     "data": {
      "text/plain": [
       "<AxesSubplot:ylabel='Density'>"
      ]
     },
     "execution_count": 18,
     "metadata": {},
     "output_type": "execute_result"
    },
    {
     "data": {
      "image/png": "[encoded data removed]",
      "text/plain": [
       "<Figure size 432x288 with 1 Axes>"
      ]
     },
     "metadata": {
      "needs_background": "light"
     },
     "output_type": "display_data"
    }
   ],
   "source": [
    "#distplot\n",
    "sns.distplot(resid)"
   ]
  },
  {
   "cell_type": "code",
   "execution_count": 19,
   "id": "d1c836d0",
   "metadata": {},
   "outputs": [
    {
     "data": {
      "text/plain": [
       "-1.451583282767006"
      ]
     },
     "execution_count": 19,
     "metadata": {},
     "output_type": "execute_result"
    }
   ],
   "source": [
    "from scipy.stats import skew\n",
    "skew(resid)"
   ]
  },
  {
   "cell_type": "code",
   "execution_count": 20,
   "id": "cd067263",
   "metadata": {},
   "outputs": [
    {
     "data": {
      "text/plain": [
       "4.721692034819949"
      ]
     },
     "execution_count": 20,
     "metadata": {},
     "output_type": "execute_result"
    }
   ],
   "source": [
    "from scipy.stats import kurtosis\n",
    "kurtosis(resid)"
   ]
  },
  {
   "cell_type": "code",
   "execution_count": 21,
   "id": "2fffcb48",
   "metadata": {},
   "outputs": [
    {
     "name": "stderr",
     "output_type": "stream",
     "text": [
      "C:\\Users\\Indrani Sen\\anaconda3\\lib\\site-packages\\seaborn\\_decorators.py:36: FutureWarning: Pass the following variable as a keyword arg: x. From version 0.12, the only valid positional argument will be `data`, and passing other arguments without an explicit keyword will result in an error or misinterpretation.\n",
      "  warnings.warn(\n"
     ]
    },
    {
     "data": {
      "text/plain": [
       "<AxesSubplot:>"
      ]
     },
     "execution_count": 21,
     "metadata": {},
     "output_type": "execute_result"
    },
    {
     "data": {
      "image/png": "[encoded data removed]",
      "text/plain": [
       "<Figure size 432x288 with 1 Axes>"
      ]
     },
     "metadata": {
      "needs_background": "light"
     },
     "output_type": "display_data"
    }
   ],
   "source": [
    "sns.boxplot(resid)"
   ]
  },
  {
   "cell_type": "code",
   "execution_count": 22,
   "id": "2e137917",
   "metadata": {},
   "outputs": [
    {
     "data": {
      "text/plain": [
       "2.029021412907427"
      ]
     },
     "execution_count": 22,
     "metadata": {},
     "output_type": "execute_result"
    }
   ],
   "source": [
    "#durbin watson test for autocorrelation\n",
    "from statsmodels.stats.stattools import durbin_watson\n",
    "durbin_watson(resid)"
   ]
  },
  {
   "cell_type": "code",
   "execution_count": 23,
   "id": "381bf675",
   "metadata": {},
   "outputs": [],
   "source": [
    "#no autocorrelation"
   ]
  },
  {
   "cell_type": "code",
   "execution_count": 24,
   "id": "44122236",
   "metadata": {},
   "outputs": [
    {
     "data": {
      "text/plain": [
       "(94.52162545398028,\n",
       " 6.54068113080439e-15,\n",
       " 9.18616579286174,\n",
       " 1.3284427708707769e-16)"
      ]
     },
     "execution_count": 24,
     "metadata": {},
     "output_type": "execute_result"
    }
   ],
   "source": [
    "#bptest for heterskedascity\n",
    "from statsmodels.stats.diagnostic import het_breuschpagan\n",
    "het_breuschpagan(resid,x_tr)"
   ]
  },
  {
   "cell_type": "code",
   "execution_count": 25,
   "id": "7396adc4",
   "metadata": {},
   "outputs": [],
   "source": [
    "#p-value less than .05 heroskedascity oresent"
   ]
  },
  {
   "cell_type": "code",
   "execution_count": 26,
   "id": "3268e1a3",
   "metadata": {},
   "outputs": [],
   "source": [
    "# log transformation of dependant variable"
   ]
  },
  {
   "cell_type": "code",
   "execution_count": 27,
   "id": "ae1b51aa",
   "metadata": {},
   "outputs": [],
   "source": [
    "y_log=np.log(y)\n",
    "x_tr,x_test,y_tr,y_test=train_test_split(x,y_log,test_size=.2,random_state=100)"
   ]
  },
  {
   "cell_type": "code",
   "execution_count": 28,
   "id": "2a6ecd38",
   "metadata": {},
   "outputs": [
    {
     "data": {
      "text/plain": [
       "0.7875326530065212"
      ]
     },
     "execution_count": 28,
     "metadata": {},
     "output_type": "execute_result"
    }
   ],
   "source": [
    "model_log_lm=LinearRegression().fit(x_tr,y_tr)\n",
    "log_fitted=model_log_lm.predict(x_tr)\n",
    "p_log=model_log_lm.predict(x_test)\n",
    "p_actual=np.exp(p_log)\n",
    "r2_score(y_tr,log_fitted)"
   ]
  },
  {
   "cell_type": "code",
   "execution_count": 29,
   "id": "eac7ed71",
   "metadata": {},
   "outputs": [],
   "source": [
    "resid_log=np.array(log_fitted)-np.array(y_tr)"
   ]
  },
  {
   "cell_type": "code",
   "execution_count": 30,
   "id": "47ac8c1d",
   "metadata": {},
   "outputs": [
    {
     "data": {
      "image/png": "[encoded data removed]",
      "text/plain": [
       "<Figure size 432x288 with 1 Axes>"
      ]
     },
     "metadata": {
      "needs_background": "light"
     },
     "output_type": "display_data"
    }
   ],
   "source": [
    "stats.probplot(resid_log,dist=\"norm\",plot=pylab)\n",
    "pylab.show()"
   ]
  },
  {
   "cell_type": "code",
   "execution_count": 31,
   "id": "694dffa5",
   "metadata": {},
   "outputs": [
    {
     "data": {
      "text/plain": [
       "-0.551501599775041"
      ]
     },
     "execution_count": 31,
     "metadata": {},
     "output_type": "execute_result"
    }
   ],
   "source": [
    "skew(resid_log)"
   ]
  },
  {
   "cell_type": "code",
   "execution_count": 32,
   "id": "17f20f2e",
   "metadata": {},
   "outputs": [
    {
     "data": {
      "text/plain": [
       "ShapiroResult(statistic=0.9531532526016235, pvalue=5.036966399529774e-10)"
      ]
     },
     "execution_count": 32,
     "metadata": {},
     "output_type": "execute_result"
    }
   ],
   "source": [
    "stats.shapiro(resid_log)"
   ]
  },
  {
   "cell_type": "code",
   "execution_count": 33,
   "id": "42a72959",
   "metadata": {},
   "outputs": [
    {
     "data": {
      "text/plain": [
       "ShapiroResult(statistic=0.9531532526016235, pvalue=5.036966399529774e-10)"
      ]
     },
     "execution_count": 33,
     "metadata": {},
     "output_type": "execute_result"
    }
   ],
   "source": [
    "stats.shapiro(resid_log)"
   ]
  },
  {
   "cell_type": "code",
   "execution_count": 34,
   "id": "544cf72e",
   "metadata": {},
   "outputs": [
    {
     "data": {
      "text/plain": [
       "(115.91629988907708,\n",
       " 4.017212248988146e-19,\n",
       " 12.102057956708146,\n",
       " 3.298483996045729e-22)"
      ]
     },
     "execution_count": 34,
     "metadata": {},
     "output_type": "execute_result"
    }
   ],
   "source": [
    "from statsmodels.stats.diagnostic import het_breuschpagan\n",
    "het_breuschpagan(resid_log,x_tr)"
   ]
  },
  {
   "cell_type": "code",
   "execution_count": 35,
   "id": "d7f78b07",
   "metadata": {},
   "outputs": [],
   "source": [
    "#heteroskedasity present"
   ]
  },
  {
   "cell_type": "markdown",
   "id": "ab88b0d2",
   "metadata": {},
   "source": [
    "# log10 transformation"
   ]
  },
  {
   "cell_type": "code",
   "execution_count": 36,
   "id": "646c5afb",
   "metadata": {},
   "outputs": [
    {
     "data": {
      "text/plain": [
       "0.7875326530065212"
      ]
     },
     "execution_count": 36,
     "metadata": {},
     "output_type": "execute_result"
    }
   ],
   "source": [
    "y_log10=np.log10(y)\n",
    "x_tr,x_test,y_tr,y_test=train_test_split(x,y_log10,test_size=.2,random_state=100)\n",
    "model_log_lm=LinearRegression().fit(x_tr,y_tr)\n",
    "log10_fitted=model_log_lm.predict(x_tr)\n",
    "r2_score(y_tr,log10_fitted)\n"
   ]
  },
  {
   "cell_type": "code",
   "execution_count": 37,
   "id": "8ba2f3cc",
   "metadata": {},
   "outputs": [
    {
     "data": {
      "text/plain": [
       "0.7840794771166174"
      ]
     },
     "execution_count": 37,
     "metadata": {},
     "output_type": "execute_result"
    }
   ],
   "source": [
    "p_log10=model_log_lm.predict(x_test)\n",
    "r2_score(y_test,p_log10)"
   ]
  },
  {
   "cell_type": "code",
   "execution_count": 38,
   "id": "f60c72c4",
   "metadata": {},
   "outputs": [
    {
     "data": {
      "image/png": "[encoded data removed]",
      "text/plain": [
       "<Figure size 432x288 with 1 Axes>"
      ]
     },
     "metadata": {
      "needs_background": "light"
     },
     "output_type": "display_data"
    }
   ],
   "source": [
    "resid_log10=np.array(log10_fitted)-np.array(y_tr)\n",
    "stats.probplot(resid_log10,dist=\"norm\",plot=pylab)\n",
    "pylab.show()"
   ]
  },
  {
   "cell_type": "code",
   "execution_count": 39,
   "id": "44d3c61e",
   "metadata": {},
   "outputs": [
    {
     "data": {
      "text/plain": [
       "<AxesSubplot:>"
      ]
     },
     "execution_count": 39,
     "metadata": {},
     "output_type": "execute_result"
    },
    {
     "data": {
      "image/png": "[encoded data removed]",
      "text/plain": [
       "<Figure size 432x288 with 1 Axes>"
      ]
     },
     "metadata": {
      "needs_background": "light"
     },
     "output_type": "display_data"
    }
   ],
   "source": [
    "sns.regplot(x=log10_fitted,y=resid_log10,order=2)"
   ]
  },
  {
   "cell_type": "code",
   "execution_count": 40,
   "id": "54f235c9",
   "metadata": {},
   "outputs": [
    {
     "data": {
      "text/plain": [
       "ShapiroResult(statistic=0.953153669834137, pvalue=5.037568140409121e-10)"
      ]
     },
     "execution_count": 40,
     "metadata": {},
     "output_type": "execute_result"
    }
   ],
   "source": [
    "stats.shapiro(resid_log10)"
   ]
  },
  {
   "cell_type": "markdown",
   "id": "4c779d37",
   "metadata": {},
   "source": [
    "# log transformation of independant as well as dependant variable\n",
    "\n"
   ]
  },
  {
   "cell_type": "code",
   "execution_count": 41,
   "id": "fd8f7504",
   "metadata": {},
   "outputs": [],
   "source": [
    "# Box cox transformation"
   ]
  },
  {
   "cell_type": "raw",
   "id": "2d24e248",
   "metadata": {},
   "source": [
    "# lambda = -1. is a reciprocal transform.\n",
    "lambda = -0.5 is a reciprocal square root transform.\n",
    "lambda = 0.0 is a log transform.\n",
    "lambda = 0.5 is a square root transform.\n",
    "lambda = 1.0 is no transform."
   ]
  },
  {
   "cell_type": "code",
   "execution_count": 42,
   "id": "258e67e8",
   "metadata": {},
   "outputs": [],
   "source": [
    "from scipy.special import boxcox1p\n",
    "from scipy.special import boxcox\n",
    "from scipy.special import inv_boxcox\n",
    "df_trans=df1.apply(lambda x: boxcox1p(x,0.0))"
   ]
  },
  {
   "cell_type": "code",
   "execution_count": 43,
   "id": "52aa2245",
   "metadata": {},
   "outputs": [
    {
     "data": {
      "text/html": [
       "<div>\n",
       "<style scoped>\n",
       "    .dataframe tbody tr th:only-of-type {\n",
       "        vertical-align: middle;\n",
       "    }\n",
       "\n",
       "    .dataframe tbody tr th {\n",
       "        vertical-align: top;\n",
       "    }\n",
       "\n",
       "    .dataframe thead th {\n",
       "        text-align: right;\n",
       "    }\n",
       "</style>\n",
       "<table border=\"1\" class=\"dataframe\">\n",
       "  <thead>\n",
       "    <tr style=\"text-align: right;\">\n",
       "      <th></th>\n",
       "      <th>crim</th>\n",
       "      <th>zn</th>\n",
       "      <th>indus</th>\n",
       "      <th>chas</th>\n",
       "      <th>nox</th>\n",
       "      <th>rm</th>\n",
       "      <th>age</th>\n",
       "      <th>dis</th>\n",
       "      <th>rad</th>\n",
       "      <th>tax</th>\n",
       "      <th>ptratio</th>\n",
       "      <th>black</th>\n",
       "      <th>lstat</th>\n",
       "      <th>medv</th>\n",
       "    </tr>\n",
       "  </thead>\n",
       "  <tbody>\n",
       "    <tr>\n",
       "      <th>0</th>\n",
       "      <td>0.006300</td>\n",
       "      <td>2.944439</td>\n",
       "      <td>1.196948</td>\n",
       "      <td>0.0</td>\n",
       "      <td>0.430483</td>\n",
       "      <td>2.024853</td>\n",
       "      <td>4.192680</td>\n",
       "      <td>1.627278</td>\n",
       "      <td>0.693147</td>\n",
       "      <td>5.693732</td>\n",
       "      <td>2.791165</td>\n",
       "      <td>5.986201</td>\n",
       "      <td>1.788421</td>\n",
       "      <td>3.218876</td>\n",
       "    </tr>\n",
       "    <tr>\n",
       "      <th>1</th>\n",
       "      <td>0.026944</td>\n",
       "      <td>0.000000</td>\n",
       "      <td>2.088153</td>\n",
       "      <td>0.0</td>\n",
       "      <td>0.384582</td>\n",
       "      <td>2.004314</td>\n",
       "      <td>4.380776</td>\n",
       "      <td>1.786261</td>\n",
       "      <td>1.098612</td>\n",
       "      <td>5.493061</td>\n",
       "      <td>2.933857</td>\n",
       "      <td>5.986201</td>\n",
       "      <td>2.316488</td>\n",
       "      <td>3.117950</td>\n",
       "    </tr>\n",
       "    <tr>\n",
       "      <th>2</th>\n",
       "      <td>0.026924</td>\n",
       "      <td>0.000000</td>\n",
       "      <td>2.088153</td>\n",
       "      <td>0.0</td>\n",
       "      <td>0.384582</td>\n",
       "      <td>2.102303</td>\n",
       "      <td>4.128746</td>\n",
       "      <td>1.786261</td>\n",
       "      <td>1.098612</td>\n",
       "      <td>5.493061</td>\n",
       "      <td>2.933857</td>\n",
       "      <td>5.975919</td>\n",
       "      <td>1.615420</td>\n",
       "      <td>3.575151</td>\n",
       "    </tr>\n",
       "    <tr>\n",
       "      <th>3</th>\n",
       "      <td>0.031857</td>\n",
       "      <td>0.000000</td>\n",
       "      <td>1.156881</td>\n",
       "      <td>0.0</td>\n",
       "      <td>0.377066</td>\n",
       "      <td>2.079192</td>\n",
       "      <td>3.845883</td>\n",
       "      <td>1.954757</td>\n",
       "      <td>1.386294</td>\n",
       "      <td>5.407172</td>\n",
       "      <td>2.980619</td>\n",
       "      <td>5.980479</td>\n",
       "      <td>1.371181</td>\n",
       "      <td>3.538057</td>\n",
       "    </tr>\n",
       "    <tr>\n",
       "      <th>4</th>\n",
       "      <td>0.066770</td>\n",
       "      <td>0.000000</td>\n",
       "      <td>1.156881</td>\n",
       "      <td>0.0</td>\n",
       "      <td>0.377066</td>\n",
       "      <td>2.097650</td>\n",
       "      <td>4.010963</td>\n",
       "      <td>1.954757</td>\n",
       "      <td>1.386294</td>\n",
       "      <td>5.407172</td>\n",
       "      <td>2.980619</td>\n",
       "      <td>5.986201</td>\n",
       "      <td>1.845300</td>\n",
       "      <td>3.616309</td>\n",
       "    </tr>\n",
       "  </tbody>\n",
       "</table>\n",
       "</div>"
      ],
      "text/plain": [
       "       crim        zn     indus  chas       nox        rm       age       dis  \\\n",
       "0  0.006300  2.944439  1.196948   0.0  0.430483  2.024853  4.192680  1.627278   \n",
       "1  0.026944  0.000000  2.088153   0.0  0.384582  2.004314  4.380776  1.786261   \n",
       "2  0.026924  0.000000  2.088153   0.0  0.384582  2.102303  4.128746  1.786261   \n",
       "3  0.031857  0.000000  1.156881   0.0  0.377066  2.079192  3.845883  1.954757   \n",
       "4  0.066770  0.000000  1.156881   0.0  0.377066  2.097650  4.010963  1.954757   \n",
       "\n",
       "        rad       tax   ptratio     black     lstat      medv  \n",
       "0  0.693147  5.693732  2.791165  5.986201  1.788421  3.218876  \n",
       "1  1.098612  5.493061  2.933857  5.986201  2.316488  3.117950  \n",
       "2  1.098612  5.493061  2.933857  5.975919  1.615420  3.575151  \n",
       "3  1.386294  5.407172  2.980619  5.980479  1.371181  3.538057  \n",
       "4  1.386294  5.407172  2.980619  5.986201  1.845300  3.616309  "
      ]
     },
     "execution_count": 43,
     "metadata": {},
     "output_type": "execute_result"
    }
   ],
   "source": [
    "df_trans.head()"
   ]
  },
  {
   "cell_type": "code",
   "execution_count": 44,
   "id": "53c3dd25",
   "metadata": {},
   "outputs": [],
   "source": [
    "x=df_trans.iloc[:,0:13]\n",
    "y=df_trans.iloc[:,13]"
   ]
  },
  {
   "cell_type": "code",
   "execution_count": 45,
   "id": "843536a2",
   "metadata": {},
   "outputs": [
    {
     "data": {
      "text/plain": [
       "0.796166619775725"
      ]
     },
     "execution_count": 45,
     "metadata": {},
     "output_type": "execute_result"
    }
   ],
   "source": [
    "x_tr,x_test,y_tr,y_test=train_test_split(x,y,test_size=.2,random_state=100)\n",
    "model_log_lm=LinearRegression().fit(x_tr,y_tr)\n",
    "log_fitted_full=model_log_lm.predict(x_tr)\n",
    "r2_score(y_tr,log_fitted_full)"
   ]
  },
  {
   "cell_type": "code",
   "execution_count": 46,
   "id": "4ddff7dc",
   "metadata": {},
   "outputs": [],
   "source": [
    "resid=np.array(log_fitted_full)-np.array(y_tr)"
   ]
  },
  {
   "cell_type": "code",
   "execution_count": 47,
   "id": "f1b22166",
   "metadata": {},
   "outputs": [],
   "source": [
    "p=model_log_lm.predict(x_test)"
   ]
  },
  {
   "cell_type": "code",
   "execution_count": 48,
   "id": "c8d02d10",
   "metadata": {},
   "outputs": [
    {
     "data": {
      "text/plain": [
       "0.7979312627950956"
      ]
     },
     "execution_count": 48,
     "metadata": {},
     "output_type": "execute_result"
    }
   ],
   "source": [
    "r2_score(y_test,p)"
   ]
  },
  {
   "cell_type": "code",
   "execution_count": 49,
   "id": "61f5c0a6",
   "metadata": {},
   "outputs": [
    {
     "data": {
      "text/plain": [
       "ShapiroResult(statistic=0.9611989259719849, pvalue=7.583791372667292e-09)"
      ]
     },
     "execution_count": 49,
     "metadata": {},
     "output_type": "execute_result"
    }
   ],
   "source": [
    "stats.shapiro(resid)\n"
   ]
  },
  {
   "cell_type": "code",
   "execution_count": 50,
   "id": "eb3db676",
   "metadata": {},
   "outputs": [
    {
     "name": "stderr",
     "output_type": "stream",
     "text": [
      "C:\\Users\\Indrani Sen\\anaconda3\\lib\\site-packages\\seaborn\\_decorators.py:36: FutureWarning: Pass the following variable as a keyword arg: x. From version 0.12, the only valid positional argument will be `data`, and passing other arguments without an explicit keyword will result in an error or misinterpretation.\n",
      "  warnings.warn(\n"
     ]
    },
    {
     "data": {
      "text/plain": [
       "<AxesSubplot:>"
      ]
     },
     "execution_count": 50,
     "metadata": {},
     "output_type": "execute_result"
    },
    {
     "data": {
      "image/png": "[encoded data removed]",
      "text/plain": [
       "<Figure size 432x288 with 1 Axes>"
      ]
     },
     "metadata": {
      "needs_background": "light"
     },
     "output_type": "display_data"
    }
   ],
   "source": [
    "sns.boxplot(resid)"
   ]
  },
  {
   "cell_type": "code",
   "execution_count": 51,
   "id": "90a9ebe4",
   "metadata": {},
   "outputs": [
    {
     "data": {
      "image/png": "[encoded data removed]",
      "text/plain": [
       "<Figure size 432x288 with 1 Axes>"
      ]
     },
     "metadata": {
      "needs_background": "light"
     },
     "output_type": "display_data"
    }
   ],
   "source": [
    "stats.probplot(resid,dist=\"norm\",plot=pylab)\n",
    "pylab.show()"
   ]
  },
  {
   "cell_type": "code",
   "execution_count": 52,
   "id": "dc8a8f32",
   "metadata": {},
   "outputs": [
    {
     "data": {
      "text/plain": [
       "<AxesSubplot:>"
      ]
     },
     "execution_count": 52,
     "metadata": {},
     "output_type": "execute_result"
    },
    {
     "data": {
      "image/png": "[encoded data removed]",
      "text/plain": [
       "<Figure size 432x288 with 1 Axes>"
      ]
     },
     "metadata": {
      "needs_background": "light"
     },
     "output_type": "display_data"
    }
   ],
   "source": [
    "sns.regplot(x=log_fitted_full,y=resid,order=2)"
   ]
  },
  {
   "cell_type": "code",
   "execution_count": 53,
   "id": "cbf844be",
   "metadata": {},
   "outputs": [],
   "source": [
    "y_actual=inv_boxcox(y_test,0.0)"
   ]
  },
  {
   "cell_type": "code",
   "execution_count": 54,
   "id": "4a01f358",
   "metadata": {},
   "outputs": [],
   "source": [
    "p_actual=inv_boxcox(p,0.0)"
   ]
  },
  {
   "cell_type": "code",
   "execution_count": 55,
   "id": "b38b00e9",
   "metadata": {},
   "outputs": [
    {
     "data": {
      "text/plain": [
       "0.7835889802690214"
      ]
     },
     "execution_count": 55,
     "metadata": {},
     "output_type": "execute_result"
    }
   ],
   "source": [
    "r2_score(y_actual,p_actual)"
   ]
  },
  {
   "cell_type": "markdown",
   "id": "f9baabcc",
   "metadata": {},
   "source": [
    "# squareroot transformation"
   ]
  },
  {
   "cell_type": "code",
   "execution_count": 56,
   "id": "df1431ed",
   "metadata": {},
   "outputs": [],
   "source": [
    "from scipy.special import boxcox1p\n",
    "from scipy.special import boxcox\n",
    "from scipy.special import inv_boxcox\n",
    "df_sq=df1.apply(lambda x: boxcox1p(x,0.5))"
   ]
  },
  {
   "cell_type": "code",
   "execution_count": 57,
   "id": "a7d208c7",
   "metadata": {},
   "outputs": [],
   "source": [
    "x=df_sq.iloc[:,0:13]\n",
    "y=df_sq.iloc[:,13]"
   ]
  },
  {
   "cell_type": "code",
   "execution_count": 58,
   "id": "39683adc",
   "metadata": {},
   "outputs": [
    {
     "data": {
      "text/plain": [
       "0.7931055959153699"
      ]
     },
     "execution_count": 58,
     "metadata": {},
     "output_type": "execute_result"
    }
   ],
   "source": [
    "x_tr,x_test,y_tr,y_test=train_test_split(x,y,test_size=.2,random_state=100)\n",
    "model_log_lm=LinearRegression().fit(x_tr,y_tr)\n",
    "sq_fitted=model_log_lm.predict(x_tr)\n",
    "r2_score(y_tr,sq_fitted)"
   ]
  },
  {
   "cell_type": "code",
   "execution_count": 59,
   "id": "2e41fb04",
   "metadata": {},
   "outputs": [],
   "source": [
    "resid=np.array(sq_fitted)-np.array(y_tr)"
   ]
  },
  {
   "cell_type": "code",
   "execution_count": 60,
   "id": "63bd6edf",
   "metadata": {},
   "outputs": [
    {
     "data": {
      "text/plain": [
       "-0.9222432517134387"
      ]
     },
     "execution_count": 60,
     "metadata": {},
     "output_type": "execute_result"
    }
   ],
   "source": [
    "skew(resid)"
   ]
  },
  {
   "cell_type": "code",
   "execution_count": 61,
   "id": "317e30f8",
   "metadata": {},
   "outputs": [
    {
     "data": {
      "text/plain": [
       "3.0559483922838906"
      ]
     },
     "execution_count": 61,
     "metadata": {},
     "output_type": "execute_result"
    }
   ],
   "source": [
    "kurtosis(resid)"
   ]
  },
  {
   "cell_type": "code",
   "execution_count": 62,
   "id": "57362f18",
   "metadata": {},
   "outputs": [
    {
     "data": {
      "text/plain": [
       "<AxesSubplot:>"
      ]
     },
     "execution_count": 62,
     "metadata": {},
     "output_type": "execute_result"
    },
    {
     "data": {
      "image/png": "[encoded data removed]",
      "text/plain": [
       "<Figure size 432x288 with 1 Axes>"
      ]
     },
     "metadata": {
      "needs_background": "light"
     },
     "output_type": "display_data"
    }
   ],
   "source": [
    "sns.regplot(x=sq_fitted,y=resid,order=2)"
   ]
  },
  {
   "cell_type": "markdown",
   "id": "c243b2dd",
   "metadata": {},
   "source": [
    "# scale transformation"
   ]
  },
  {
   "cell_type": "code",
   "execution_count": 63,
   "id": "c348b9b1",
   "metadata": {},
   "outputs": [],
   "source": [
    "from sklearn.preprocessing import StandardScaler"
   ]
  },
  {
   "cell_type": "code",
   "execution_count": 64,
   "id": "c116d072",
   "metadata": {},
   "outputs": [],
   "source": [
    "#x_scaled=(x-mean)/sd"
   ]
  },
  {
   "cell_type": "code",
   "execution_count": 65,
   "id": "25748cb9",
   "metadata": {},
   "outputs": [],
   "source": [
    "x=df1.iloc[:,0:13]\n",
    "y=df1.iloc[:,[13]]"
   ]
  },
  {
   "cell_type": "code",
   "execution_count": 66,
   "id": "dc6d0f2c",
   "metadata": {},
   "outputs": [],
   "source": [
    "x_scaled=StandardScaler().fit_transform(x)"
   ]
  },
  {
   "cell_type": "code",
   "execution_count": 67,
   "id": "53a22a30",
   "metadata": {},
   "outputs": [],
   "source": [
    "y_scaled=StandardScaler().fit_transform(y)"
   ]
  },
  {
   "cell_type": "code",
   "execution_count": 68,
   "id": "48aa0b35",
   "metadata": {},
   "outputs": [
    {
     "data": {
      "text/plain": [
       "0.7337332767917557"
      ]
     },
     "execution_count": 68,
     "metadata": {},
     "output_type": "execute_result"
    }
   ],
   "source": [
    "x_tr,x_test,y_tr,y_test=train_test_split(x_scaled,y_scaled,test_size=.2,random_state=100)\n",
    "model_scaled_lm=LinearRegression().fit(x_tr,y_tr)\n",
    "fitted=model_scaled_lm.predict(x_tr)\n",
    "r2_score(y_tr,fitted)"
   ]
  },
  {
   "cell_type": "code",
   "execution_count": 69,
   "id": "7e08d521",
   "metadata": {},
   "outputs": [],
   "source": [
    "resid=np.array(fitted)-np.array(y_tr)"
   ]
  },
  {
   "cell_type": "code",
   "execution_count": 70,
   "id": "52e1d697",
   "metadata": {},
   "outputs": [
    {
     "data": {
      "text/plain": [
       "array([-1.45158328])"
      ]
     },
     "execution_count": 70,
     "metadata": {},
     "output_type": "execute_result"
    }
   ],
   "source": [
    "skew(resid)"
   ]
  },
  {
   "cell_type": "code",
   "execution_count": 71,
   "id": "b2cf6b7c",
   "metadata": {},
   "outputs": [],
   "source": [
    "p=model_scaled_lm.predict(x_test)\n"
   ]
  },
  {
   "cell_type": "code",
   "execution_count": 72,
   "id": "ea48d729",
   "metadata": {},
   "outputs": [
    {
     "data": {
      "text/plain": [
       "0.7555033086871293"
      ]
     },
     "execution_count": 72,
     "metadata": {},
     "output_type": "execute_result"
    }
   ],
   "source": [
    "r2_score(y_test,p)"
   ]
  },
  {
   "cell_type": "code",
   "execution_count": 73,
   "id": "25bb1eaa",
   "metadata": {},
   "outputs": [],
   "source": [
    "from sklearn.preprocessing import MinMaxScaler"
   ]
  },
  {
   "cell_type": "code",
   "execution_count": 74,
   "id": "1ac8fb4b",
   "metadata": {},
   "outputs": [],
   "source": [
    "#x_min_scaled=x-min(x)/max(x)-min(x)"
   ]
  },
  {
   "cell_type": "code",
   "execution_count": 75,
   "id": "0c215bf6",
   "metadata": {},
   "outputs": [
    {
     "data": {
      "text/html": [
       "<div>\n",
       "<style scoped>\n",
       "    .dataframe tbody tr th:only-of-type {\n",
       "        vertical-align: middle;\n",
       "    }\n",
       "\n",
       "    .dataframe tbody tr th {\n",
       "        vertical-align: top;\n",
       "    }\n",
       "\n",
       "    .dataframe thead th {\n",
       "        text-align: right;\n",
       "    }\n",
       "</style>\n",
       "<table border=\"1\" class=\"dataframe\">\n",
       "  <thead>\n",
       "    <tr style=\"text-align: right;\">\n",
       "      <th></th>\n",
       "      <th>crim</th>\n",
       "      <th>zn</th>\n",
       "      <th>indus</th>\n",
       "      <th>chas</th>\n",
       "      <th>nox</th>\n",
       "      <th>rm</th>\n",
       "      <th>age</th>\n",
       "      <th>dis</th>\n",
       "      <th>rad</th>\n",
       "      <th>tax</th>\n",
       "      <th>ptratio</th>\n",
       "      <th>black</th>\n",
       "      <th>lstat</th>\n",
       "    </tr>\n",
       "  </thead>\n",
       "  <tbody>\n",
       "    <tr>\n",
       "      <th>0</th>\n",
       "      <td>0.00632</td>\n",
       "      <td>18.0</td>\n",
       "      <td>2.31</td>\n",
       "      <td>0</td>\n",
       "      <td>0.538</td>\n",
       "      <td>6.575</td>\n",
       "      <td>65.2</td>\n",
       "      <td>4.0900</td>\n",
       "      <td>1</td>\n",
       "      <td>296</td>\n",
       "      <td>15.3</td>\n",
       "      <td>396.90</td>\n",
       "      <td>4.98</td>\n",
       "    </tr>\n",
       "    <tr>\n",
       "      <th>1</th>\n",
       "      <td>0.02731</td>\n",
       "      <td>0.0</td>\n",
       "      <td>7.07</td>\n",
       "      <td>0</td>\n",
       "      <td>0.469</td>\n",
       "      <td>6.421</td>\n",
       "      <td>78.9</td>\n",
       "      <td>4.9671</td>\n",
       "      <td>2</td>\n",
       "      <td>242</td>\n",
       "      <td>17.8</td>\n",
       "      <td>396.90</td>\n",
       "      <td>9.14</td>\n",
       "    </tr>\n",
       "    <tr>\n",
       "      <th>2</th>\n",
       "      <td>0.02729</td>\n",
       "      <td>0.0</td>\n",
       "      <td>7.07</td>\n",
       "      <td>0</td>\n",
       "      <td>0.469</td>\n",
       "      <td>7.185</td>\n",
       "      <td>61.1</td>\n",
       "      <td>4.9671</td>\n",
       "      <td>2</td>\n",
       "      <td>242</td>\n",
       "      <td>17.8</td>\n",
       "      <td>392.83</td>\n",
       "      <td>4.03</td>\n",
       "    </tr>\n",
       "    <tr>\n",
       "      <th>3</th>\n",
       "      <td>0.03237</td>\n",
       "      <td>0.0</td>\n",
       "      <td>2.18</td>\n",
       "      <td>0</td>\n",
       "      <td>0.458</td>\n",
       "      <td>6.998</td>\n",
       "      <td>45.8</td>\n",
       "      <td>6.0622</td>\n",
       "      <td>3</td>\n",
       "      <td>222</td>\n",
       "      <td>18.7</td>\n",
       "      <td>394.63</td>\n",
       "      <td>2.94</td>\n",
       "    </tr>\n",
       "    <tr>\n",
       "      <th>4</th>\n",
       "      <td>0.06905</td>\n",
       "      <td>0.0</td>\n",
       "      <td>2.18</td>\n",
       "      <td>0</td>\n",
       "      <td>0.458</td>\n",
       "      <td>7.147</td>\n",
       "      <td>54.2</td>\n",
       "      <td>6.0622</td>\n",
       "      <td>3</td>\n",
       "      <td>222</td>\n",
       "      <td>18.7</td>\n",
       "      <td>396.90</td>\n",
       "      <td>5.33</td>\n",
       "    </tr>\n",
       "    <tr>\n",
       "      <th>...</th>\n",
       "      <td>...</td>\n",
       "      <td>...</td>\n",
       "      <td>...</td>\n",
       "      <td>...</td>\n",
       "      <td>...</td>\n",
       "      <td>...</td>\n",
       "      <td>...</td>\n",
       "      <td>...</td>\n",
       "      <td>...</td>\n",
       "      <td>...</td>\n",
       "      <td>...</td>\n",
       "      <td>...</td>\n",
       "      <td>...</td>\n",
       "    </tr>\n",
       "    <tr>\n",
       "      <th>501</th>\n",
       "      <td>0.06263</td>\n",
       "      <td>0.0</td>\n",
       "      <td>11.93</td>\n",
       "      <td>0</td>\n",
       "      <td>0.573</td>\n",
       "      <td>6.593</td>\n",
       "      <td>69.1</td>\n",
       "      <td>2.4786</td>\n",
       "      <td>1</td>\n",
       "      <td>273</td>\n",
       "      <td>21.0</td>\n",
       "      <td>391.99</td>\n",
       "      <td>9.67</td>\n",
       "    </tr>\n",
       "    <tr>\n",
       "      <th>502</th>\n",
       "      <td>0.04527</td>\n",
       "      <td>0.0</td>\n",
       "      <td>11.93</td>\n",
       "      <td>0</td>\n",
       "      <td>0.573</td>\n",
       "      <td>6.120</td>\n",
       "      <td>76.7</td>\n",
       "      <td>2.2875</td>\n",
       "      <td>1</td>\n",
       "      <td>273</td>\n",
       "      <td>21.0</td>\n",
       "      <td>396.90</td>\n",
       "      <td>9.08</td>\n",
       "    </tr>\n",
       "    <tr>\n",
       "      <th>503</th>\n",
       "      <td>0.06076</td>\n",
       "      <td>0.0</td>\n",
       "      <td>11.93</td>\n",
       "      <td>0</td>\n",
       "      <td>0.573</td>\n",
       "      <td>6.976</td>\n",
       "      <td>91.0</td>\n",
       "      <td>2.1675</td>\n",
       "      <td>1</td>\n",
       "      <td>273</td>\n",
       "      <td>21.0</td>\n",
       "      <td>396.90</td>\n",
       "      <td>5.64</td>\n",
       "    </tr>\n",
       "    <tr>\n",
       "      <th>504</th>\n",
       "      <td>0.10959</td>\n",
       "      <td>0.0</td>\n",
       "      <td>11.93</td>\n",
       "      <td>0</td>\n",
       "      <td>0.573</td>\n",
       "      <td>6.794</td>\n",
       "      <td>89.3</td>\n",
       "      <td>2.3889</td>\n",
       "      <td>1</td>\n",
       "      <td>273</td>\n",
       "      <td>21.0</td>\n",
       "      <td>393.45</td>\n",
       "      <td>6.48</td>\n",
       "    </tr>\n",
       "    <tr>\n",
       "      <th>505</th>\n",
       "      <td>0.04741</td>\n",
       "      <td>0.0</td>\n",
       "      <td>11.93</td>\n",
       "      <td>0</td>\n",
       "      <td>0.573</td>\n",
       "      <td>6.030</td>\n",
       "      <td>80.8</td>\n",
       "      <td>2.5050</td>\n",
       "      <td>1</td>\n",
       "      <td>273</td>\n",
       "      <td>21.0</td>\n",
       "      <td>396.90</td>\n",
       "      <td>7.88</td>\n",
       "    </tr>\n",
       "  </tbody>\n",
       "</table>\n",
       "<p>506 rows × 13 columns</p>\n",
       "</div>"
      ],
      "text/plain": [
       "        crim    zn  indus  chas    nox     rm   age     dis  rad  tax  \\\n",
       "0    0.00632  18.0   2.31     0  0.538  6.575  65.2  4.0900    1  296   \n",
       "1    0.02731   0.0   7.07     0  0.469  6.421  78.9  4.9671    2  242   \n",
       "2    0.02729   0.0   7.07     0  0.469  7.185  61.1  4.9671    2  242   \n",
       "3    0.03237   0.0   2.18     0  0.458  6.998  45.8  6.0622    3  222   \n",
       "4    0.06905   0.0   2.18     0  0.458  7.147  54.2  6.0622    3  222   \n",
       "..       ...   ...    ...   ...    ...    ...   ...     ...  ...  ...   \n",
       "501  0.06263   0.0  11.93     0  0.573  6.593  69.1  2.4786    1  273   \n",
       "502  0.04527   0.0  11.93     0  0.573  6.120  76.7  2.2875    1  273   \n",
       "503  0.06076   0.0  11.93     0  0.573  6.976  91.0  2.1675    1  273   \n",
       "504  0.10959   0.0  11.93     0  0.573  6.794  89.3  2.3889    1  273   \n",
       "505  0.04741   0.0  11.93     0  0.573  6.030  80.8  2.5050    1  273   \n",
       "\n",
       "     ptratio   black  lstat  \n",
       "0       15.3  396.90   4.98  \n",
       "1       17.8  396.90   9.14  \n",
       "2       17.8  392.83   4.03  \n",
       "3       18.7  394.63   2.94  \n",
       "4       18.7  396.90   5.33  \n",
       "..       ...     ...    ...  \n",
       "501     21.0  391.99   9.67  \n",
       "502     21.0  396.90   9.08  \n",
       "503     21.0  396.90   5.64  \n",
       "504     21.0  393.45   6.48  \n",
       "505     21.0  396.90   7.88  \n",
       "\n",
       "[506 rows x 13 columns]"
      ]
     },
     "execution_count": 75,
     "metadata": {},
     "output_type": "execute_result"
    }
   ],
   "source": [
    "x_array=np.array(x)\n",
    "x"
   ]
  },
  {
   "cell_type": "code",
   "execution_count": 76,
   "id": "a0336e34",
   "metadata": {},
   "outputs": [
    {
     "data": {
      "text/plain": [
       "array([[6.3200e-03, 1.8000e+01, 2.3100e+00, ..., 1.5300e+01, 3.9690e+02,\n",
       "        4.9800e+00],\n",
       "       [2.7310e-02, 0.0000e+00, 7.0700e+00, ..., 1.7800e+01, 3.9690e+02,\n",
       "        9.1400e+00],\n",
       "       [2.7290e-02, 0.0000e+00, 7.0700e+00, ..., 1.7800e+01, 3.9283e+02,\n",
       "        4.0300e+00],\n",
       "       ...,\n",
       "       [6.0760e-02, 0.0000e+00, 1.1930e+01, ..., 2.1000e+01, 3.9690e+02,\n",
       "        5.6400e+00],\n",
       "       [1.0959e-01, 0.0000e+00, 1.1930e+01, ..., 2.1000e+01, 3.9345e+02,\n",
       "        6.4800e+00],\n",
       "       [4.7410e-02, 0.0000e+00, 1.1930e+01, ..., 2.1000e+01, 3.9690e+02,\n",
       "        7.8800e+00]])"
      ]
     },
     "execution_count": 76,
     "metadata": {},
     "output_type": "execute_result"
    }
   ],
   "source": [
    "x_array"
   ]
  },
  {
   "cell_type": "code",
   "execution_count": 77,
   "id": "2082994e",
   "metadata": {},
   "outputs": [],
   "source": [
    "x_new=MinMaxScaler().fit_transform(x_array)"
   ]
  },
  {
   "cell_type": "code",
   "execution_count": 78,
   "id": "ce66b4e6",
   "metadata": {},
   "outputs": [
    {
     "data": {
      "text/plain": [
       "array([[0.00000000e+00, 1.80000000e-01, 6.78152493e-02, ...,\n",
       "        2.87234043e-01, 1.00000000e+00, 8.96799117e-02],\n",
       "       [2.35922539e-04, 0.00000000e+00, 2.42302053e-01, ...,\n",
       "        5.53191489e-01, 1.00000000e+00, 2.04470199e-01],\n",
       "       [2.35697744e-04, 0.00000000e+00, 2.42302053e-01, ...,\n",
       "        5.53191489e-01, 9.89737254e-01, 6.34657837e-02],\n",
       "       ...,\n",
       "       [6.11892474e-04, 0.00000000e+00, 4.20454545e-01, ...,\n",
       "        8.93617021e-01, 1.00000000e+00, 1.07891832e-01],\n",
       "       [1.16072990e-03, 0.00000000e+00, 4.20454545e-01, ...,\n",
       "        8.93617021e-01, 9.91300620e-01, 1.31070640e-01],\n",
       "       [4.61841693e-04, 0.00000000e+00, 4.20454545e-01, ...,\n",
       "        8.93617021e-01, 1.00000000e+00, 1.69701987e-01]])"
      ]
     },
     "execution_count": 78,
     "metadata": {},
     "output_type": "execute_result"
    }
   ],
   "source": [
    "x_new"
   ]
  },
  {
   "cell_type": "code",
   "execution_count": null,
   "id": "f9e6c3f0",
   "metadata": {},
   "outputs": [],
   "source": []
  }
 ],
 "metadata": {
  "kernelspec": {
   "display_name": "Python 3",
   "language": "python",
   "name": "python3"
  },
  "language_info": {
   "codemirror_mode": {
    "name": "ipython",
    "version": 3
   },
   "file_extension": ".py",
   "mimetype": "text/x-python",
   "name": "python",
   "nbconvert_exporter": "python",
   "pygments_lexer": "ipython3",
   "version": "3.8.8"
  }
 },
 "nbformat": 4,
 "nbformat_minor": 5
}
