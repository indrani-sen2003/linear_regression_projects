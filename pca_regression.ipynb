{
 "cells": [
  {
   "cell_type": "code",
   "execution_count": 1,
   "id": "317d3c5d",
   "metadata": {},
   "outputs": [],
   "source": [
    "import pandas as pd\n",
    "import numpy as np"
   ]
  },
  {
   "cell_type": "markdown",
   "id": "18bf6099",
   "metadata": {},
   "source": [
    "# importing the dataset"
   ]
  },
  {
   "cell_type": "code",
   "execution_count": 2,
   "id": "cb2326aa",
   "metadata": {},
   "outputs": [
    {
     "name": "stderr",
     "output_type": "stream",
     "text": [
      "C:\\Users\\Indrani Sen\\anaconda3\\lib\\site-packages\\IPython\\core\\interactiveshell.py:3165: DtypeWarning: Columns (1) have mixed types.Specify dtype option on import or set low_memory=False.\n",
      "  has_raised = await self.run_ast_nodes(code_ast.body, cell_name,\n"
     ]
    }
   ],
   "source": [
    "df_nsso=pd.read_csv(\"D:/4. NSSO68 data set.csv\")"
   ]
  },
  {
   "cell_type": "code",
   "execution_count": 3,
   "id": "bdecd62d",
   "metadata": {},
   "outputs": [
    {
     "data": {
      "text/plain": [
       "(101662, 384)"
      ]
     },
     "execution_count": 3,
     "metadata": {},
     "output_type": "execute_result"
    }
   ],
   "source": [
    "df_nsso.shape"
   ]
  },
  {
   "cell_type": "code",
   "execution_count": 5,
   "id": "7a153d12",
   "metadata": {},
   "outputs": [
    {
     "data": {
      "text/plain": [
       "Index(['Unnamed: 0', 'grp', 'Round_Centre', 'FSU_number', 'Round',\n",
       "       'Schedule_Number', 'Sample', 'Sector', 'state', 'State_Region',\n",
       "       ...\n",
       "       'pickle_v', 'sauce_jam_v', 'Othrprocessed_v', 'Beveragestotal_v',\n",
       "       'foodtotal_v', 'foodtotal_q', 'state_1', 'Region', 'fruits_df_tt_v',\n",
       "       'fv_tot'],\n",
       "      dtype='object', length=384)"
      ]
     },
     "execution_count": 5,
     "metadata": {},
     "output_type": "execute_result"
    }
   ],
   "source": [
    "df_nsso.columns"
   ]
  },
  {
   "cell_type": "code",
   "execution_count": 4,
   "id": "adb15b47",
   "metadata": {},
   "outputs": [
    {
     "data": {
      "text/html": [
       "<div>\n",
       "<style scoped>\n",
       "    .dataframe tbody tr th:only-of-type {\n",
       "        vertical-align: middle;\n",
       "    }\n",
       "\n",
       "    .dataframe tbody tr th {\n",
       "        vertical-align: top;\n",
       "    }\n",
       "\n",
       "    .dataframe thead th {\n",
       "        text-align: right;\n",
       "    }\n",
       "</style>\n",
       "<table border=\"1\" class=\"dataframe\">\n",
       "  <thead>\n",
       "    <tr style=\"text-align: right;\">\n",
       "      <th></th>\n",
       "      <th>Unnamed: 0</th>\n",
       "      <th>grp</th>\n",
       "      <th>Round_Centre</th>\n",
       "      <th>FSU_number</th>\n",
       "      <th>Round</th>\n",
       "      <th>Schedule_Number</th>\n",
       "      <th>Sample</th>\n",
       "      <th>Sector</th>\n",
       "      <th>state</th>\n",
       "      <th>State_Region</th>\n",
       "      <th>...</th>\n",
       "      <th>pickle_v</th>\n",
       "      <th>sauce_jam_v</th>\n",
       "      <th>Othrprocessed_v</th>\n",
       "      <th>Beveragestotal_v</th>\n",
       "      <th>foodtotal_v</th>\n",
       "      <th>foodtotal_q</th>\n",
       "      <th>state_1</th>\n",
       "      <th>Region</th>\n",
       "      <th>fruits_df_tt_v</th>\n",
       "      <th>fv_tot</th>\n",
       "    </tr>\n",
       "  </thead>\n",
       "  <tbody>\n",
       "    <tr>\n",
       "      <th>0</th>\n",
       "      <td>1</td>\n",
       "      <td>40999999999999992652495293775872.0</td>\n",
       "      <td>1</td>\n",
       "      <td>41000</td>\n",
       "      <td>68</td>\n",
       "      <td>10</td>\n",
       "      <td>1</td>\n",
       "      <td>2</td>\n",
       "      <td>24</td>\n",
       "      <td>242</td>\n",
       "      <td>...</td>\n",
       "      <td>0.0</td>\n",
       "      <td>0.0</td>\n",
       "      <td>0.0</td>\n",
       "      <td>0.000000</td>\n",
       "      <td>1141.492400</td>\n",
       "      <td>30.942394</td>\n",
       "      <td>GUJ</td>\n",
       "      <td>2</td>\n",
       "      <td>12.000000</td>\n",
       "      <td>154.18</td>\n",
       "    </tr>\n",
       "    <tr>\n",
       "      <th>1</th>\n",
       "      <td>2</td>\n",
       "      <td>40999999999999992652495293775872.0</td>\n",
       "      <td>1</td>\n",
       "      <td>41000</td>\n",
       "      <td>68</td>\n",
       "      <td>10</td>\n",
       "      <td>1</td>\n",
       "      <td>2</td>\n",
       "      <td>24</td>\n",
       "      <td>242</td>\n",
       "      <td>...</td>\n",
       "      <td>0.0</td>\n",
       "      <td>0.0</td>\n",
       "      <td>0.0</td>\n",
       "      <td>17.500000</td>\n",
       "      <td>1244.553500</td>\n",
       "      <td>29.286153</td>\n",
       "      <td>GUJ</td>\n",
       "      <td>2</td>\n",
       "      <td>333.000000</td>\n",
       "      <td>484.95</td>\n",
       "    </tr>\n",
       "    <tr>\n",
       "      <th>2</th>\n",
       "      <td>3</td>\n",
       "      <td>40999999999999992652495293775872.0</td>\n",
       "      <td>1</td>\n",
       "      <td>41000</td>\n",
       "      <td>68</td>\n",
       "      <td>10</td>\n",
       "      <td>1</td>\n",
       "      <td>2</td>\n",
       "      <td>24</td>\n",
       "      <td>242</td>\n",
       "      <td>...</td>\n",
       "      <td>0.0</td>\n",
       "      <td>0.0</td>\n",
       "      <td>0.0</td>\n",
       "      <td>0.000000</td>\n",
       "      <td>1050.315400</td>\n",
       "      <td>31.527046</td>\n",
       "      <td>GUJ</td>\n",
       "      <td>2</td>\n",
       "      <td>35.000000</td>\n",
       "      <td>214.84</td>\n",
       "    </tr>\n",
       "    <tr>\n",
       "      <th>3</th>\n",
       "      <td>4</td>\n",
       "      <td>40999999999999992652495293775872.0</td>\n",
       "      <td>1</td>\n",
       "      <td>41000</td>\n",
       "      <td>68</td>\n",
       "      <td>10</td>\n",
       "      <td>1</td>\n",
       "      <td>2</td>\n",
       "      <td>24</td>\n",
       "      <td>242</td>\n",
       "      <td>...</td>\n",
       "      <td>0.0</td>\n",
       "      <td>0.0</td>\n",
       "      <td>0.0</td>\n",
       "      <td>33.333333</td>\n",
       "      <td>1142.591667</td>\n",
       "      <td>27.834607</td>\n",
       "      <td>GUJ</td>\n",
       "      <td>2</td>\n",
       "      <td>168.333333</td>\n",
       "      <td>302.30</td>\n",
       "    </tr>\n",
       "    <tr>\n",
       "      <th>4</th>\n",
       "      <td>5</td>\n",
       "      <td>40999999999999992652495293775872.0</td>\n",
       "      <td>1</td>\n",
       "      <td>41000</td>\n",
       "      <td>68</td>\n",
       "      <td>10</td>\n",
       "      <td>1</td>\n",
       "      <td>2</td>\n",
       "      <td>24</td>\n",
       "      <td>242</td>\n",
       "      <td>...</td>\n",
       "      <td>0.0</td>\n",
       "      <td>0.0</td>\n",
       "      <td>0.0</td>\n",
       "      <td>75.000000</td>\n",
       "      <td>945.249500</td>\n",
       "      <td>27.600713</td>\n",
       "      <td>GUJ</td>\n",
       "      <td>2</td>\n",
       "      <td>15.000000</td>\n",
       "      <td>148.00</td>\n",
       "    </tr>\n",
       "  </tbody>\n",
       "</table>\n",
       "<p>5 rows × 384 columns</p>\n",
       "</div>"
      ],
      "text/plain": [
       "   Unnamed: 0                                 grp  Round_Centre  FSU_number  \\\n",
       "0           1  40999999999999992652495293775872.0             1       41000   \n",
       "1           2  40999999999999992652495293775872.0             1       41000   \n",
       "2           3  40999999999999992652495293775872.0             1       41000   \n",
       "3           4  40999999999999992652495293775872.0             1       41000   \n",
       "4           5  40999999999999992652495293775872.0             1       41000   \n",
       "\n",
       "   Round  Schedule_Number  Sample  Sector  state  State_Region  ...  pickle_v  \\\n",
       "0     68               10       1       2     24           242  ...       0.0   \n",
       "1     68               10       1       2     24           242  ...       0.0   \n",
       "2     68               10       1       2     24           242  ...       0.0   \n",
       "3     68               10       1       2     24           242  ...       0.0   \n",
       "4     68               10       1       2     24           242  ...       0.0   \n",
       "\n",
       "   sauce_jam_v  Othrprocessed_v  Beveragestotal_v  foodtotal_v  foodtotal_q  \\\n",
       "0          0.0              0.0          0.000000  1141.492400    30.942394   \n",
       "1          0.0              0.0         17.500000  1244.553500    29.286153   \n",
       "2          0.0              0.0          0.000000  1050.315400    31.527046   \n",
       "3          0.0              0.0         33.333333  1142.591667    27.834607   \n",
       "4          0.0              0.0         75.000000   945.249500    27.600713   \n",
       "\n",
       "   state_1  Region  fruits_df_tt_v  fv_tot  \n",
       "0      GUJ       2       12.000000  154.18  \n",
       "1      GUJ       2      333.000000  484.95  \n",
       "2      GUJ       2       35.000000  214.84  \n",
       "3      GUJ       2      168.333333  302.30  \n",
       "4      GUJ       2       15.000000  148.00  \n",
       "\n",
       "[5 rows x 384 columns]"
      ]
     },
     "execution_count": 4,
     "metadata": {},
     "output_type": "execute_result"
    }
   ],
   "source": [
    "df_nsso.head()"
   ]
  },
  {
   "cell_type": "code",
   "execution_count": 6,
   "id": "c10c81e7",
   "metadata": {},
   "outputs": [],
   "source": [
    "df_nsso=df_nsso.drop(\"Unnamed: 0\",axis=1)"
   ]
  },
  {
   "cell_type": "code",
   "execution_count": 7,
   "id": "b1c725ff",
   "metadata": {},
   "outputs": [
    {
     "data": {
      "text/html": [
       "<div>\n",
       "<style scoped>\n",
       "    .dataframe tbody tr th:only-of-type {\n",
       "        vertical-align: middle;\n",
       "    }\n",
       "\n",
       "    .dataframe tbody tr th {\n",
       "        vertical-align: top;\n",
       "    }\n",
       "\n",
       "    .dataframe thead th {\n",
       "        text-align: right;\n",
       "    }\n",
       "</style>\n",
       "<table border=\"1\" class=\"dataframe\">\n",
       "  <thead>\n",
       "    <tr style=\"text-align: right;\">\n",
       "      <th></th>\n",
       "      <th>grp</th>\n",
       "      <th>Round_Centre</th>\n",
       "      <th>FSU_number</th>\n",
       "      <th>Round</th>\n",
       "      <th>Schedule_Number</th>\n",
       "      <th>Sample</th>\n",
       "      <th>Sector</th>\n",
       "      <th>state</th>\n",
       "      <th>State_Region</th>\n",
       "      <th>District</th>\n",
       "      <th>...</th>\n",
       "      <th>pickle_v</th>\n",
       "      <th>sauce_jam_v</th>\n",
       "      <th>Othrprocessed_v</th>\n",
       "      <th>Beveragestotal_v</th>\n",
       "      <th>foodtotal_v</th>\n",
       "      <th>foodtotal_q</th>\n",
       "      <th>state_1</th>\n",
       "      <th>Region</th>\n",
       "      <th>fruits_df_tt_v</th>\n",
       "      <th>fv_tot</th>\n",
       "    </tr>\n",
       "  </thead>\n",
       "  <tbody>\n",
       "    <tr>\n",
       "      <th>0</th>\n",
       "      <td>40999999999999992652495293775872.0</td>\n",
       "      <td>1</td>\n",
       "      <td>41000</td>\n",
       "      <td>68</td>\n",
       "      <td>10</td>\n",
       "      <td>1</td>\n",
       "      <td>2</td>\n",
       "      <td>24</td>\n",
       "      <td>242</td>\n",
       "      <td>7</td>\n",
       "      <td>...</td>\n",
       "      <td>0.0</td>\n",
       "      <td>0.0</td>\n",
       "      <td>0.0</td>\n",
       "      <td>0.000000</td>\n",
       "      <td>1141.492400</td>\n",
       "      <td>30.942394</td>\n",
       "      <td>GUJ</td>\n",
       "      <td>2</td>\n",
       "      <td>12.000000</td>\n",
       "      <td>154.18</td>\n",
       "    </tr>\n",
       "    <tr>\n",
       "      <th>1</th>\n",
       "      <td>40999999999999992652495293775872.0</td>\n",
       "      <td>1</td>\n",
       "      <td>41000</td>\n",
       "      <td>68</td>\n",
       "      <td>10</td>\n",
       "      <td>1</td>\n",
       "      <td>2</td>\n",
       "      <td>24</td>\n",
       "      <td>242</td>\n",
       "      <td>7</td>\n",
       "      <td>...</td>\n",
       "      <td>0.0</td>\n",
       "      <td>0.0</td>\n",
       "      <td>0.0</td>\n",
       "      <td>17.500000</td>\n",
       "      <td>1244.553500</td>\n",
       "      <td>29.286153</td>\n",
       "      <td>GUJ</td>\n",
       "      <td>2</td>\n",
       "      <td>333.000000</td>\n",
       "      <td>484.95</td>\n",
       "    </tr>\n",
       "    <tr>\n",
       "      <th>2</th>\n",
       "      <td>40999999999999992652495293775872.0</td>\n",
       "      <td>1</td>\n",
       "      <td>41000</td>\n",
       "      <td>68</td>\n",
       "      <td>10</td>\n",
       "      <td>1</td>\n",
       "      <td>2</td>\n",
       "      <td>24</td>\n",
       "      <td>242</td>\n",
       "      <td>7</td>\n",
       "      <td>...</td>\n",
       "      <td>0.0</td>\n",
       "      <td>0.0</td>\n",
       "      <td>0.0</td>\n",
       "      <td>0.000000</td>\n",
       "      <td>1050.315400</td>\n",
       "      <td>31.527046</td>\n",
       "      <td>GUJ</td>\n",
       "      <td>2</td>\n",
       "      <td>35.000000</td>\n",
       "      <td>214.84</td>\n",
       "    </tr>\n",
       "    <tr>\n",
       "      <th>3</th>\n",
       "      <td>40999999999999992652495293775872.0</td>\n",
       "      <td>1</td>\n",
       "      <td>41000</td>\n",
       "      <td>68</td>\n",
       "      <td>10</td>\n",
       "      <td>1</td>\n",
       "      <td>2</td>\n",
       "      <td>24</td>\n",
       "      <td>242</td>\n",
       "      <td>7</td>\n",
       "      <td>...</td>\n",
       "      <td>0.0</td>\n",
       "      <td>0.0</td>\n",
       "      <td>0.0</td>\n",
       "      <td>33.333333</td>\n",
       "      <td>1142.591667</td>\n",
       "      <td>27.834607</td>\n",
       "      <td>GUJ</td>\n",
       "      <td>2</td>\n",
       "      <td>168.333333</td>\n",
       "      <td>302.30</td>\n",
       "    </tr>\n",
       "    <tr>\n",
       "      <th>4</th>\n",
       "      <td>40999999999999992652495293775872.0</td>\n",
       "      <td>1</td>\n",
       "      <td>41000</td>\n",
       "      <td>68</td>\n",
       "      <td>10</td>\n",
       "      <td>1</td>\n",
       "      <td>2</td>\n",
       "      <td>24</td>\n",
       "      <td>242</td>\n",
       "      <td>7</td>\n",
       "      <td>...</td>\n",
       "      <td>0.0</td>\n",
       "      <td>0.0</td>\n",
       "      <td>0.0</td>\n",
       "      <td>75.000000</td>\n",
       "      <td>945.249500</td>\n",
       "      <td>27.600713</td>\n",
       "      <td>GUJ</td>\n",
       "      <td>2</td>\n",
       "      <td>15.000000</td>\n",
       "      <td>148.00</td>\n",
       "    </tr>\n",
       "  </tbody>\n",
       "</table>\n",
       "<p>5 rows × 383 columns</p>\n",
       "</div>"
      ],
      "text/plain": [
       "                                  grp  Round_Centre  FSU_number  Round  \\\n",
       "0  40999999999999992652495293775872.0             1       41000     68   \n",
       "1  40999999999999992652495293775872.0             1       41000     68   \n",
       "2  40999999999999992652495293775872.0             1       41000     68   \n",
       "3  40999999999999992652495293775872.0             1       41000     68   \n",
       "4  40999999999999992652495293775872.0             1       41000     68   \n",
       "\n",
       "   Schedule_Number  Sample  Sector  state  State_Region  District  ...  \\\n",
       "0               10       1       2     24           242         7  ...   \n",
       "1               10       1       2     24           242         7  ...   \n",
       "2               10       1       2     24           242         7  ...   \n",
       "3               10       1       2     24           242         7  ...   \n",
       "4               10       1       2     24           242         7  ...   \n",
       "\n",
       "   pickle_v  sauce_jam_v  Othrprocessed_v  Beveragestotal_v  foodtotal_v  \\\n",
       "0       0.0          0.0              0.0          0.000000  1141.492400   \n",
       "1       0.0          0.0              0.0         17.500000  1244.553500   \n",
       "2       0.0          0.0              0.0          0.000000  1050.315400   \n",
       "3       0.0          0.0              0.0         33.333333  1142.591667   \n",
       "4       0.0          0.0              0.0         75.000000   945.249500   \n",
       "\n",
       "   foodtotal_q  state_1  Region  fruits_df_tt_v  fv_tot  \n",
       "0    30.942394      GUJ       2       12.000000  154.18  \n",
       "1    29.286153      GUJ       2      333.000000  484.95  \n",
       "2    31.527046      GUJ       2       35.000000  214.84  \n",
       "3    27.834607      GUJ       2      168.333333  302.30  \n",
       "4    27.600713      GUJ       2       15.000000  148.00  \n",
       "\n",
       "[5 rows x 383 columns]"
      ]
     },
     "execution_count": 7,
     "metadata": {},
     "output_type": "execute_result"
    }
   ],
   "source": [
    "df_nsso.head()"
   ]
  },
  {
   "cell_type": "code",
   "execution_count": 8,
   "id": "f83a4852",
   "metadata": {},
   "outputs": [
    {
     "data": {
      "text/plain": [
       "Index(['grp', 'Round_Centre', 'FSU_number', 'Round', 'Schedule_Number',\n",
       "       'Sample', 'Sector', 'state', 'State_Region', 'District',\n",
       "       ...\n",
       "       'pickle_v', 'sauce_jam_v', 'Othrprocessed_v', 'Beveragestotal_v',\n",
       "       'foodtotal_v', 'foodtotal_q', 'state_1', 'Region', 'fruits_df_tt_v',\n",
       "       'fv_tot'],\n",
       "      dtype='object', length=383)"
      ]
     },
     "execution_count": 8,
     "metadata": {},
     "output_type": "execute_result"
    }
   ],
   "source": [
    "df_nsso.columns"
   ]
  },
  {
   "cell_type": "code",
   "execution_count": 9,
   "id": "9f6bc6a5",
   "metadata": {},
   "outputs": [
    {
     "data": {
      "text/plain": [
       "50"
      ]
     },
     "execution_count": 9,
     "metadata": {},
     "output_type": "execute_result"
    }
   ],
   "source": [
    "df_nsso.columns.get_loc(\"MPCE_MRP\")"
   ]
  },
  {
   "cell_type": "code",
   "execution_count": 10,
   "id": "207bbf40",
   "metadata": {},
   "outputs": [
    {
     "data": {
      "text/plain": [
       "grp                 object\n",
       "Round_Centre         int64\n",
       "FSU_number           int64\n",
       "Round                int64\n",
       "Schedule_Number      int64\n",
       "                    ...   \n",
       "foodtotal_q        float64\n",
       "state_1             object\n",
       "Region               int64\n",
       "fruits_df_tt_v     float64\n",
       "fv_tot             float64\n",
       "Length: 383, dtype: object"
      ]
     },
     "execution_count": 10,
     "metadata": {},
     "output_type": "execute_result"
    }
   ],
   "source": [
    "df_nsso.dtypes"
   ]
  },
  {
   "cell_type": "code",
   "execution_count": null,
   "id": "044f7ed1",
   "metadata": {},
   "outputs": [],
   "source": [
    "#target variable MPCE\tMonthly Per-capita Consumer Expenditure\n",
    "#In India, there were two main ways of collecting data: Uniform Reference Period (URP) and Mixed Reference Period (MRP). \n",
    "#Up until 1993-94, the poverty line was based on URP data. \n",
    "#This involved asking people about their consumption expenditure across a 30-day recall period. \n",
    "#Since 1999-2000, however, data are being collected according to MRP. \n",
    "#Under this method, data on five less-frequently used items are collected over a one-year period, \n",
    "#while sticking to the 30-day recall for the rest of the items."
   ]
  },
  {
   "cell_type": "code",
   "execution_count": 14,
   "id": "ff810e5e",
   "metadata": {},
   "outputs": [
    {
     "data": {
      "text/plain": [
       "Index(['grp', 'state_1'], dtype='object')"
      ]
     },
     "execution_count": 14,
     "metadata": {},
     "output_type": "execute_result"
    }
   ],
   "source": [
    "i=df_nsso.dtypes[df_nsso.dtypes==\"object\"].index\n",
    "i"
   ]
  },
  {
   "cell_type": "code",
   "execution_count": 15,
   "id": "67c3448a",
   "metadata": {},
   "outputs": [],
   "source": [
    "df_nsso=df_nsso.drop(i,axis=1)"
   ]
  },
  {
   "cell_type": "code",
   "execution_count": 16,
   "id": "1473f0d4",
   "metadata": {},
   "outputs": [
    {
     "data": {
      "text/plain": [
       "Index([], dtype='object')"
      ]
     },
     "execution_count": 16,
     "metadata": {},
     "output_type": "execute_result"
    }
   ],
   "source": [
    "df_nsso.dtypes[df_nsso.dtypes==\"object\"].index"
   ]
  },
  {
   "cell_type": "code",
   "execution_count": null,
   "id": "4cc6141a",
   "metadata": {},
   "outputs": [],
   "source": [
    "#missing values"
   ]
  },
  {
   "cell_type": "code",
   "execution_count": 17,
   "id": "bb3ec6a7",
   "metadata": {},
   "outputs": [
    {
     "data": {
      "text/plain": [
       "Round_Centre       0\n",
       "FSU_number         0\n",
       "Round              0\n",
       "Schedule_Number    0\n",
       "Sample             0\n",
       "                  ..\n",
       "foodtotal_v        0\n",
       "foodtotal_q        0\n",
       "Region             0\n",
       "fruits_df_tt_v     0\n",
       "fv_tot             0\n",
       "Length: 381, dtype: int64"
      ]
     },
     "execution_count": 17,
     "metadata": {},
     "output_type": "execute_result"
    }
   ],
   "source": [
    "df_nsso.isna().sum()"
   ]
  },
  {
   "cell_type": "code",
   "execution_count": 18,
   "id": "7cb432e1",
   "metadata": {},
   "outputs": [],
   "source": [
    "df_missing=df_nsso.isna().sum()\n"
   ]
  },
  {
   "cell_type": "code",
   "execution_count": 19,
   "id": "34ca9ed2",
   "metadata": {},
   "outputs": [
    {
     "data": {
      "text/plain": [
       "FOD_Sub_Region                          8\n",
       "NIC_2008                             7511\n",
       "NCO_2004                             7487\n",
       "HH_type                                27\n",
       "Religion                                3\n",
       "Social_Group                           14\n",
       "Whether_owns_any_land                  10\n",
       "Type_of_land_owned                  13905\n",
       "Land_Owned                          14415\n",
       "Land_Leased_in                      83852\n",
       "Otherwise_possessed                 97383\n",
       "Land_Leased_out                     96800\n",
       "Land_Total_possessed                  439\n",
       "During_July_June_Cultivated         59682\n",
       "During_July_June_Irrigated          77148\n",
       "land_tt                               439\n",
       "Cooking_code                            5\n",
       "Lighting_code                           8\n",
       "Dwelling_unit_code                      7\n",
       "Regular_salary_earner                  12\n",
       "Perform_Ceremony                       64\n",
       "Meals_seved_to_non_hhld_members     11385\n",
       "Possess_ration_card                    13\n",
       "Type_of_ration_card                 20762\n",
       "Marital_Status                          2\n",
       "Education                               7\n",
       "Days_Stayed_away                    72608\n",
       "No_of_Meals_per_day                    25\n",
       "Meals_School                        89160\n",
       "Meals_Employer                      88219\n",
       "Meals_Others                        78724\n",
       "Meals_Payment                       81145\n",
       "Meals_At_Home                        1219\n",
       "Source_Code                           769\n",
       "soyabean_q                         101662\n",
       "soyabean_v                         101662\n",
       "dtype: int64"
      ]
     },
     "execution_count": 19,
     "metadata": {},
     "output_type": "execute_result"
    }
   ],
   "source": [
    "df_missing[df_missing>0]"
   ]
  },
  {
   "cell_type": "code",
   "execution_count": 20,
   "id": "5e35a3dc",
   "metadata": {},
   "outputs": [],
   "source": [
    "df_missing=df_missing[df_missing>0]"
   ]
  },
  {
   "cell_type": "code",
   "execution_count": 21,
   "id": "78f577d8",
   "metadata": {},
   "outputs": [
    {
     "data": {
      "text/plain": [
       "Index(['FOD_Sub_Region', 'NIC_2008', 'NCO_2004', 'HH_type', 'Religion',\n",
       "       'Social_Group', 'Whether_owns_any_land', 'Type_of_land_owned',\n",
       "       'Land_Owned', 'Land_Leased_in', 'Otherwise_possessed',\n",
       "       'Land_Leased_out', 'Land_Total_possessed',\n",
       "       'During_July_June_Cultivated', 'During_July_June_Irrigated', 'land_tt',\n",
       "       'Cooking_code', 'Lighting_code', 'Dwelling_unit_code',\n",
       "       'Regular_salary_earner', 'Perform_Ceremony',\n",
       "       'Meals_seved_to_non_hhld_members', 'Possess_ration_card',\n",
       "       'Type_of_ration_card', 'Marital_Status', 'Education',\n",
       "       'Days_Stayed_away', 'No_of_Meals_per_day', 'Meals_School',\n",
       "       'Meals_Employer', 'Meals_Others', 'Meals_Payment', 'Meals_At_Home',\n",
       "       'Source_Code', 'soyabean_q', 'soyabean_v'],\n",
       "      dtype='object')"
      ]
     },
     "execution_count": 21,
     "metadata": {},
     "output_type": "execute_result"
    }
   ],
   "source": [
    "df_missing.index"
   ]
  },
  {
   "cell_type": "code",
   "execution_count": 22,
   "id": "d1ddf1f4",
   "metadata": {},
   "outputs": [],
   "source": [
    "df_nsso=df_nsso.drop(df_missing.index,axis=1)"
   ]
  },
  {
   "cell_type": "code",
   "execution_count": 23,
   "id": "c0e54b95",
   "metadata": {},
   "outputs": [
    {
     "data": {
      "text/html": [
       "<div>\n",
       "<style scoped>\n",
       "    .dataframe tbody tr th:only-of-type {\n",
       "        vertical-align: middle;\n",
       "    }\n",
       "\n",
       "    .dataframe tbody tr th {\n",
       "        vertical-align: top;\n",
       "    }\n",
       "\n",
       "    .dataframe thead th {\n",
       "        text-align: right;\n",
       "    }\n",
       "</style>\n",
       "<table border=\"1\" class=\"dataframe\">\n",
       "  <thead>\n",
       "    <tr style=\"text-align: right;\">\n",
       "      <th></th>\n",
       "      <th>Round_Centre</th>\n",
       "      <th>FSU_number</th>\n",
       "      <th>Round</th>\n",
       "      <th>Schedule_Number</th>\n",
       "      <th>Sample</th>\n",
       "      <th>Sector</th>\n",
       "      <th>state</th>\n",
       "      <th>State_Region</th>\n",
       "      <th>District</th>\n",
       "      <th>Stratum_Number</th>\n",
       "      <th>...</th>\n",
       "      <th>preparedsweet_v</th>\n",
       "      <th>pickle_v</th>\n",
       "      <th>sauce_jam_v</th>\n",
       "      <th>Othrprocessed_v</th>\n",
       "      <th>Beveragestotal_v</th>\n",
       "      <th>foodtotal_v</th>\n",
       "      <th>foodtotal_q</th>\n",
       "      <th>Region</th>\n",
       "      <th>fruits_df_tt_v</th>\n",
       "      <th>fv_tot</th>\n",
       "    </tr>\n",
       "  </thead>\n",
       "  <tbody>\n",
       "    <tr>\n",
       "      <th>Round_Centre</th>\n",
       "      <td>NaN</td>\n",
       "      <td>NaN</td>\n",
       "      <td>NaN</td>\n",
       "      <td>NaN</td>\n",
       "      <td>NaN</td>\n",
       "      <td>NaN</td>\n",
       "      <td>NaN</td>\n",
       "      <td>NaN</td>\n",
       "      <td>NaN</td>\n",
       "      <td>NaN</td>\n",
       "      <td>...</td>\n",
       "      <td>NaN</td>\n",
       "      <td>NaN</td>\n",
       "      <td>NaN</td>\n",
       "      <td>NaN</td>\n",
       "      <td>NaN</td>\n",
       "      <td>NaN</td>\n",
       "      <td>NaN</td>\n",
       "      <td>NaN</td>\n",
       "      <td>NaN</td>\n",
       "      <td>NaN</td>\n",
       "    </tr>\n",
       "    <tr>\n",
       "      <th>FSU_number</th>\n",
       "      <td>NaN</td>\n",
       "      <td>1.000000</td>\n",
       "      <td>NaN</td>\n",
       "      <td>NaN</td>\n",
       "      <td>NaN</td>\n",
       "      <td>-0.983359</td>\n",
       "      <td>-0.177290</td>\n",
       "      <td>-0.176650</td>\n",
       "      <td>0.054673</td>\n",
       "      <td>-0.043205</td>\n",
       "      <td>...</td>\n",
       "      <td>-0.090445</td>\n",
       "      <td>-0.078351</td>\n",
       "      <td>-0.101913</td>\n",
       "      <td>-0.004851</td>\n",
       "      <td>-0.064395</td>\n",
       "      <td>-0.149950</td>\n",
       "      <td>0.067969</td>\n",
       "      <td>0.016304</td>\n",
       "      <td>-0.174930</td>\n",
       "      <td>-0.199785</td>\n",
       "    </tr>\n",
       "    <tr>\n",
       "      <th>Round</th>\n",
       "      <td>NaN</td>\n",
       "      <td>NaN</td>\n",
       "      <td>NaN</td>\n",
       "      <td>NaN</td>\n",
       "      <td>NaN</td>\n",
       "      <td>NaN</td>\n",
       "      <td>NaN</td>\n",
       "      <td>NaN</td>\n",
       "      <td>NaN</td>\n",
       "      <td>NaN</td>\n",
       "      <td>...</td>\n",
       "      <td>NaN</td>\n",
       "      <td>NaN</td>\n",
       "      <td>NaN</td>\n",
       "      <td>NaN</td>\n",
       "      <td>NaN</td>\n",
       "      <td>NaN</td>\n",
       "      <td>NaN</td>\n",
       "      <td>NaN</td>\n",
       "      <td>NaN</td>\n",
       "      <td>NaN</td>\n",
       "    </tr>\n",
       "    <tr>\n",
       "      <th>Schedule_Number</th>\n",
       "      <td>NaN</td>\n",
       "      <td>NaN</td>\n",
       "      <td>NaN</td>\n",
       "      <td>NaN</td>\n",
       "      <td>NaN</td>\n",
       "      <td>NaN</td>\n",
       "      <td>NaN</td>\n",
       "      <td>NaN</td>\n",
       "      <td>NaN</td>\n",
       "      <td>NaN</td>\n",
       "      <td>...</td>\n",
       "      <td>NaN</td>\n",
       "      <td>NaN</td>\n",
       "      <td>NaN</td>\n",
       "      <td>NaN</td>\n",
       "      <td>NaN</td>\n",
       "      <td>NaN</td>\n",
       "      <td>NaN</td>\n",
       "      <td>NaN</td>\n",
       "      <td>NaN</td>\n",
       "      <td>NaN</td>\n",
       "    </tr>\n",
       "    <tr>\n",
       "      <th>Sample</th>\n",
       "      <td>NaN</td>\n",
       "      <td>NaN</td>\n",
       "      <td>NaN</td>\n",
       "      <td>NaN</td>\n",
       "      <td>NaN</td>\n",
       "      <td>NaN</td>\n",
       "      <td>NaN</td>\n",
       "      <td>NaN</td>\n",
       "      <td>NaN</td>\n",
       "      <td>NaN</td>\n",
       "      <td>...</td>\n",
       "      <td>NaN</td>\n",
       "      <td>NaN</td>\n",
       "      <td>NaN</td>\n",
       "      <td>NaN</td>\n",
       "      <td>NaN</td>\n",
       "      <td>NaN</td>\n",
       "      <td>NaN</td>\n",
       "      <td>NaN</td>\n",
       "      <td>NaN</td>\n",
       "      <td>NaN</td>\n",
       "    </tr>\n",
       "    <tr>\n",
       "      <th>...</th>\n",
       "      <td>...</td>\n",
       "      <td>...</td>\n",
       "      <td>...</td>\n",
       "      <td>...</td>\n",
       "      <td>...</td>\n",
       "      <td>...</td>\n",
       "      <td>...</td>\n",
       "      <td>...</td>\n",
       "      <td>...</td>\n",
       "      <td>...</td>\n",
       "      <td>...</td>\n",
       "      <td>...</td>\n",
       "      <td>...</td>\n",
       "      <td>...</td>\n",
       "      <td>...</td>\n",
       "      <td>...</td>\n",
       "      <td>...</td>\n",
       "      <td>...</td>\n",
       "      <td>...</td>\n",
       "      <td>...</td>\n",
       "      <td>...</td>\n",
       "    </tr>\n",
       "    <tr>\n",
       "      <th>foodtotal_v</th>\n",
       "      <td>NaN</td>\n",
       "      <td>-0.149950</td>\n",
       "      <td>NaN</td>\n",
       "      <td>NaN</td>\n",
       "      <td>NaN</td>\n",
       "      <td>0.169540</td>\n",
       "      <td>-0.087064</td>\n",
       "      <td>-0.088216</td>\n",
       "      <td>-0.118092</td>\n",
       "      <td>-0.068891</td>\n",
       "      <td>...</td>\n",
       "      <td>0.361161</td>\n",
       "      <td>0.196422</td>\n",
       "      <td>0.196034</td>\n",
       "      <td>0.228803</td>\n",
       "      <td>0.389706</td>\n",
       "      <td>1.000000</td>\n",
       "      <td>0.787934</td>\n",
       "      <td>-0.099036</td>\n",
       "      <td>0.555499</td>\n",
       "      <td>0.718523</td>\n",
       "    </tr>\n",
       "    <tr>\n",
       "      <th>foodtotal_q</th>\n",
       "      <td>NaN</td>\n",
       "      <td>0.067969</td>\n",
       "      <td>NaN</td>\n",
       "      <td>NaN</td>\n",
       "      <td>NaN</td>\n",
       "      <td>-0.028308</td>\n",
       "      <td>-0.269094</td>\n",
       "      <td>-0.268714</td>\n",
       "      <td>0.001541</td>\n",
       "      <td>-0.006701</td>\n",
       "      <td>...</td>\n",
       "      <td>0.234958</td>\n",
       "      <td>0.117884</td>\n",
       "      <td>0.096306</td>\n",
       "      <td>0.002165</td>\n",
       "      <td>0.103886</td>\n",
       "      <td>0.787934</td>\n",
       "      <td>1.000000</td>\n",
       "      <td>-0.018409</td>\n",
       "      <td>0.352738</td>\n",
       "      <td>0.556096</td>\n",
       "    </tr>\n",
       "    <tr>\n",
       "      <th>Region</th>\n",
       "      <td>NaN</td>\n",
       "      <td>0.016304</td>\n",
       "      <td>NaN</td>\n",
       "      <td>NaN</td>\n",
       "      <td>NaN</td>\n",
       "      <td>-0.024192</td>\n",
       "      <td>0.164806</td>\n",
       "      <td>0.178116</td>\n",
       "      <td>0.259461</td>\n",
       "      <td>0.189453</td>\n",
       "      <td>...</td>\n",
       "      <td>-0.012871</td>\n",
       "      <td>-0.041888</td>\n",
       "      <td>-0.033557</td>\n",
       "      <td>-0.007688</td>\n",
       "      <td>-0.030658</td>\n",
       "      <td>-0.099036</td>\n",
       "      <td>-0.018409</td>\n",
       "      <td>1.000000</td>\n",
       "      <td>-0.014251</td>\n",
       "      <td>-0.092825</td>\n",
       "    </tr>\n",
       "    <tr>\n",
       "      <th>fruits_df_tt_v</th>\n",
       "      <td>NaN</td>\n",
       "      <td>-0.174930</td>\n",
       "      <td>NaN</td>\n",
       "      <td>NaN</td>\n",
       "      <td>NaN</td>\n",
       "      <td>0.179982</td>\n",
       "      <td>0.107079</td>\n",
       "      <td>0.106632</td>\n",
       "      <td>0.005735</td>\n",
       "      <td>0.039583</td>\n",
       "      <td>...</td>\n",
       "      <td>0.269367</td>\n",
       "      <td>0.167347</td>\n",
       "      <td>0.224215</td>\n",
       "      <td>0.015435</td>\n",
       "      <td>0.154347</td>\n",
       "      <td>0.555499</td>\n",
       "      <td>0.352738</td>\n",
       "      <td>-0.014251</td>\n",
       "      <td>1.000000</td>\n",
       "      <td>0.811569</td>\n",
       "    </tr>\n",
       "    <tr>\n",
       "      <th>fv_tot</th>\n",
       "      <td>NaN</td>\n",
       "      <td>-0.199785</td>\n",
       "      <td>NaN</td>\n",
       "      <td>NaN</td>\n",
       "      <td>NaN</td>\n",
       "      <td>0.199041</td>\n",
       "      <td>0.048699</td>\n",
       "      <td>0.047313</td>\n",
       "      <td>-0.053705</td>\n",
       "      <td>-0.005308</td>\n",
       "      <td>...</td>\n",
       "      <td>0.285971</td>\n",
       "      <td>0.210320</td>\n",
       "      <td>0.210049</td>\n",
       "      <td>0.016633</td>\n",
       "      <td>0.171546</td>\n",
       "      <td>0.718523</td>\n",
       "      <td>0.556096</td>\n",
       "      <td>-0.092825</td>\n",
       "      <td>0.811569</td>\n",
       "      <td>1.000000</td>\n",
       "    </tr>\n",
       "  </tbody>\n",
       "</table>\n",
       "<p>345 rows × 345 columns</p>\n",
       "</div>"
      ],
      "text/plain": [
       "                 Round_Centre  FSU_number  Round  Schedule_Number  Sample  \\\n",
       "Round_Centre              NaN         NaN    NaN              NaN     NaN   \n",
       "FSU_number                NaN    1.000000    NaN              NaN     NaN   \n",
       "Round                     NaN         NaN    NaN              NaN     NaN   \n",
       "Schedule_Number           NaN         NaN    NaN              NaN     NaN   \n",
       "Sample                    NaN         NaN    NaN              NaN     NaN   \n",
       "...                       ...         ...    ...              ...     ...   \n",
       "foodtotal_v               NaN   -0.149950    NaN              NaN     NaN   \n",
       "foodtotal_q               NaN    0.067969    NaN              NaN     NaN   \n",
       "Region                    NaN    0.016304    NaN              NaN     NaN   \n",
       "fruits_df_tt_v            NaN   -0.174930    NaN              NaN     NaN   \n",
       "fv_tot                    NaN   -0.199785    NaN              NaN     NaN   \n",
       "\n",
       "                   Sector     state  State_Region  District  Stratum_Number  \\\n",
       "Round_Centre          NaN       NaN           NaN       NaN             NaN   \n",
       "FSU_number      -0.983359 -0.177290     -0.176650  0.054673       -0.043205   \n",
       "Round                 NaN       NaN           NaN       NaN             NaN   \n",
       "Schedule_Number       NaN       NaN           NaN       NaN             NaN   \n",
       "Sample                NaN       NaN           NaN       NaN             NaN   \n",
       "...                   ...       ...           ...       ...             ...   \n",
       "foodtotal_v      0.169540 -0.087064     -0.088216 -0.118092       -0.068891   \n",
       "foodtotal_q     -0.028308 -0.269094     -0.268714  0.001541       -0.006701   \n",
       "Region          -0.024192  0.164806      0.178116  0.259461        0.189453   \n",
       "fruits_df_tt_v   0.179982  0.107079      0.106632  0.005735        0.039583   \n",
       "fv_tot           0.199041  0.048699      0.047313 -0.053705       -0.005308   \n",
       "\n",
       "                 ...  preparedsweet_v  pickle_v  sauce_jam_v  Othrprocessed_v  \\\n",
       "Round_Centre     ...              NaN       NaN          NaN              NaN   \n",
       "FSU_number       ...        -0.090445 -0.078351    -0.101913        -0.004851   \n",
       "Round            ...              NaN       NaN          NaN              NaN   \n",
       "Schedule_Number  ...              NaN       NaN          NaN              NaN   \n",
       "Sample           ...              NaN       NaN          NaN              NaN   \n",
       "...              ...              ...       ...          ...              ...   \n",
       "foodtotal_v      ...         0.361161  0.196422     0.196034         0.228803   \n",
       "foodtotal_q      ...         0.234958  0.117884     0.096306         0.002165   \n",
       "Region           ...        -0.012871 -0.041888    -0.033557        -0.007688   \n",
       "fruits_df_tt_v   ...         0.269367  0.167347     0.224215         0.015435   \n",
       "fv_tot           ...         0.285971  0.210320     0.210049         0.016633   \n",
       "\n",
       "                 Beveragestotal_v  foodtotal_v  foodtotal_q    Region  \\\n",
       "Round_Centre                  NaN          NaN          NaN       NaN   \n",
       "FSU_number              -0.064395    -0.149950     0.067969  0.016304   \n",
       "Round                         NaN          NaN          NaN       NaN   \n",
       "Schedule_Number               NaN          NaN          NaN       NaN   \n",
       "Sample                        NaN          NaN          NaN       NaN   \n",
       "...                           ...          ...          ...       ...   \n",
       "foodtotal_v              0.389706     1.000000     0.787934 -0.099036   \n",
       "foodtotal_q              0.103886     0.787934     1.000000 -0.018409   \n",
       "Region                  -0.030658    -0.099036    -0.018409  1.000000   \n",
       "fruits_df_tt_v           0.154347     0.555499     0.352738 -0.014251   \n",
       "fv_tot                   0.171546     0.718523     0.556096 -0.092825   \n",
       "\n",
       "                 fruits_df_tt_v    fv_tot  \n",
       "Round_Centre                NaN       NaN  \n",
       "FSU_number            -0.174930 -0.199785  \n",
       "Round                       NaN       NaN  \n",
       "Schedule_Number             NaN       NaN  \n",
       "Sample                      NaN       NaN  \n",
       "...                         ...       ...  \n",
       "foodtotal_v            0.555499  0.718523  \n",
       "foodtotal_q            0.352738  0.556096  \n",
       "Region                -0.014251 -0.092825  \n",
       "fruits_df_tt_v         1.000000  0.811569  \n",
       "fv_tot                 0.811569  1.000000  \n",
       "\n",
       "[345 rows x 345 columns]"
      ]
     },
     "execution_count": 23,
     "metadata": {},
     "output_type": "execute_result"
    }
   ],
   "source": [
    "df_nsso.corr()"
   ]
  },
  {
   "cell_type": "code",
   "execution_count": 32,
   "id": "b3479588",
   "metadata": {},
   "outputs": [],
   "source": [
    "df_corr=df_nsso.corr()[\"MPCE_MRP\"]>.3"
   ]
  },
  {
   "cell_type": "code",
   "execution_count": null,
   "id": "a803f983",
   "metadata": {},
   "outputs": [],
   "source": []
  },
  {
   "cell_type": "code",
   "execution_count": 33,
   "id": "a2e6d342",
   "metadata": {},
   "outputs": [
    {
     "data": {
      "text/plain": [
       "Index(['MPCE_URP', 'MPCE_MRP', 'milk_q', 'milkprott_q', 'edibletotal_q',\n",
       "       'bananano_q', 'apple_q', 'fruitt_total', 'spicetot_q', 'spicestotal_q',\n",
       "       'pulsestot_v', 'pulsestt_v', 'milk_v', 'Milktotal_v', 'milkprott_v',\n",
       "       'edibletotal_v', 'emftt_v', 'onion_v', 'tamato_v', 'vegtt_v',\n",
       "       'bananano_v', 'apple_v', 'dftt_v', 'sugartotal_v', 'spicetot_v',\n",
       "       'spicestotal_v', 'Biscuits_v', 'foodtotal_v', 'foodtotal_q',\n",
       "       'fruits_df_tt_v', 'fv_tot'],\n",
       "      dtype='object')"
      ]
     },
     "execution_count": 33,
     "metadata": {},
     "output_type": "execute_result"
    }
   ],
   "source": [
    "df_col=df_corr[df_corr==True].index\n",
    "df_col"
   ]
  },
  {
   "cell_type": "code",
   "execution_count": 34,
   "id": "71e58514",
   "metadata": {},
   "outputs": [],
   "source": [
    "x=df_nsso.loc[:,df_col]\n"
   ]
  },
  {
   "cell_type": "code",
   "execution_count": 36,
   "id": "09520a44",
   "metadata": {},
   "outputs": [
    {
     "data": {
      "text/plain": [
       "(101662, 31)"
      ]
     },
     "execution_count": 36,
     "metadata": {},
     "output_type": "execute_result"
    }
   ],
   "source": [
    "x.shape"
   ]
  },
  {
   "cell_type": "code",
   "execution_count": 37,
   "id": "27fd981a",
   "metadata": {},
   "outputs": [
    {
     "data": {
      "text/plain": [
       "(101662, 30)"
      ]
     },
     "execution_count": 37,
     "metadata": {},
     "output_type": "execute_result"
    }
   ],
   "source": [
    "#removing target variable\n",
    "x=x.drop(\"MPCE_MRP\",axis=1)\n",
    "x.head()\n",
    "x.shape"
   ]
  },
  {
   "cell_type": "code",
   "execution_count": 38,
   "id": "5d2df0c9",
   "metadata": {},
   "outputs": [
    {
     "data": {
      "text/plain": [
       "Series([], dtype: int64)"
      ]
     },
     "execution_count": 38,
     "metadata": {},
     "output_type": "execute_result"
    }
   ],
   "source": [
    "x_missing=x.isna().sum()\n",
    "\n",
    "x_missing[x_missing==True]\n"
   ]
  },
  {
   "cell_type": "code",
   "execution_count": 39,
   "id": "c503e2c3",
   "metadata": {},
   "outputs": [
    {
     "data": {
      "text/plain": [
       "25"
      ]
     },
     "execution_count": 39,
     "metadata": {},
     "output_type": "execute_result"
    }
   ],
   "source": [
    "df_nsso.columns.get_loc(\"MPCE_MRP\")"
   ]
  },
  {
   "cell_type": "code",
   "execution_count": 40,
   "id": "9a60714c",
   "metadata": {},
   "outputs": [
    {
     "data": {
      "text/plain": [
       "0    3662.65\n",
       "1    5624.51\n",
       "2    3657.18\n",
       "3    3260.37\n",
       "4    2627.54\n",
       "Name: MPCE_MRP, dtype: float64"
      ]
     },
     "execution_count": 40,
     "metadata": {},
     "output_type": "execute_result"
    }
   ],
   "source": [
    "y=df_nsso.iloc[:,25]\n",
    "y.head()"
   ]
  },
  {
   "cell_type": "code",
   "execution_count": 41,
   "id": "bde3a214",
   "metadata": {},
   "outputs": [],
   "source": [
    "from sklearn.model_selection import train_test_split\n",
    "from sklearn.linear_model import LinearRegression\n",
    "from sklearn.metrics import r2_score\n",
    "x_tr,x_test,y_tr,y_test=train_test_split(x,y,test_size=.2)"
   ]
  },
  {
   "cell_type": "code",
   "execution_count": 42,
   "id": "e58bd02a",
   "metadata": {},
   "outputs": [],
   "source": [
    "lm_model=LinearRegression().fit(x_tr,y_tr)"
   ]
  },
  {
   "cell_type": "code",
   "execution_count": 43,
   "id": "f54d5892",
   "metadata": {},
   "outputs": [],
   "source": [
    "p=lm_model.predict(x_test)"
   ]
  },
  {
   "cell_type": "code",
   "execution_count": 44,
   "id": "b46a9c1f",
   "metadata": {},
   "outputs": [
    {
     "data": {
      "text/plain": [
       "0.565860680797452"
      ]
     },
     "execution_count": 44,
     "metadata": {},
     "output_type": "execute_result"
    }
   ],
   "source": [
    "r2_score(y_test,p)"
   ]
  },
  {
   "cell_type": "markdown",
   "id": "13ed1267",
   "metadata": {},
   "source": [
    "# Normalisation of data using standard scaler"
   ]
  },
  {
   "cell_type": "code",
   "execution_count": 45,
   "id": "3d5e13f8",
   "metadata": {},
   "outputs": [],
   "source": [
    "from sklearn.preprocessing import StandardScaler"
   ]
  },
  {
   "cell_type": "code",
   "execution_count": 46,
   "id": "65024f20",
   "metadata": {},
   "outputs": [],
   "source": [
    "scaled_model=StandardScaler()"
   ]
  },
  {
   "cell_type": "code",
   "execution_count": 47,
   "id": "13d3649c",
   "metadata": {},
   "outputs": [],
   "source": [
    "x_scaled=scaled_model.fit_transform(x)\n"
   ]
  },
  {
   "cell_type": "code",
   "execution_count": 48,
   "id": "5910c94b",
   "metadata": {},
   "outputs": [
    {
     "data": {
      "text/plain": [
       "array([[ 0.29812753,  0.68726749,  0.6643524 , ...,  0.65401331,\n",
       "        -0.34229662,  0.50073912],\n",
       "       [ 1.32242104,  0.24907672,  0.27159834, ...,  0.48778918,\n",
       "         5.56743182,  4.23378095],\n",
       "       [ 0.33535987,  0.16143857,  0.24652893, ...,  0.7126903 ,\n",
       "         0.08114187,  1.18534268],\n",
       "       ...,\n",
       "       [-0.32990309,  0.61214907,  0.58986044, ...,  0.13792181,\n",
       "        -0.56322104, -0.87494932],\n",
       "       [-0.28617768,  1.2130964 ,  1.18579608, ...,  0.58152928,\n",
       "        -0.56322104, -0.79691529],\n",
       "       [-0.32365491,  0.61214907,  0.58986044, ...,  0.17376834,\n",
       "        -0.56322104, -0.7911111 ]])"
      ]
     },
     "execution_count": 48,
     "metadata": {},
     "output_type": "execute_result"
    }
   ],
   "source": [
    "x_scaled"
   ]
  },
  {
   "cell_type": "code",
   "execution_count": 49,
   "id": "49d54634",
   "metadata": {},
   "outputs": [
    {
     "data": {
      "text/plain": [
       "(101662, 30)"
      ]
     },
     "execution_count": 49,
     "metadata": {},
     "output_type": "execute_result"
    }
   ],
   "source": [
    "x_scaled.shape"
   ]
  },
  {
   "cell_type": "code",
   "execution_count": 50,
   "id": "5af25c19",
   "metadata": {},
   "outputs": [
    {
     "data": {
      "text/plain": [
       "False"
      ]
     },
     "execution_count": 50,
     "metadata": {},
     "output_type": "execute_result"
    }
   ],
   "source": [
    "np.any(np.isnan(x_scaled))"
   ]
  },
  {
   "cell_type": "code",
   "execution_count": 51,
   "id": "f2c047c8",
   "metadata": {},
   "outputs": [
    {
     "data": {
      "text/plain": [
       "True"
      ]
     },
     "execution_count": 51,
     "metadata": {},
     "output_type": "execute_result"
    }
   ],
   "source": [
    "np.any(np.isfinite(x_scaled))"
   ]
  },
  {
   "cell_type": "code",
   "execution_count": 52,
   "id": "d118fbfe",
   "metadata": {},
   "outputs": [],
   "source": [
    "x_scaled = np.nan_to_num(x_scaled)"
   ]
  },
  {
   "cell_type": "code",
   "execution_count": 53,
   "id": "16022585",
   "metadata": {},
   "outputs": [
    {
     "data": {
      "text/plain": [
       "(101662, 30)"
      ]
     },
     "execution_count": 53,
     "metadata": {},
     "output_type": "execute_result"
    }
   ],
   "source": [
    "x_scaled.shape"
   ]
  },
  {
   "cell_type": "markdown",
   "id": "7bc29bd6",
   "metadata": {},
   "source": [
    "# performing PCA"
   ]
  },
  {
   "cell_type": "code",
   "execution_count": 54,
   "id": "b9ca5416",
   "metadata": {},
   "outputs": [],
   "source": [
    "from sklearn.decomposition import PCA\n",
    "pca=PCA(n_components = 0.95)"
   ]
  },
  {
   "cell_type": "code",
   "execution_count": null,
   "id": "caed02a3",
   "metadata": {},
   "outputs": [],
   "source": [
    "#calculating covariance matrix"
   ]
  },
  {
   "cell_type": "code",
   "execution_count": null,
   "id": "9b37cd66",
   "metadata": {},
   "outputs": [],
   "source": [
    "x"
   ]
  },
  {
   "cell_type": "code",
   "execution_count": 55,
   "id": "8f608c20",
   "metadata": {},
   "outputs": [],
   "source": [
    "x=x_scaled\n"
   ]
  },
  {
   "cell_type": "code",
   "execution_count": 56,
   "id": "c26b4e03",
   "metadata": {},
   "outputs": [
    {
     "data": {
      "text/plain": [
       "array([[ 0.29812753,  0.68726749,  0.6643524 , ...,  0.65401331,\n",
       "        -0.34229662,  0.50073912],\n",
       "       [ 1.32242104,  0.24907672,  0.27159834, ...,  0.48778918,\n",
       "         5.56743182,  4.23378095],\n",
       "       [ 0.33535987,  0.16143857,  0.24652893, ...,  0.7126903 ,\n",
       "         0.08114187,  1.18534268],\n",
       "       ...,\n",
       "       [-0.32990309,  0.61214907,  0.58986044, ...,  0.13792181,\n",
       "        -0.56322104, -0.87494932],\n",
       "       [-0.28617768,  1.2130964 ,  1.18579608, ...,  0.58152928,\n",
       "        -0.56322104, -0.79691529],\n",
       "       [-0.32365491,  0.61214907,  0.58986044, ...,  0.17376834,\n",
       "        -0.56322104, -0.7911111 ]])"
      ]
     },
     "execution_count": 56,
     "metadata": {},
     "output_type": "execute_result"
    }
   ],
   "source": [
    "x"
   ]
  },
  {
   "cell_type": "code",
   "execution_count": 57,
   "id": "6d329279",
   "metadata": {},
   "outputs": [
    {
     "data": {
      "text/plain": [
       "(101662, 30)"
      ]
     },
     "execution_count": 57,
     "metadata": {},
     "output_type": "execute_result"
    }
   ],
   "source": [
    "x.shape"
   ]
  },
  {
   "cell_type": "code",
   "execution_count": 62,
   "id": "cfe4eabc",
   "metadata": {},
   "outputs": [
    {
     "data": {
      "text/plain": [
       "array([[ 0.29812753,  0.68726749,  0.6643524 , ...,  0.65401331,\n",
       "        -0.34229662,  0.50073912],\n",
       "       [ 1.32242104,  0.24907672,  0.27159834, ...,  0.48778918,\n",
       "         5.56743182,  4.23378095],\n",
       "       [ 0.33535987,  0.16143857,  0.24652893, ...,  0.7126903 ,\n",
       "         0.08114187,  1.18534268],\n",
       "       ...,\n",
       "       [-0.32990309,  0.61214907,  0.58986044, ...,  0.13792181,\n",
       "        -0.56322104, -0.87494932],\n",
       "       [-0.28617768,  1.2130964 ,  1.18579608, ...,  0.58152928,\n",
       "        -0.56322104, -0.79691529],\n",
       "       [-0.32365491,  0.61214907,  0.58986044, ...,  0.17376834,\n",
       "        -0.56322104, -0.7911111 ]])"
      ]
     },
     "execution_count": 62,
     "metadata": {},
     "output_type": "execute_result"
    }
   ],
   "source": [
    "x1=x-np.mean(x,axis=0)\n",
    "x1"
   ]
  },
  {
   "cell_type": "code",
   "execution_count": 65,
   "id": "607eec8d",
   "metadata": {},
   "outputs": [
    {
     "data": {
      "text/plain": [
       "array([[ 1.        ,  0.17347082,  0.17915311,  0.16897859,  0.19207765,\n",
       "         0.19250031,  0.26479714,  0.1960377 ,  0.19206244,  0.18271764,\n",
       "         0.18271764,  0.19453592,  0.22287249,  0.22219512,  0.18612048,\n",
       "         0.1861996 ,  0.17659906,  0.16478809,  0.19373738,  0.2117967 ,\n",
       "         0.21403055,  0.16520506,  0.17615837,  0.22255855,  0.21616589,\n",
       "         0.15593969,  0.31560134,  0.19657759,  0.27145099,  0.28595461],\n",
       "       [ 0.17347082,  1.        ,  0.99851482,  0.29511031,  0.1534594 ,\n",
       "         0.27653781,  0.2857595 ,  0.18777648,  0.19218955,  0.29161606,\n",
       "         0.29161606,  0.95321303,  0.90731132,  0.91010455,  0.28050735,\n",
       "        -0.06069733,  0.23944036,  0.24515985,  0.18278401,  0.19340609,\n",
       "         0.24648217,  0.22401215,  0.44614384,  0.25391882,  0.26273137,\n",
       "         0.11249616,  0.59508268,  0.72793225,  0.3182997 ,  0.30791477],\n",
       "       [ 0.17915311,  0.99851482,  1.        ,  0.30564966,  0.16061786,\n",
       "         0.28327166,  0.29529465,  0.1961324 ,  0.20042968,  0.3018755 ,\n",
       "         0.3018755 ,  0.95303189,  0.91700123,  0.91946765,  0.29129607,\n",
       "        -0.05449049,  0.24807583,  0.25490424,  0.19248645,  0.20165447,\n",
       "         0.25311139,  0.23390283,  0.45585171,  0.26422394,  0.27294332,\n",
       "         0.11862339,  0.60924875,  0.73497267,  0.33026041,  0.32123402],\n",
       "       [ 0.16897859,  0.29511031,  0.30564966,  1.        ,  0.19323177,\n",
       "         0.19022594,  0.25389909,  0.47587956,  0.47500821,  0.61700336,\n",
       "         0.61700336,  0.30786359,  0.35294031,  0.35186065,  0.94577443,\n",
       "         0.17234587,  0.43364001,  0.40044368,  0.45343854,  0.19155213,\n",
       "         0.19135821,  0.34149769,  0.58558203,  0.5439314 ,  0.54231055,\n",
       "         0.12793857,  0.58433578,  0.5643807 ,  0.36181541,  0.50160404],\n",
       "       [ 0.19207765,  0.1534594 ,  0.16061786,  0.19323177,  1.        ,\n",
       "         0.26524642,  0.37103718,  0.29571051,  0.28495172,  0.2746526 ,\n",
       "         0.2746526 ,  0.16721899,  0.19237655,  0.19176783,  0.19380957,\n",
       "         0.21565664,  0.25602221,  0.20492695,  0.23403162,  0.87042154,\n",
       "         0.2909326 ,  0.20088138,  0.1542138 ,  0.30974754,  0.29361233,\n",
       "         0.17789416,  0.32314962,  0.19806572,  0.36338758,  0.36717797],\n",
       "       [ 0.19250031,  0.27653781,  0.28327166,  0.19022594,  0.26524642,\n",
       "         1.        ,  0.65479026,  0.15418327,  0.1519273 ,  0.21221965,\n",
       "         0.21221965,  0.29395185,  0.32499084,  0.324357  ,  0.2033755 ,\n",
       "         0.13130332,  0.22487939,  0.2186449 ,  0.23313594,  0.28347734,\n",
       "         0.91447125,  0.25570926,  0.19040945,  0.20997714,  0.20592662,\n",
       "         0.21790162,  0.36851399,  0.26713684,  0.58650097,  0.50339812],\n",
       "       [ 0.26479714,  0.2857595 ,  0.29529465,  0.25389909,  0.37103718,\n",
       "         0.65479026,  1.        ,  0.30107083,  0.29332668,  0.31222812,\n",
       "         0.31222812,  0.32272495,  0.36799958,  0.36693325,  0.29129942,\n",
       "         0.2654363 ,  0.27922768,  0.29317061,  0.34712706,  0.40665257,\n",
       "         0.7415666 ,  0.30697241,  0.25587085,  0.33711118,  0.32189873,\n",
       "         0.2703291 ,  0.495464  ,  0.31251852,  0.84937509,  0.73488578],\n",
       "       [ 0.1960377 ,  0.18777648,  0.1961324 ,  0.47587956,  0.29571051,\n",
       "         0.15418327,  0.30107083,  1.        ,  0.99456171,  0.49543162,\n",
       "         0.49543162,  0.18915381,  0.21688675,  0.21622216,  0.44668021,\n",
       "         0.3630851 ,  0.47626316,  0.37434425,  0.40530347,  0.29658079,\n",
       "         0.18963406,  0.21409836,  0.34772015,  0.89870373,  0.89081083,\n",
       "         0.11756975,  0.4811075 ,  0.42822954,  0.32320037,  0.44822947],\n",
       "       [ 0.19206244,  0.19218955,  0.20042968,  0.47500821,  0.28495172,\n",
       "         0.1519273 ,  0.29332668,  0.99456171,  1.        ,  0.48863125,\n",
       "         0.48863125,  0.19263281,  0.22051168,  0.21984691,  0.4455319 ,\n",
       "         0.35612011,  0.47207698,  0.37109127,  0.4021343 ,  0.28785457,\n",
       "         0.18444158,  0.20778799,  0.35168865,  0.8886727 ,  0.8964741 ,\n",
       "         0.11562516,  0.47917908,  0.43376268,  0.31444151,  0.44090451],\n",
       "       [ 0.18271764,  0.29161606,  0.3018755 ,  0.61700336,  0.2746526 ,\n",
       "         0.21221965,  0.31222812,  0.49543162,  0.48863125,  1.        ,\n",
       "         1.        ,  0.29996382,  0.33563917,  0.33485998,  0.5770107 ,\n",
       "         0.11536231,  0.43818565,  0.40983245,  0.40019485,  0.27321192,\n",
       "         0.23351446,  0.29883501,  0.51898873,  0.53502909,  0.52421433,\n",
       "         0.13303726,  0.56192894,  0.5371475 ,  0.3777697 ,  0.47852915],\n",
       "       [ 0.18271764,  0.29161606,  0.3018755 ,  0.61700336,  0.2746526 ,\n",
       "         0.21221965,  0.31222812,  0.49543162,  0.48863125,  1.        ,\n",
       "         1.        ,  0.29996382,  0.33563917,  0.33485998,  0.5770107 ,\n",
       "         0.11536231,  0.43818565,  0.40983245,  0.40019485,  0.27321192,\n",
       "         0.23351446,  0.29883501,  0.51898873,  0.53502909,  0.52421433,\n",
       "         0.13303726,  0.56192894,  0.5371475 ,  0.3777697 ,  0.47852915],\n",
       "       [ 0.19453592,  0.95321303,  0.95303189,  0.30786359,  0.16721899,\n",
       "         0.29395185,  0.32272495,  0.18915381,  0.19263281,  0.29996382,\n",
       "         0.29996382,  1.        ,  0.95979676,  0.96246403,  0.3053983 ,\n",
       "        -0.0541392 ,  0.24335108,  0.26638663,  0.21617821,  0.21140247,\n",
       "         0.27560575,  0.25041121,  0.45858225,  0.25914041,  0.26549827,\n",
       "         0.13971548,  0.63647948,  0.68248266,  0.35804437,  0.35288565],\n",
       "       [ 0.22287249,  0.90731132,  0.91700123,  0.35294031,  0.19237655,\n",
       "         0.32499084,  0.36799958,  0.21688675,  0.22051168,  0.33563917,\n",
       "         0.33563917,  0.95979676,  1.        ,  0.99995332,  0.35594447,\n",
       "        -0.01837955,  0.27008213,  0.31016229,  0.26914986,  0.24050296,\n",
       "         0.31109861,  0.32048404,  0.51537241,  0.29920625,  0.30533459,\n",
       "         0.17647677,  0.7058063 ,  0.69106184,  0.42765207,  0.42824383],\n",
       "       [ 0.22219512,  0.91010455,  0.91946765,  0.35186065,  0.19176783,\n",
       "         0.324357  ,  0.36693325,  0.21622216,  0.21984691,  0.33485998,\n",
       "         0.33485998,  0.96246403,  0.99995332,  1.        ,  0.35468056,\n",
       "        -0.01963502,  0.26952316,  0.30907021,  0.2676864 ,  0.23982287,\n",
       "         0.31029289,  0.31850057,  0.51410675,  0.29822721,  0.30437166,\n",
       "         0.17544738,  0.70436376,  0.69169061,  0.42582792,  0.42622253],\n",
       "       [ 0.18612048,  0.28050735,  0.29129607,  0.94577443,  0.19380957,\n",
       "         0.2033755 ,  0.29129942,  0.44668021,  0.4455319 ,  0.5770107 ,\n",
       "         0.5770107 ,  0.3053983 ,  0.35594447,  0.35468056,  1.        ,\n",
       "         0.22276131,  0.41880791,  0.38653744,  0.49991385,  0.20098735,\n",
       "         0.21565684,  0.32695824,  0.54554957,  0.5284852 ,  0.52493836,\n",
       "         0.1624656 ,  0.61894335,  0.54697873,  0.37915236,  0.54091053],\n",
       "       [ 0.1861996 , -0.06069733, -0.05449049,  0.17234587,  0.21565664,\n",
       "         0.13130332,  0.2654363 ,  0.3630851 ,  0.35612011,  0.11536231,\n",
       "         0.11536231, -0.0541392 , -0.01837955, -0.01963502,  0.22276131,\n",
       "         1.        ,  0.30534428,  0.13960395,  0.31793389,  0.22534007,\n",
       "         0.16421407,  0.0509247 ,  0.04964412,  0.3589027 ,  0.34790421,\n",
       "         0.17311916,  0.49298867,  0.20078556,  0.20850918,  0.32400824],\n",
       "       [ 0.17659906,  0.23944036,  0.24807583,  0.43364001,  0.25602221,\n",
       "         0.22487939,  0.27922768,  0.47626316,  0.47207698,  0.43818565,\n",
       "         0.43818565,  0.24335108,  0.27008213,  0.26952316,  0.41880791,\n",
       "         0.30534428,  1.        ,  0.49472387,  0.59798055,  0.2698205 ,\n",
       "         0.22064532,  0.1322818 ,  0.3230744 ,  0.52138542,  0.51656147,\n",
       "         0.14949856,  0.5162087 ,  0.49783842,  0.26299324,  0.53021693],\n",
       "       [ 0.16478809,  0.24515985,  0.25490424,  0.40044368,  0.20492695,\n",
       "         0.2186449 ,  0.29317061,  0.37434425,  0.37109127,  0.40983245,\n",
       "         0.40983245,  0.26638663,  0.31016229,  0.30907021,  0.38653744,\n",
       "         0.13960395,  0.49472387,  1.        ,  0.60778786,  0.23464298,\n",
       "         0.22526209,  0.14978003,  0.29810357,  0.42337833,  0.41651363,\n",
       "         0.15180689,  0.4587784 ,  0.41097618,  0.28216634,  0.54802222],\n",
       "       [ 0.19373738,  0.18278401,  0.19248645,  0.45343854,  0.23403162,\n",
       "         0.23313594,  0.34712706,  0.40530347,  0.4021343 ,  0.40019485,\n",
       "         0.40019485,  0.21617821,  0.26914986,  0.2676864 ,  0.49991385,\n",
       "         0.31793389,  0.59798055,  0.60778786,  1.        ,  0.24654138,\n",
       "         0.2597924 ,  0.15510064,  0.29981479,  0.48478484,  0.47549204,\n",
       "         0.2366115 ,  0.61255667,  0.55076331,  0.32176088,  0.81431752],\n",
       "       [ 0.2117967 ,  0.19340609,  0.20165447,  0.19155213,  0.87042154,\n",
       "         0.28347734,  0.40665257,  0.29658079,  0.28785457,  0.27321192,\n",
       "         0.27321192,  0.21140247,  0.24050296,  0.23982287,  0.20098735,\n",
       "         0.22534007,  0.2698205 ,  0.23464298,  0.24654138,  1.        ,\n",
       "         0.3078556 ,  0.20140441,  0.1652258 ,  0.32457414,  0.31174708,\n",
       "         0.1981127 ,  0.35445189,  0.21025412,  0.38786543,  0.38990279],\n",
       "       [ 0.21403055,  0.24648217,  0.25311139,  0.19135821,  0.2909326 ,\n",
       "         0.91447125,  0.7415666 ,  0.18963406,  0.18444158,  0.23351446,\n",
       "         0.23351446,  0.27560575,  0.31109861,  0.31029289,  0.21565684,\n",
       "         0.16421407,  0.22064532,  0.22526209,  0.2597924 ,  0.3078556 ,\n",
       "         1.        ,  0.28231376,  0.18370729,  0.23532077,  0.22482363,\n",
       "         0.24178466,  0.38541019,  0.23923763,  0.66018808,  0.56501871],\n",
       "       [ 0.16520506,  0.22401215,  0.23390283,  0.34149769,  0.20088138,\n",
       "         0.25570926,  0.30697241,  0.21409836,  0.20778799,  0.29883501,\n",
       "         0.29883501,  0.25041121,  0.32048404,  0.31850057,  0.32695824,\n",
       "         0.0509247 ,  0.1322818 ,  0.14978003,  0.15510064,  0.20140441,\n",
       "         0.28231376,  1.        ,  0.357216  ,  0.2721138 ,  0.26042068,\n",
       "         0.12194237,  0.39492152,  0.25334158,  0.76304188,  0.56346775],\n",
       "       [ 0.17615837,  0.44614384,  0.45585171,  0.58558203,  0.1542138 ,\n",
       "         0.19040945,  0.25587085,  0.34772015,  0.35168865,  0.51898873,\n",
       "         0.51898873,  0.45858225,  0.51537241,  0.51410675,  0.54554957,\n",
       "         0.04964412,  0.3230744 ,  0.29810357,  0.29981479,  0.1652258 ,\n",
       "         0.18370729,  0.357216  ,  1.        ,  0.39903538,  0.40477956,\n",
       "         0.11353173,  0.56696366,  0.59108094,  0.37187133,  0.41297162],\n",
       "       [ 0.22255855,  0.25391882,  0.26422394,  0.5439314 ,  0.30974754,\n",
       "         0.20997714,  0.33711118,  0.89870373,  0.8886727 ,  0.53502909,\n",
       "         0.53502909,  0.25914041,  0.29920625,  0.29822721,  0.5284852 ,\n",
       "         0.3589027 ,  0.52138542,  0.42337833,  0.48478484,  0.32457414,\n",
       "         0.23532077,  0.2721138 ,  0.39903538,  1.        ,  0.98505833,\n",
       "         0.15981872,  0.56450348,  0.4875903 ,  0.37985011,  0.53200257],\n",
       "       [ 0.21616589,  0.26273137,  0.27294332,  0.54231055,  0.29361233,\n",
       "         0.20592662,  0.32189873,  0.89081083,  0.8964741 ,  0.52421433,\n",
       "         0.52421433,  0.26549827,  0.30533459,  0.30437166,  0.52493836,\n",
       "         0.34790421,  0.51656147,  0.41651363,  0.47549204,  0.31174708,\n",
       "         0.22482363,  0.26042068,  0.40477956,  0.98505833,  1.        ,\n",
       "         0.15316085,  0.56044413,  0.49678635,  0.36303414,  0.51595974],\n",
       "       [ 0.15593969,  0.11249616,  0.11862339,  0.12793857,  0.17789416,\n",
       "         0.21790162,  0.2703291 ,  0.11756975,  0.11562516,  0.13303726,\n",
       "         0.13303726,  0.13971548,  0.17647677,  0.17544738,  0.1624656 ,\n",
       "         0.17311916,  0.14949856,  0.15180689,  0.2366115 ,  0.1981127 ,\n",
       "         0.24178466,  0.12194237,  0.11353173,  0.15981872,  0.15316085,\n",
       "         1.        ,  0.3125273 ,  0.12752096,  0.25121599,  0.30000657],\n",
       "       [ 0.31560134,  0.59508268,  0.60924875,  0.58433578,  0.32314962,\n",
       "         0.36851399,  0.495464  ,  0.4811075 ,  0.47917908,  0.56192894,\n",
       "         0.56192894,  0.63647948,  0.7058063 ,  0.70436376,  0.61894335,\n",
       "         0.49298867,  0.5162087 ,  0.4587784 ,  0.61255667,  0.35445189,\n",
       "         0.38541019,  0.39492152,  0.56696366,  0.56450348,  0.56044413,\n",
       "         0.3125273 ,  1.        ,  0.78793439,  0.55549854,  0.71852288],\n",
       "       [ 0.19657759,  0.72793225,  0.73497267,  0.5643807 ,  0.19806572,\n",
       "         0.26713684,  0.31251852,  0.42822954,  0.43376268,  0.5371475 ,\n",
       "         0.5371475 ,  0.68248266,  0.69106184,  0.69169061,  0.54697873,\n",
       "         0.20078556,  0.49783842,  0.41097618,  0.55076331,  0.21025412,\n",
       "         0.23923763,  0.25334158,  0.59108094,  0.4875903 ,  0.49678635,\n",
       "         0.12752096,  0.78793439,  1.        ,  0.35273786,  0.5560957 ],\n",
       "       [ 0.27145099,  0.3182997 ,  0.33026041,  0.36181541,  0.36338758,\n",
       "         0.58650097,  0.84937509,  0.32320037,  0.31444151,  0.3777697 ,\n",
       "         0.3777697 ,  0.35804437,  0.42765207,  0.42582792,  0.37915236,\n",
       "         0.20850918,  0.26299324,  0.28216634,  0.32176088,  0.38786543,\n",
       "         0.66018808,  0.76304188,  0.37187133,  0.37985011,  0.36303414,\n",
       "         0.25121599,  0.55549854,  0.35273786,  1.        ,  0.81156903],\n",
       "       [ 0.28595461,  0.30791477,  0.32123402,  0.50160404,  0.36717797,\n",
       "         0.50339812,  0.73488578,  0.44822947,  0.44090451,  0.47852915,\n",
       "         0.47852915,  0.35288565,  0.42824383,  0.42622253,  0.54091053,\n",
       "         0.32400824,  0.53021693,  0.54802222,  0.81431752,  0.38990279,\n",
       "         0.56501871,  0.56346775,  0.41297162,  0.53200257,  0.51595974,\n",
       "         0.30000657,  0.71852288,  0.5560957 ,  0.81156903,  1.        ]])"
      ]
     },
     "execution_count": 65,
     "metadata": {},
     "output_type": "execute_result"
    }
   ],
   "source": [
    "cov_matrix = np.dot(x.T, x) / x.shape[0]\n",
    "cov_matrix"
   ]
  },
  {
   "cell_type": "code",
   "execution_count": 66,
   "id": "4a66a5d9",
   "metadata": {},
   "outputs": [],
   "source": [
    "X=x_scaled\n",
    "X =X- np.mean(X, axis=0)\n",
    "cov_matrix = np.dot(X.T, X) / X.shape[0]"
   ]
  },
  {
   "cell_type": "code",
   "execution_count": 67,
   "id": "4b39b94b",
   "metadata": {},
   "outputs": [
    {
     "data": {
      "text/plain": [
       "array([[ 1.        ,  0.17347082,  0.17915311,  0.16897859,  0.19207765,\n",
       "         0.19250031,  0.26479714,  0.1960377 ,  0.19206244,  0.18271764,\n",
       "         0.18271764,  0.19453592,  0.22287249,  0.22219512,  0.18612048,\n",
       "         0.1861996 ,  0.17659906,  0.16478809,  0.19373738,  0.2117967 ,\n",
       "         0.21403055,  0.16520506,  0.17615837,  0.22255855,  0.21616589,\n",
       "         0.15593969,  0.31560134,  0.19657759,  0.27145099,  0.28595461],\n",
       "       [ 0.17347082,  1.        ,  0.99851482,  0.29511031,  0.1534594 ,\n",
       "         0.27653781,  0.2857595 ,  0.18777648,  0.19218955,  0.29161606,\n",
       "         0.29161606,  0.95321303,  0.90731132,  0.91010455,  0.28050735,\n",
       "        -0.06069733,  0.23944036,  0.24515985,  0.18278401,  0.19340609,\n",
       "         0.24648217,  0.22401215,  0.44614384,  0.25391882,  0.26273137,\n",
       "         0.11249616,  0.59508268,  0.72793225,  0.3182997 ,  0.30791477],\n",
       "       [ 0.17915311,  0.99851482,  1.        ,  0.30564966,  0.16061786,\n",
       "         0.28327166,  0.29529465,  0.1961324 ,  0.20042968,  0.3018755 ,\n",
       "         0.3018755 ,  0.95303189,  0.91700123,  0.91946765,  0.29129607,\n",
       "        -0.05449049,  0.24807583,  0.25490424,  0.19248645,  0.20165447,\n",
       "         0.25311139,  0.23390283,  0.45585171,  0.26422394,  0.27294332,\n",
       "         0.11862339,  0.60924875,  0.73497267,  0.33026041,  0.32123402],\n",
       "       [ 0.16897859,  0.29511031,  0.30564966,  1.        ,  0.19323177,\n",
       "         0.19022594,  0.25389909,  0.47587956,  0.47500821,  0.61700336,\n",
       "         0.61700336,  0.30786359,  0.35294031,  0.35186065,  0.94577443,\n",
       "         0.17234587,  0.43364001,  0.40044368,  0.45343854,  0.19155213,\n",
       "         0.19135821,  0.34149769,  0.58558203,  0.5439314 ,  0.54231055,\n",
       "         0.12793857,  0.58433578,  0.5643807 ,  0.36181541,  0.50160404],\n",
       "       [ 0.19207765,  0.1534594 ,  0.16061786,  0.19323177,  1.        ,\n",
       "         0.26524642,  0.37103718,  0.29571051,  0.28495172,  0.2746526 ,\n",
       "         0.2746526 ,  0.16721899,  0.19237655,  0.19176783,  0.19380957,\n",
       "         0.21565664,  0.25602221,  0.20492695,  0.23403162,  0.87042154,\n",
       "         0.2909326 ,  0.20088138,  0.1542138 ,  0.30974754,  0.29361233,\n",
       "         0.17789416,  0.32314962,  0.19806572,  0.36338758,  0.36717797],\n",
       "       [ 0.19250031,  0.27653781,  0.28327166,  0.19022594,  0.26524642,\n",
       "         1.        ,  0.65479026,  0.15418327,  0.1519273 ,  0.21221965,\n",
       "         0.21221965,  0.29395185,  0.32499084,  0.324357  ,  0.2033755 ,\n",
       "         0.13130332,  0.22487939,  0.2186449 ,  0.23313594,  0.28347734,\n",
       "         0.91447125,  0.25570926,  0.19040945,  0.20997714,  0.20592662,\n",
       "         0.21790162,  0.36851399,  0.26713684,  0.58650097,  0.50339812],\n",
       "       [ 0.26479714,  0.2857595 ,  0.29529465,  0.25389909,  0.37103718,\n",
       "         0.65479026,  1.        ,  0.30107083,  0.29332668,  0.31222812,\n",
       "         0.31222812,  0.32272495,  0.36799958,  0.36693325,  0.29129942,\n",
       "         0.2654363 ,  0.27922768,  0.29317061,  0.34712706,  0.40665257,\n",
       "         0.7415666 ,  0.30697241,  0.25587085,  0.33711118,  0.32189873,\n",
       "         0.2703291 ,  0.495464  ,  0.31251852,  0.84937509,  0.73488578],\n",
       "       [ 0.1960377 ,  0.18777648,  0.1961324 ,  0.47587956,  0.29571051,\n",
       "         0.15418327,  0.30107083,  1.        ,  0.99456171,  0.49543162,\n",
       "         0.49543162,  0.18915381,  0.21688675,  0.21622216,  0.44668021,\n",
       "         0.3630851 ,  0.47626316,  0.37434425,  0.40530347,  0.29658079,\n",
       "         0.18963406,  0.21409836,  0.34772015,  0.89870373,  0.89081083,\n",
       "         0.11756975,  0.4811075 ,  0.42822954,  0.32320037,  0.44822947],\n",
       "       [ 0.19206244,  0.19218955,  0.20042968,  0.47500821,  0.28495172,\n",
       "         0.1519273 ,  0.29332668,  0.99456171,  1.        ,  0.48863125,\n",
       "         0.48863125,  0.19263281,  0.22051168,  0.21984691,  0.4455319 ,\n",
       "         0.35612011,  0.47207698,  0.37109127,  0.4021343 ,  0.28785457,\n",
       "         0.18444158,  0.20778799,  0.35168865,  0.8886727 ,  0.8964741 ,\n",
       "         0.11562516,  0.47917908,  0.43376268,  0.31444151,  0.44090451],\n",
       "       [ 0.18271764,  0.29161606,  0.3018755 ,  0.61700336,  0.2746526 ,\n",
       "         0.21221965,  0.31222812,  0.49543162,  0.48863125,  1.        ,\n",
       "         1.        ,  0.29996382,  0.33563917,  0.33485998,  0.5770107 ,\n",
       "         0.11536231,  0.43818565,  0.40983245,  0.40019485,  0.27321192,\n",
       "         0.23351446,  0.29883501,  0.51898873,  0.53502909,  0.52421433,\n",
       "         0.13303726,  0.56192894,  0.5371475 ,  0.3777697 ,  0.47852915],\n",
       "       [ 0.18271764,  0.29161606,  0.3018755 ,  0.61700336,  0.2746526 ,\n",
       "         0.21221965,  0.31222812,  0.49543162,  0.48863125,  1.        ,\n",
       "         1.        ,  0.29996382,  0.33563917,  0.33485998,  0.5770107 ,\n",
       "         0.11536231,  0.43818565,  0.40983245,  0.40019485,  0.27321192,\n",
       "         0.23351446,  0.29883501,  0.51898873,  0.53502909,  0.52421433,\n",
       "         0.13303726,  0.56192894,  0.5371475 ,  0.3777697 ,  0.47852915],\n",
       "       [ 0.19453592,  0.95321303,  0.95303189,  0.30786359,  0.16721899,\n",
       "         0.29395185,  0.32272495,  0.18915381,  0.19263281,  0.29996382,\n",
       "         0.29996382,  1.        ,  0.95979676,  0.96246403,  0.3053983 ,\n",
       "        -0.0541392 ,  0.24335108,  0.26638663,  0.21617821,  0.21140247,\n",
       "         0.27560575,  0.25041121,  0.45858225,  0.25914041,  0.26549827,\n",
       "         0.13971548,  0.63647948,  0.68248266,  0.35804437,  0.35288565],\n",
       "       [ 0.22287249,  0.90731132,  0.91700123,  0.35294031,  0.19237655,\n",
       "         0.32499084,  0.36799958,  0.21688675,  0.22051168,  0.33563917,\n",
       "         0.33563917,  0.95979676,  1.        ,  0.99995332,  0.35594447,\n",
       "        -0.01837955,  0.27008213,  0.31016229,  0.26914986,  0.24050296,\n",
       "         0.31109861,  0.32048404,  0.51537241,  0.29920625,  0.30533459,\n",
       "         0.17647677,  0.7058063 ,  0.69106184,  0.42765207,  0.42824383],\n",
       "       [ 0.22219512,  0.91010455,  0.91946765,  0.35186065,  0.19176783,\n",
       "         0.324357  ,  0.36693325,  0.21622216,  0.21984691,  0.33485998,\n",
       "         0.33485998,  0.96246403,  0.99995332,  1.        ,  0.35468056,\n",
       "        -0.01963502,  0.26952316,  0.30907021,  0.2676864 ,  0.23982287,\n",
       "         0.31029289,  0.31850057,  0.51410675,  0.29822721,  0.30437166,\n",
       "         0.17544738,  0.70436376,  0.69169061,  0.42582792,  0.42622253],\n",
       "       [ 0.18612048,  0.28050735,  0.29129607,  0.94577443,  0.19380957,\n",
       "         0.2033755 ,  0.29129942,  0.44668021,  0.4455319 ,  0.5770107 ,\n",
       "         0.5770107 ,  0.3053983 ,  0.35594447,  0.35468056,  1.        ,\n",
       "         0.22276131,  0.41880791,  0.38653744,  0.49991385,  0.20098735,\n",
       "         0.21565684,  0.32695824,  0.54554957,  0.5284852 ,  0.52493836,\n",
       "         0.1624656 ,  0.61894335,  0.54697873,  0.37915236,  0.54091053],\n",
       "       [ 0.1861996 , -0.06069733, -0.05449049,  0.17234587,  0.21565664,\n",
       "         0.13130332,  0.2654363 ,  0.3630851 ,  0.35612011,  0.11536231,\n",
       "         0.11536231, -0.0541392 , -0.01837955, -0.01963502,  0.22276131,\n",
       "         1.        ,  0.30534428,  0.13960395,  0.31793389,  0.22534007,\n",
       "         0.16421407,  0.0509247 ,  0.04964412,  0.3589027 ,  0.34790421,\n",
       "         0.17311916,  0.49298867,  0.20078556,  0.20850918,  0.32400824],\n",
       "       [ 0.17659906,  0.23944036,  0.24807583,  0.43364001,  0.25602221,\n",
       "         0.22487939,  0.27922768,  0.47626316,  0.47207698,  0.43818565,\n",
       "         0.43818565,  0.24335108,  0.27008213,  0.26952316,  0.41880791,\n",
       "         0.30534428,  1.        ,  0.49472387,  0.59798055,  0.2698205 ,\n",
       "         0.22064532,  0.1322818 ,  0.3230744 ,  0.52138542,  0.51656147,\n",
       "         0.14949856,  0.5162087 ,  0.49783842,  0.26299324,  0.53021693],\n",
       "       [ 0.16478809,  0.24515985,  0.25490424,  0.40044368,  0.20492695,\n",
       "         0.2186449 ,  0.29317061,  0.37434425,  0.37109127,  0.40983245,\n",
       "         0.40983245,  0.26638663,  0.31016229,  0.30907021,  0.38653744,\n",
       "         0.13960395,  0.49472387,  1.        ,  0.60778786,  0.23464298,\n",
       "         0.22526209,  0.14978003,  0.29810357,  0.42337833,  0.41651363,\n",
       "         0.15180689,  0.4587784 ,  0.41097618,  0.28216634,  0.54802222],\n",
       "       [ 0.19373738,  0.18278401,  0.19248645,  0.45343854,  0.23403162,\n",
       "         0.23313594,  0.34712706,  0.40530347,  0.4021343 ,  0.40019485,\n",
       "         0.40019485,  0.21617821,  0.26914986,  0.2676864 ,  0.49991385,\n",
       "         0.31793389,  0.59798055,  0.60778786,  1.        ,  0.24654138,\n",
       "         0.2597924 ,  0.15510064,  0.29981479,  0.48478484,  0.47549204,\n",
       "         0.2366115 ,  0.61255667,  0.55076331,  0.32176088,  0.81431752],\n",
       "       [ 0.2117967 ,  0.19340609,  0.20165447,  0.19155213,  0.87042154,\n",
       "         0.28347734,  0.40665257,  0.29658079,  0.28785457,  0.27321192,\n",
       "         0.27321192,  0.21140247,  0.24050296,  0.23982287,  0.20098735,\n",
       "         0.22534007,  0.2698205 ,  0.23464298,  0.24654138,  1.        ,\n",
       "         0.3078556 ,  0.20140441,  0.1652258 ,  0.32457414,  0.31174708,\n",
       "         0.1981127 ,  0.35445189,  0.21025412,  0.38786543,  0.38990279],\n",
       "       [ 0.21403055,  0.24648217,  0.25311139,  0.19135821,  0.2909326 ,\n",
       "         0.91447125,  0.7415666 ,  0.18963406,  0.18444158,  0.23351446,\n",
       "         0.23351446,  0.27560575,  0.31109861,  0.31029289,  0.21565684,\n",
       "         0.16421407,  0.22064532,  0.22526209,  0.2597924 ,  0.3078556 ,\n",
       "         1.        ,  0.28231376,  0.18370729,  0.23532077,  0.22482363,\n",
       "         0.24178466,  0.38541019,  0.23923763,  0.66018808,  0.56501871],\n",
       "       [ 0.16520506,  0.22401215,  0.23390283,  0.34149769,  0.20088138,\n",
       "         0.25570926,  0.30697241,  0.21409836,  0.20778799,  0.29883501,\n",
       "         0.29883501,  0.25041121,  0.32048404,  0.31850057,  0.32695824,\n",
       "         0.0509247 ,  0.1322818 ,  0.14978003,  0.15510064,  0.20140441,\n",
       "         0.28231376,  1.        ,  0.357216  ,  0.2721138 ,  0.26042068,\n",
       "         0.12194237,  0.39492152,  0.25334158,  0.76304188,  0.56346775],\n",
       "       [ 0.17615837,  0.44614384,  0.45585171,  0.58558203,  0.1542138 ,\n",
       "         0.19040945,  0.25587085,  0.34772015,  0.35168865,  0.51898873,\n",
       "         0.51898873,  0.45858225,  0.51537241,  0.51410675,  0.54554957,\n",
       "         0.04964412,  0.3230744 ,  0.29810357,  0.29981479,  0.1652258 ,\n",
       "         0.18370729,  0.357216  ,  1.        ,  0.39903538,  0.40477956,\n",
       "         0.11353173,  0.56696366,  0.59108094,  0.37187133,  0.41297162],\n",
       "       [ 0.22255855,  0.25391882,  0.26422394,  0.5439314 ,  0.30974754,\n",
       "         0.20997714,  0.33711118,  0.89870373,  0.8886727 ,  0.53502909,\n",
       "         0.53502909,  0.25914041,  0.29920625,  0.29822721,  0.5284852 ,\n",
       "         0.3589027 ,  0.52138542,  0.42337833,  0.48478484,  0.32457414,\n",
       "         0.23532077,  0.2721138 ,  0.39903538,  1.        ,  0.98505833,\n",
       "         0.15981872,  0.56450348,  0.4875903 ,  0.37985011,  0.53200257],\n",
       "       [ 0.21616589,  0.26273137,  0.27294332,  0.54231055,  0.29361233,\n",
       "         0.20592662,  0.32189873,  0.89081083,  0.8964741 ,  0.52421433,\n",
       "         0.52421433,  0.26549827,  0.30533459,  0.30437166,  0.52493836,\n",
       "         0.34790421,  0.51656147,  0.41651363,  0.47549204,  0.31174708,\n",
       "         0.22482363,  0.26042068,  0.40477956,  0.98505833,  1.        ,\n",
       "         0.15316085,  0.56044413,  0.49678635,  0.36303414,  0.51595974],\n",
       "       [ 0.15593969,  0.11249616,  0.11862339,  0.12793857,  0.17789416,\n",
       "         0.21790162,  0.2703291 ,  0.11756975,  0.11562516,  0.13303726,\n",
       "         0.13303726,  0.13971548,  0.17647677,  0.17544738,  0.1624656 ,\n",
       "         0.17311916,  0.14949856,  0.15180689,  0.2366115 ,  0.1981127 ,\n",
       "         0.24178466,  0.12194237,  0.11353173,  0.15981872,  0.15316085,\n",
       "         1.        ,  0.3125273 ,  0.12752096,  0.25121599,  0.30000657],\n",
       "       [ 0.31560134,  0.59508268,  0.60924875,  0.58433578,  0.32314962,\n",
       "         0.36851399,  0.495464  ,  0.4811075 ,  0.47917908,  0.56192894,\n",
       "         0.56192894,  0.63647948,  0.7058063 ,  0.70436376,  0.61894335,\n",
       "         0.49298867,  0.5162087 ,  0.4587784 ,  0.61255667,  0.35445189,\n",
       "         0.38541019,  0.39492152,  0.56696366,  0.56450348,  0.56044413,\n",
       "         0.3125273 ,  1.        ,  0.78793439,  0.55549854,  0.71852288],\n",
       "       [ 0.19657759,  0.72793225,  0.73497267,  0.5643807 ,  0.19806572,\n",
       "         0.26713684,  0.31251852,  0.42822954,  0.43376268,  0.5371475 ,\n",
       "         0.5371475 ,  0.68248266,  0.69106184,  0.69169061,  0.54697873,\n",
       "         0.20078556,  0.49783842,  0.41097618,  0.55076331,  0.21025412,\n",
       "         0.23923763,  0.25334158,  0.59108094,  0.4875903 ,  0.49678635,\n",
       "         0.12752096,  0.78793439,  1.        ,  0.35273786,  0.5560957 ],\n",
       "       [ 0.27145099,  0.3182997 ,  0.33026041,  0.36181541,  0.36338758,\n",
       "         0.58650097,  0.84937509,  0.32320037,  0.31444151,  0.3777697 ,\n",
       "         0.3777697 ,  0.35804437,  0.42765207,  0.42582792,  0.37915236,\n",
       "         0.20850918,  0.26299324,  0.28216634,  0.32176088,  0.38786543,\n",
       "         0.66018808,  0.76304188,  0.37187133,  0.37985011,  0.36303414,\n",
       "         0.25121599,  0.55549854,  0.35273786,  1.        ,  0.81156903],\n",
       "       [ 0.28595461,  0.30791477,  0.32123402,  0.50160404,  0.36717797,\n",
       "         0.50339812,  0.73488578,  0.44822947,  0.44090451,  0.47852915,\n",
       "         0.47852915,  0.35288565,  0.42824383,  0.42622253,  0.54091053,\n",
       "         0.32400824,  0.53021693,  0.54802222,  0.81431752,  0.38990279,\n",
       "         0.56501871,  0.56346775,  0.41297162,  0.53200257,  0.51595974,\n",
       "         0.30000657,  0.71852288,  0.5560957 ,  0.81156903,  1.        ]])"
      ]
     },
     "execution_count": 67,
     "metadata": {},
     "output_type": "execute_result"
    }
   ],
   "source": [
    "cov_matrix"
   ]
  },
  {
   "cell_type": "code",
   "execution_count": 68,
   "id": "830c12ee",
   "metadata": {},
   "outputs": [
    {
     "data": {
      "text/plain": [
       "array([[ 1.00000984,  0.17347253,  0.17915488,  0.16898025,  0.19207954,\n",
       "         0.1925022 ,  0.26479974,  0.19603963,  0.19206433,  0.18271943,\n",
       "         0.18271943,  0.19453783,  0.22287468,  0.22219731,  0.18612231,\n",
       "         0.18620143,  0.1766008 ,  0.16478972,  0.19373928,  0.21179879,\n",
       "         0.21403265,  0.16520668,  0.1761601 ,  0.22256074,  0.21616802,\n",
       "         0.15594122,  0.31560444,  0.19657952,  0.27145366,  0.28595742],\n",
       "       [ 0.17347253,  1.00000984,  0.99852464,  0.29511321,  0.15346091,\n",
       "         0.27654053,  0.28576231,  0.18777833,  0.19219144,  0.29161893,\n",
       "         0.29161893,  0.95322241,  0.90732024,  0.91011351,  0.28051011,\n",
       "        -0.06069792,  0.23944272,  0.24516226,  0.18278581,  0.19340799,\n",
       "         0.24648459,  0.22401435,  0.44614823,  0.25392132,  0.26273395,\n",
       "         0.11249727,  0.59508854,  0.72793941,  0.31830283,  0.3079178 ],\n",
       "       [ 0.17915488,  0.99852464,  1.00000984,  0.30565267,  0.16061944,\n",
       "         0.28327445,  0.29529756,  0.19613433,  0.20043165,  0.30187847,\n",
       "         0.30187847,  0.95304127,  0.91701025,  0.9194767 ,  0.29129893,\n",
       "        -0.05449103,  0.24807827,  0.25490674,  0.19248835,  0.20165646,\n",
       "         0.25311388,  0.23390513,  0.4558562 ,  0.26422654,  0.27294601,\n",
       "         0.11862456,  0.60925474,  0.7349799 ,  0.33026366,  0.32123718],\n",
       "       [ 0.16898025,  0.29511321,  0.30565267,  1.00000984,  0.19323367,\n",
       "         0.19022781,  0.25390158,  0.47588425,  0.47501288,  0.61700943,\n",
       "         0.61700943,  0.30786662,  0.35294378,  0.35186411,  0.94578373,\n",
       "         0.17234757,  0.43364428,  0.40044762,  0.453443  ,  0.19155402,\n",
       "         0.19136009,  0.34150105,  0.58558779,  0.54393675,  0.54231588,\n",
       "         0.12793983,  0.58434152,  0.56438625,  0.36181897,  0.50160897],\n",
       "       [ 0.19207954,  0.15346091,  0.16061944,  0.19323367,  1.00000984,\n",
       "         0.26524903,  0.37104083,  0.29571342,  0.28495452,  0.27465531,\n",
       "         0.27465531,  0.16722064,  0.19237844,  0.19176972,  0.19381148,\n",
       "         0.21565877,  0.25602472,  0.20492897,  0.23403392,  0.8704301 ,\n",
       "         0.29093546,  0.20088336,  0.15421532,  0.30975059,  0.29361522,\n",
       "         0.17789591,  0.3231528 ,  0.19806767,  0.36339115,  0.36718158],\n",
       "       [ 0.1925022 ,  0.27654053,  0.28327445,  0.19022781,  0.26524903,\n",
       "         1.00000984,  0.6547967 ,  0.15418479,  0.1519288 ,  0.21222174,\n",
       "         0.21222174,  0.29395474,  0.32499403,  0.32436019,  0.2033775 ,\n",
       "         0.13130461,  0.2248816 ,  0.21864706,  0.23313823,  0.28348012,\n",
       "         0.91448025,  0.25571178,  0.19041132,  0.2099792 ,  0.20592865,\n",
       "         0.21790377,  0.36851761,  0.26713947,  0.58650674,  0.50340307],\n",
       "       [ 0.26479974,  0.28576231,  0.29529756,  0.25390158,  0.37104083,\n",
       "         0.6547967 ,  1.00000984,  0.30107379,  0.29332956,  0.31223119,\n",
       "         0.31223119,  0.32272813,  0.3680032 ,  0.36693686,  0.29130229,\n",
       "         0.26543891,  0.27923043,  0.2931735 ,  0.34713047,  0.40665657,\n",
       "         0.74157389,  0.30697543,  0.25587336,  0.33711449,  0.32190189,\n",
       "         0.27033176,  0.49546887,  0.3125216 ,  0.84938345,  0.73489301],\n",
       "       [ 0.19603963,  0.18777833,  0.19613433,  0.47588425,  0.29571342,\n",
       "         0.15418479,  0.30107379,  1.00000984,  0.99457149,  0.49543649,\n",
       "         0.49543649,  0.18915567,  0.21688888,  0.21622429,  0.4466846 ,\n",
       "         0.36308867,  0.47626785,  0.37434793,  0.40530746,  0.29658371,\n",
       "         0.18963592,  0.21410046,  0.34772357,  0.89871257,  0.89081959,\n",
       "         0.1175709 ,  0.48111223,  0.42823375,  0.32320355,  0.44823388],\n",
       "       [ 0.19206433,  0.19219144,  0.20043165,  0.47501288,  0.28495452,\n",
       "         0.1519288 ,  0.29332956,  0.99457149,  1.00000984,  0.48863606,\n",
       "         0.48863606,  0.1926347 ,  0.22051385,  0.21984908,  0.44553628,\n",
       "         0.35612362,  0.47208162,  0.37109492,  0.40213826,  0.2878574 ,\n",
       "         0.1844434 ,  0.20779003,  0.35169211,  0.88868144,  0.89648292,\n",
       "         0.11562629,  0.47918379,  0.43376695,  0.3144446 ,  0.44090885],\n",
       "       [ 0.18271943,  0.29161893,  0.30187847,  0.61700943,  0.27465531,\n",
       "         0.21222174,  0.31223119,  0.49543649,  0.48863606,  1.00000984,\n",
       "         1.00000984,  0.29996677,  0.33564247,  0.33486328,  0.57701638,\n",
       "         0.11536345,  0.43818996,  0.40983649,  0.40019879,  0.27321461,\n",
       "         0.23351675,  0.29883795,  0.51899383,  0.53503435,  0.52421949,\n",
       "         0.13303857,  0.56193446,  0.53715279,  0.37777342,  0.47853385],\n",
       "       [ 0.18271943,  0.29161893,  0.30187847,  0.61700943,  0.27465531,\n",
       "         0.21222174,  0.31223119,  0.49543649,  0.48863606,  1.00000984,\n",
       "         1.00000984,  0.29996677,  0.33564247,  0.33486328,  0.57701638,\n",
       "         0.11536345,  0.43818996,  0.40983649,  0.40019879,  0.27321461,\n",
       "         0.23351675,  0.29883795,  0.51899383,  0.53503435,  0.52421949,\n",
       "         0.13303857,  0.56193446,  0.53715279,  0.37777342,  0.47853385],\n",
       "       [ 0.19453783,  0.95322241,  0.95304127,  0.30786662,  0.16722064,\n",
       "         0.29395474,  0.32272813,  0.18915567,  0.1926347 ,  0.29996677,\n",
       "         0.29996677,  1.00000984,  0.9598062 ,  0.9624735 ,  0.3054013 ,\n",
       "        -0.05413973,  0.24335348,  0.26638925,  0.21618034,  0.21140454,\n",
       "         0.27560846,  0.25041368,  0.45858676,  0.25914296,  0.26550089,\n",
       "         0.13971686,  0.63648574,  0.68248937,  0.35804789,  0.35288912],\n",
       "       [ 0.22287468,  0.90732024,  0.91701025,  0.35294378,  0.19237844,\n",
       "         0.32499403,  0.3680032 ,  0.21688888,  0.22051385,  0.33564247,\n",
       "         0.33564247,  0.9598062 ,  1.00000984,  0.99996316,  0.35594798,\n",
       "        -0.01837973,  0.27008479,  0.31016534,  0.26915251,  0.24050532,\n",
       "         0.31110167,  0.32048719,  0.51537748,  0.29920919,  0.3053376 ,\n",
       "         0.17647851,  0.70581325,  0.69106864,  0.42765627,  0.42824804],\n",
       "       [ 0.22219731,  0.91011351,  0.9194767 ,  0.35186411,  0.19176972,\n",
       "         0.32436019,  0.36693686,  0.21622429,  0.21984908,  0.33486328,\n",
       "         0.33486328,  0.9624735 ,  0.99996316,  1.00000984,  0.35468405,\n",
       "        -0.01963521,  0.26952581,  0.30907325,  0.26768903,  0.23982523,\n",
       "         0.31029594,  0.31850371,  0.51411181,  0.29823015,  0.30437465,\n",
       "         0.1754491 ,  0.70437069,  0.69169741,  0.42583211,  0.42622672],\n",
       "       [ 0.18612231,  0.28051011,  0.29129893,  0.94578373,  0.19381148,\n",
       "         0.2033775 ,  0.29130229,  0.4466846 ,  0.44553628,  0.57701638,\n",
       "         0.57701638,  0.3054013 ,  0.35594798,  0.35468405,  1.00000984,\n",
       "         0.2227635 ,  0.41881202,  0.38654125,  0.49991877,  0.20098933,\n",
       "         0.21565896,  0.32696145,  0.54555493,  0.5284904 ,  0.52494352,\n",
       "         0.1624672 ,  0.61894944,  0.54698411,  0.37915609,  0.54091585],\n",
       "       [ 0.18620143, -0.06069792, -0.05449103,  0.17234757,  0.21565877,\n",
       "         0.13130461,  0.26543891,  0.36308867,  0.35612362,  0.11536345,\n",
       "         0.11536345, -0.05413973, -0.01837973, -0.01963521,  0.2227635 ,\n",
       "         1.00000984,  0.30534728,  0.13960532,  0.31793702,  0.22534228,\n",
       "         0.16421569,  0.0509252 ,  0.04964461,  0.35890623,  0.34790763,\n",
       "         0.17312087,  0.49299352,  0.20078754,  0.20851124,  0.32401142],\n",
       "       [ 0.1766008 ,  0.23944272,  0.24807827,  0.43364428,  0.25602472,\n",
       "         0.2248816 ,  0.27923043,  0.47626785,  0.47208162,  0.43818996,\n",
       "         0.43818996,  0.24335348,  0.27008479,  0.26952581,  0.41881202,\n",
       "         0.30534728,  1.00000984,  0.49472874,  0.59798643,  0.26982315,\n",
       "         0.22064749,  0.1322831 ,  0.32307758,  0.52139055,  0.51656655,\n",
       "         0.14950003,  0.51621377,  0.49784332,  0.26299583,  0.53022214],\n",
       "       [ 0.16478972,  0.24516226,  0.25490674,  0.40044762,  0.20492897,\n",
       "         0.21864706,  0.2931735 ,  0.37434793,  0.37109492,  0.40983649,\n",
       "         0.40983649,  0.26638925,  0.31016534,  0.30907325,  0.38654125,\n",
       "         0.13960532,  0.49472874,  1.00000984,  0.60779384,  0.23464529,\n",
       "         0.22526431,  0.14978151,  0.2981065 ,  0.42338249,  0.41651773,\n",
       "         0.15180838,  0.45878291,  0.41098022,  0.28216912,  0.54802761],\n",
       "       [ 0.19373928,  0.18278581,  0.19248835,  0.453443  ,  0.23403392,\n",
       "         0.23313823,  0.34713047,  0.40530746,  0.40213826,  0.40019879,\n",
       "         0.40019879,  0.21618034,  0.26915251,  0.26768903,  0.49991877,\n",
       "         0.31793702,  0.59798643,  0.60779384,  1.00000984,  0.24654381,\n",
       "         0.25979496,  0.15510216,  0.29981774,  0.48478961,  0.47549672,\n",
       "         0.23661382,  0.6125627 ,  0.55076872,  0.32176405,  0.81432553],\n",
       "       [ 0.21179879,  0.19340799,  0.20165646,  0.19155402,  0.8704301 ,\n",
       "         0.28348012,  0.40665657,  0.29658371,  0.2878574 ,  0.27321461,\n",
       "         0.27321461,  0.21140454,  0.24050532,  0.23982523,  0.20098933,\n",
       "         0.22534228,  0.26982315,  0.23464529,  0.24654381,  1.00000984,\n",
       "         0.30785863,  0.20140639,  0.16522742,  0.32457733,  0.31175015,\n",
       "         0.19811465,  0.35445538,  0.21025618,  0.38786924,  0.38990663],\n",
       "       [ 0.21403265,  0.24648459,  0.25311388,  0.19136009,  0.29093546,\n",
       "         0.91448025,  0.74157389,  0.18963592,  0.1844434 ,  0.23351675,\n",
       "         0.23351675,  0.27560846,  0.31110167,  0.31029594,  0.21565896,\n",
       "         0.16421569,  0.22064749,  0.22526431,  0.25979496,  0.30785863,\n",
       "         1.00000984,  0.28231654,  0.18370909,  0.23532308,  0.22482584,\n",
       "         0.24178704,  0.38541398,  0.23923998,  0.66019457,  0.56502426],\n",
       "       [ 0.16520668,  0.22401435,  0.23390513,  0.34150105,  0.20088336,\n",
       "         0.25571178,  0.30697543,  0.21410046,  0.20779003,  0.29883795,\n",
       "         0.29883795,  0.25041368,  0.32048719,  0.31850371,  0.32696145,\n",
       "         0.0509252 ,  0.1322831 ,  0.14978151,  0.15510216,  0.20140639,\n",
       "         0.28231654,  1.00000984,  0.35721951,  0.27211648,  0.26042324,\n",
       "         0.12194357,  0.39492541,  0.25334407,  0.76304939,  0.56347329],\n",
       "       [ 0.1761601 ,  0.44614823,  0.4558562 ,  0.58558779,  0.15421532,\n",
       "         0.19041132,  0.25587336,  0.34772357,  0.35169211,  0.51899383,\n",
       "         0.51899383,  0.45858676,  0.51537748,  0.51411181,  0.54555493,\n",
       "         0.04964461,  0.32307758,  0.2981065 ,  0.29981774,  0.16522742,\n",
       "         0.18370909,  0.35721951,  1.00000984,  0.39903931,  0.40478355,\n",
       "         0.11353284,  0.56696924,  0.59108676,  0.37187499,  0.41297568],\n",
       "       [ 0.22256074,  0.25392132,  0.26422654,  0.54393675,  0.30975059,\n",
       "         0.2099792 ,  0.33711449,  0.89871257,  0.88868144,  0.53503435,\n",
       "         0.53503435,  0.25914296,  0.29920919,  0.29823015,  0.5284904 ,\n",
       "         0.35890623,  0.52139055,  0.42338249,  0.48478961,  0.32457733,\n",
       "         0.23532308,  0.27211648,  0.39903931,  1.00000984,  0.98506802,\n",
       "         0.15982029,  0.56450903,  0.4875951 ,  0.37985384,  0.53200781],\n",
       "       [ 0.21616802,  0.26273395,  0.27294601,  0.54231588,  0.29361522,\n",
       "         0.20592865,  0.32190189,  0.89081959,  0.89648292,  0.52421949,\n",
       "         0.52421949,  0.26550089,  0.3053376 ,  0.30437465,  0.52494352,\n",
       "         0.34790763,  0.51656655,  0.41651773,  0.47549672,  0.31175015,\n",
       "         0.22482584,  0.26042324,  0.40478355,  0.98506802,  1.00000984,\n",
       "         0.15316236,  0.56044964,  0.49679124,  0.36303772,  0.51596481],\n",
       "       [ 0.15594122,  0.11249727,  0.11862456,  0.12793983,  0.17789591,\n",
       "         0.21790377,  0.27033176,  0.1175709 ,  0.11562629,  0.13303857,\n",
       "         0.13303857,  0.13971686,  0.17647851,  0.1754491 ,  0.1624672 ,\n",
       "         0.17312087,  0.14950003,  0.15180838,  0.23661382,  0.19811465,\n",
       "         0.24178704,  0.12194357,  0.11353284,  0.15982029,  0.15316236,\n",
       "         1.00000984,  0.31253038,  0.12752221,  0.25121846,  0.30000953],\n",
       "       [ 0.31560444,  0.59508854,  0.60925474,  0.58434152,  0.3231528 ,\n",
       "         0.36851761,  0.49546887,  0.48111223,  0.47918379,  0.56193446,\n",
       "         0.56193446,  0.63648574,  0.70581325,  0.70437069,  0.61894944,\n",
       "         0.49299352,  0.51621377,  0.45878291,  0.6125627 ,  0.35445538,\n",
       "         0.38541398,  0.39492541,  0.56696924,  0.56450903,  0.56044964,\n",
       "         0.31253038,  1.00000984,  0.78794214,  0.555504  ,  0.71852994],\n",
       "       [ 0.19657952,  0.72793941,  0.7349799 ,  0.56438625,  0.19806767,\n",
       "         0.26713947,  0.3125216 ,  0.42823375,  0.43376695,  0.53715279,\n",
       "         0.53715279,  0.68248937,  0.69106864,  0.69169741,  0.54698411,\n",
       "         0.20078754,  0.49784332,  0.41098022,  0.55076872,  0.21025618,\n",
       "         0.23923998,  0.25334407,  0.59108676,  0.4875951 ,  0.49679124,\n",
       "         0.12752221,  0.78794214,  1.00000984,  0.35274133,  0.55610117],\n",
       "       [ 0.27145366,  0.31830283,  0.33026366,  0.36181897,  0.36339115,\n",
       "         0.58650674,  0.84938345,  0.32320355,  0.3144446 ,  0.37777342,\n",
       "         0.37777342,  0.35804789,  0.42765627,  0.42583211,  0.37915609,\n",
       "         0.20851124,  0.26299583,  0.28216912,  0.32176405,  0.38786924,\n",
       "         0.66019457,  0.76304939,  0.37187499,  0.37985384,  0.36303772,\n",
       "         0.25121846,  0.555504  ,  0.35274133,  1.00000984,  0.81157701],\n",
       "       [ 0.28595742,  0.3079178 ,  0.32123718,  0.50160897,  0.36718158,\n",
       "         0.50340307,  0.73489301,  0.44823388,  0.44090885,  0.47853385,\n",
       "         0.47853385,  0.35288912,  0.42824804,  0.42622672,  0.54091585,\n",
       "         0.32401142,  0.53022214,  0.54802761,  0.81432553,  0.38990663,\n",
       "         0.56502426,  0.56347329,  0.41297568,  0.53200781,  0.51596481,\n",
       "         0.30000953,  0.71852994,  0.55610117,  0.81157701,  1.00000984]])"
      ]
     },
     "execution_count": 68,
     "metadata": {},
     "output_type": "execute_result"
    }
   ],
   "source": [
    "np.cov(X.T)"
   ]
  },
  {
   "cell_type": "code",
   "execution_count": 69,
   "id": "c7357c5c",
   "metadata": {},
   "outputs": [
    {
     "data": {
      "text/plain": [
       "(101662, 14)"
      ]
     },
     "execution_count": 69,
     "metadata": {},
     "output_type": "execute_result"
    }
   ],
   "source": [
    "x_pca = pca.fit_transform(x_scaled)\n",
    "x_pca.shape"
   ]
  },
  {
   "cell_type": "code",
   "execution_count": 77,
   "id": "49688f8f",
   "metadata": {},
   "outputs": [
    {
     "data": {
      "text/plain": [
       "array([0.40007658, 0.12684011, 0.09379072, 0.05502317, 0.04635376,\n",
       "       0.04392408, 0.03530601, 0.03085276, 0.02787466, 0.02756175,\n",
       "       0.02355136, 0.01656072, 0.01535452, 0.01440669])"
      ]
     },
     "execution_count": 77,
     "metadata": {},
     "output_type": "execute_result"
    }
   ],
   "source": [
    "pca.explained_variance_ratio_"
   ]
  },
  {
   "cell_type": "code",
   "execution_count": null,
   "id": "16e64572",
   "metadata": {},
   "outputs": [],
   "source": []
  },
  {
   "cell_type": "code",
   "execution_count": 71,
   "id": "701690e1",
   "metadata": {},
   "outputs": [
    {
     "data": {
      "text/plain": [
       "(101662,)"
      ]
     },
     "execution_count": 71,
     "metadata": {},
     "output_type": "execute_result"
    }
   ],
   "source": [
    "y.shape"
   ]
  },
  {
   "cell_type": "code",
   "execution_count": 78,
   "id": "8fef6df7",
   "metadata": {},
   "outputs": [],
   "source": [
    "from sklearn.model_selection import train_test_split"
   ]
  },
  {
   "cell_type": "code",
   "execution_count": 79,
   "id": "c218a157",
   "metadata": {},
   "outputs": [],
   "source": [
    "from sklearn.linear_model import LinearRegression"
   ]
  },
  {
   "cell_type": "code",
   "execution_count": 80,
   "id": "8bd72270",
   "metadata": {},
   "outputs": [],
   "source": [
    "x_tr,x_test,y_tr,y_test=train_test_split(x_pca,y,test_size=.2)"
   ]
  },
  {
   "cell_type": "code",
   "execution_count": 81,
   "id": "08996e89",
   "metadata": {},
   "outputs": [
    {
     "data": {
      "text/plain": [
       "(81329, 14)"
      ]
     },
     "execution_count": 81,
     "metadata": {},
     "output_type": "execute_result"
    }
   ],
   "source": [
    "x_tr.shape"
   ]
  },
  {
   "cell_type": "code",
   "execution_count": 82,
   "id": "cce8f5fa",
   "metadata": {},
   "outputs": [
    {
     "data": {
      "text/plain": [
       "(20333, 14)"
      ]
     },
     "execution_count": 82,
     "metadata": {},
     "output_type": "execute_result"
    }
   ],
   "source": [
    "x_test.shape"
   ]
  },
  {
   "cell_type": "code",
   "execution_count": 83,
   "id": "60a3c006",
   "metadata": {},
   "outputs": [],
   "source": [
    "model_lm_pca=LinearRegression().fit(x_tr,y_tr)"
   ]
  },
  {
   "cell_type": "code",
   "execution_count": 84,
   "id": "6beba4c3",
   "metadata": {},
   "outputs": [],
   "source": [
    "explained_variance=pca.explained_variance_ratio_"
   ]
  },
  {
   "cell_type": "code",
   "execution_count": 85,
   "id": "afba566e",
   "metadata": {},
   "outputs": [
    {
     "data": {
      "text/plain": [
       "array([0.40007658, 0.12684011, 0.09379072, 0.05502317, 0.04635376,\n",
       "       0.04392408, 0.03530601, 0.03085276, 0.02787466, 0.02756175,\n",
       "       0.02355136, 0.01656072, 0.01535452, 0.01440669])"
      ]
     },
     "execution_count": 85,
     "metadata": {},
     "output_type": "execute_result"
    }
   ],
   "source": [
    "explained_variance"
   ]
  },
  {
   "cell_type": "code",
   "execution_count": 86,
   "id": "c09e55f2",
   "metadata": {},
   "outputs": [],
   "source": [
    "from sklearn.linear_model import LinearRegression"
   ]
  },
  {
   "cell_type": "code",
   "execution_count": 87,
   "id": "53d7409a",
   "metadata": {},
   "outputs": [],
   "source": [
    "model_lm=LinearRegression().fit(x_tr,y_tr)"
   ]
  },
  {
   "cell_type": "code",
   "execution_count": 88,
   "id": "4a93ab83",
   "metadata": {},
   "outputs": [
    {
     "data": {
      "text/plain": [
       "(81329,)"
      ]
     },
     "execution_count": 88,
     "metadata": {},
     "output_type": "execute_result"
    }
   ],
   "source": [
    "y_tr.shape"
   ]
  },
  {
   "cell_type": "code",
   "execution_count": 89,
   "id": "ca3b09ac",
   "metadata": {},
   "outputs": [
    {
     "data": {
      "text/plain": [
       "(81329, 14)"
      ]
     },
     "execution_count": 89,
     "metadata": {},
     "output_type": "execute_result"
    }
   ],
   "source": [
    "x_tr.shape"
   ]
  },
  {
   "cell_type": "code",
   "execution_count": 90,
   "id": "32eeb877",
   "metadata": {},
   "outputs": [
    {
     "data": {
      "text/plain": [
       "(20333, 14)"
      ]
     },
     "execution_count": 90,
     "metadata": {},
     "output_type": "execute_result"
    }
   ],
   "source": [
    "x_test.shape"
   ]
  },
  {
   "cell_type": "code",
   "execution_count": 91,
   "id": "cddb360e",
   "metadata": {},
   "outputs": [],
   "source": [
    "p=model_lm.predict(x_test)"
   ]
  },
  {
   "cell_type": "code",
   "execution_count": 92,
   "id": "f6bcf724",
   "metadata": {},
   "outputs": [
    {
     "data": {
      "text/plain": [
       "0.520303320939954"
      ]
     },
     "execution_count": 92,
     "metadata": {},
     "output_type": "execute_result"
    }
   ],
   "source": [
    "from sklearn.metrics import r2_score\n",
    "r2_score(y_test,p)"
   ]
  },
  {
   "cell_type": "code",
   "execution_count": null,
   "id": "288eee61",
   "metadata": {},
   "outputs": [],
   "source": []
  }
 ],
 "metadata": {
  "kernelspec": {
   "display_name": "Python 3",
   "language": "python",
   "name": "python3"
  },
  "language_info": {
   "codemirror_mode": {
    "name": "ipython",
    "version": 3
   },
   "file_extension": ".py",
   "mimetype": "text/x-python",
   "name": "python",
   "nbconvert_exporter": "python",
   "pygments_lexer": "ipython3",
   "version": "3.8.8"
  }
 },
 "nbformat": 4,
 "nbformat_minor": 5
}
