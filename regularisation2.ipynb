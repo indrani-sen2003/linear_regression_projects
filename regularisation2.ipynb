{
 "cells": [
  {
   "cell_type": "code",
   "execution_count": 1,
   "id": "17f5f4c9",
   "metadata": {},
   "outputs": [],
   "source": [
    "import pandas as pd"
   ]
  },
  {
   "cell_type": "code",
   "execution_count": 2,
   "id": "ca24b248",
   "metadata": {},
   "outputs": [],
   "source": [
    "df_b=pd.read_csv(\"d:/csv-ml/boston_dataset.csv\")"
   ]
  },
  {
   "cell_type": "code",
   "execution_count": 3,
   "id": "f7c21401",
   "metadata": {},
   "outputs": [],
   "source": [
    "df_b=df_b.drop(\"Unnamed: 0\",axis=1)"
   ]
  },
  {
   "cell_type": "code",
   "execution_count": 4,
   "id": "a3c4f7d2",
   "metadata": {},
   "outputs": [],
   "source": [
    "from sklearn.model_selection import train_test_split\n",
    "from sklearn.linear_model import LinearRegression\n",
    "from sklearn.metrics import r2_score\n",
    "from mlxtend.evaluate import bias_variance_decomp"
   ]
  },
  {
   "cell_type": "code",
   "execution_count": 5,
   "id": "bf32f555",
   "metadata": {},
   "outputs": [],
   "source": [
    "x=df_b.iloc[:,0:13]\n",
    "y=df_b.iloc[:,13]"
   ]
  },
  {
   "cell_type": "code",
   "execution_count": 6,
   "id": "059bf148",
   "metadata": {},
   "outputs": [],
   "source": [
    "x_tr,x_test,y_tr,y_test=train_test_split(x,y,test_size=.2,random_state=1)"
   ]
  },
  {
   "cell_type": "code",
   "execution_count": 7,
   "id": "21fd8740",
   "metadata": {},
   "outputs": [],
   "source": [
    "lm_model=LinearRegression()\n",
    "mse,bias,var=bias_variance_decomp(lm_model,x_tr.values,y_tr.values,x_test.values,y_test.values,loss='mse',num_rounds=200,random_seed=1)"
   ]
  },
  {
   "cell_type": "code",
   "execution_count": 8,
   "id": "7fd2714d",
   "metadata": {},
   "outputs": [
    {
     "name": "stdout",
     "output_type": "stream",
     "text": [
      "mse: 24.288477369233178\n",
      "bias: 23.19674447080956\n",
      "variance: 1.0917328984236105\n"
     ]
    }
   ],
   "source": [
    "print(\"mse:\",mse)\n",
    "print(\"bias:\",bias)\n",
    "print(\"variance:\",var)"
   ]
  },
  {
   "cell_type": "code",
   "execution_count": 9,
   "id": "dd94ca36",
   "metadata": {},
   "outputs": [],
   "source": [
    "p=lm_model.predict(x_test)"
   ]
  },
  {
   "cell_type": "code",
   "execution_count": 10,
   "id": "21eeac37",
   "metadata": {},
   "outputs": [],
   "source": [
    "coef=lm_model.coef_"
   ]
  },
  {
   "cell_type": "code",
   "execution_count": 11,
   "id": "50263d00",
   "metadata": {},
   "outputs": [],
   "source": [
    "c=x_tr.columns"
   ]
  },
  {
   "cell_type": "code",
   "execution_count": 12,
   "id": "53b6d205",
   "metadata": {},
   "outputs": [],
   "source": [
    "dict2={\"features\":c,\"coefficients\":coef}"
   ]
  },
  {
   "cell_type": "code",
   "execution_count": 13,
   "id": "e15a2b8b",
   "metadata": {},
   "outputs": [],
   "source": [
    "lm_coef=pd.DataFrame.from_dict(dict2)"
   ]
  },
  {
   "cell_type": "code",
   "execution_count": 14,
   "id": "97ff101b",
   "metadata": {},
   "outputs": [
    {
     "data": {
      "text/html": [
       "<div>\n",
       "<style scoped>\n",
       "    .dataframe tbody tr th:only-of-type {\n",
       "        vertical-align: middle;\n",
       "    }\n",
       "\n",
       "    .dataframe tbody tr th {\n",
       "        vertical-align: top;\n",
       "    }\n",
       "\n",
       "    .dataframe thead th {\n",
       "        text-align: right;\n",
       "    }\n",
       "</style>\n",
       "<table border=\"1\" class=\"dataframe\">\n",
       "  <thead>\n",
       "    <tr style=\"text-align: right;\">\n",
       "      <th></th>\n",
       "      <th>features</th>\n",
       "      <th>coefficients</th>\n",
       "    </tr>\n",
       "  </thead>\n",
       "  <tbody>\n",
       "    <tr>\n",
       "      <th>0</th>\n",
       "      <td>crim</td>\n",
       "      <td>-0.096393</td>\n",
       "    </tr>\n",
       "    <tr>\n",
       "      <th>1</th>\n",
       "      <td>zn</td>\n",
       "      <td>0.093940</td>\n",
       "    </tr>\n",
       "    <tr>\n",
       "      <th>2</th>\n",
       "      <td>indus</td>\n",
       "      <td>-0.045615</td>\n",
       "    </tr>\n",
       "    <tr>\n",
       "      <th>3</th>\n",
       "      <td>chas</td>\n",
       "      <td>2.448580</td>\n",
       "    </tr>\n",
       "    <tr>\n",
       "      <th>4</th>\n",
       "      <td>nox</td>\n",
       "      <td>-19.384136</td>\n",
       "    </tr>\n",
       "    <tr>\n",
       "      <th>5</th>\n",
       "      <td>rm</td>\n",
       "      <td>2.177419</td>\n",
       "    </tr>\n",
       "    <tr>\n",
       "      <th>6</th>\n",
       "      <td>age</td>\n",
       "      <td>0.010374</td>\n",
       "    </tr>\n",
       "    <tr>\n",
       "      <th>7</th>\n",
       "      <td>dis</td>\n",
       "      <td>-1.630211</td>\n",
       "    </tr>\n",
       "    <tr>\n",
       "      <th>8</th>\n",
       "      <td>rad</td>\n",
       "      <td>0.468085</td>\n",
       "    </tr>\n",
       "    <tr>\n",
       "      <th>9</th>\n",
       "      <td>tax</td>\n",
       "      <td>-0.017705</td>\n",
       "    </tr>\n",
       "    <tr>\n",
       "      <th>10</th>\n",
       "      <td>ptratio</td>\n",
       "      <td>-0.913433</td>\n",
       "    </tr>\n",
       "    <tr>\n",
       "      <th>11</th>\n",
       "      <td>black</td>\n",
       "      <td>0.006096</td>\n",
       "    </tr>\n",
       "    <tr>\n",
       "      <th>12</th>\n",
       "      <td>lstat</td>\n",
       "      <td>-0.552379</td>\n",
       "    </tr>\n",
       "  </tbody>\n",
       "</table>\n",
       "</div>"
      ],
      "text/plain": [
       "   features  coefficients\n",
       "0      crim     -0.096393\n",
       "1        zn      0.093940\n",
       "2     indus     -0.045615\n",
       "3      chas      2.448580\n",
       "4       nox    -19.384136\n",
       "5        rm      2.177419\n",
       "6       age      0.010374\n",
       "7       dis     -1.630211\n",
       "8       rad      0.468085\n",
       "9       tax     -0.017705\n",
       "10  ptratio     -0.913433\n",
       "11    black      0.006096\n",
       "12    lstat     -0.552379"
      ]
     },
     "execution_count": 14,
     "metadata": {},
     "output_type": "execute_result"
    }
   ],
   "source": [
    "lm_coef"
   ]
  },
  {
   "cell_type": "code",
   "execution_count": 34,
   "id": "a455e54f",
   "metadata": {},
   "outputs": [
    {
     "data": {
      "text/plain": [
       "<AxesSubplot:xlabel='features', ylabel='coefficients'>"
      ]
     },
     "execution_count": 34,
     "metadata": {},
     "output_type": "execute_result"
    },
    {
     "data": {
      "image/png": "[encoded data removed]",
      "text/plain": [
       "<Figure size 432x288 with 1 Axes>"
      ]
     },
     "metadata": {
      "needs_background": "light"
     },
     "output_type": "display_data"
    }
   ],
   "source": [
    "sns.barplot(x=\"features\",y=\"coefficients\",data=lm_coef)"
   ]
  },
  {
   "cell_type": "code",
   "execution_count": 15,
   "id": "54667eca",
   "metadata": {},
   "outputs": [
    {
     "data": {
      "text/plain": [
       "0.7211463419432731"
      ]
     },
     "execution_count": 15,
     "metadata": {},
     "output_type": "execute_result"
    }
   ],
   "source": [
    "r2_score(y_test,p)"
   ]
  },
  {
   "cell_type": "markdown",
   "id": "2a5a877a",
   "metadata": {},
   "source": [
    "# ridge model1"
   ]
  },
  {
   "cell_type": "code",
   "execution_count": 16,
   "id": "f9e2e6f8",
   "metadata": {},
   "outputs": [],
   "source": [
    "from sklearn.linear_model import Ridge"
   ]
  },
  {
   "cell_type": "code",
   "execution_count": 17,
   "id": "47375a68",
   "metadata": {},
   "outputs": [],
   "source": [
    "ridge_model=Ridge(alpha=1)"
   ]
  },
  {
   "cell_type": "code",
   "execution_count": 18,
   "id": "e8024da6",
   "metadata": {},
   "outputs": [
    {
     "data": {
      "text/plain": [
       "Ridge(alpha=1)"
      ]
     },
     "execution_count": 18,
     "metadata": {},
     "output_type": "execute_result"
    }
   ],
   "source": [
    "ridge_model.fit(x_tr,y_tr)"
   ]
  },
  {
   "cell_type": "code",
   "execution_count": 19,
   "id": "034a4235",
   "metadata": {},
   "outputs": [],
   "source": [
    "p1=ridge_model.predict(x_test)"
   ]
  },
  {
   "cell_type": "code",
   "execution_count": 20,
   "id": "8cd864cb",
   "metadata": {},
   "outputs": [
    {
     "data": {
      "text/plain": [
       "0.7655800611077145"
      ]
     },
     "execution_count": 20,
     "metadata": {},
     "output_type": "execute_result"
    }
   ],
   "source": [
    "r2_score(y_test,p1)"
   ]
  },
  {
   "cell_type": "code",
   "execution_count": 21,
   "id": "edf77b19",
   "metadata": {},
   "outputs": [],
   "source": [
    "mse,bias,var=bias_variance_decomp(ridge_model,x_tr.values,y_tr.values,x_test.values,y_test.values,loss='mse',num_rounds=200,random_seed=1)"
   ]
  },
  {
   "cell_type": "code",
   "execution_count": 22,
   "id": "96b5a389",
   "metadata": {},
   "outputs": [
    {
     "name": "stdout",
     "output_type": "stream",
     "text": [
      "mse: 24.044208210309147\n",
      "bias: 22.98876782774778\n",
      "variance: 1.0554403825613732\n"
     ]
    }
   ],
   "source": [
    "print(\"mse:\",mse)\n",
    "print(\"bias:\",bias)\n",
    "print(\"variance:\",var)"
   ]
  },
  {
   "cell_type": "markdown",
   "id": "af9d6cdc",
   "metadata": {},
   "source": [
    "# ridge model1"
   ]
  },
  {
   "cell_type": "code",
   "execution_count": 23,
   "id": "5d818571",
   "metadata": {},
   "outputs": [],
   "source": [
    "ridge_model2=Ridge(alpha=2.0)"
   ]
  },
  {
   "cell_type": "code",
   "execution_count": 24,
   "id": "a951c01c",
   "metadata": {},
   "outputs": [
    {
     "data": {
      "text/plain": [
       "Ridge(alpha=2.0)"
      ]
     },
     "execution_count": 24,
     "metadata": {},
     "output_type": "execute_result"
    }
   ],
   "source": [
    "ridge_model2.fit(x_tr,y_tr)"
   ]
  },
  {
   "cell_type": "code",
   "execution_count": 25,
   "id": "930e87a9",
   "metadata": {},
   "outputs": [],
   "source": [
    "p2=ridge_model.predict(x_test)"
   ]
  },
  {
   "cell_type": "code",
   "execution_count": 26,
   "id": "ad27fe17",
   "metadata": {},
   "outputs": [
    {
     "data": {
      "text/plain": [
       "0.7211463419432731"
      ]
     },
     "execution_count": 26,
     "metadata": {},
     "output_type": "execute_result"
    }
   ],
   "source": [
    "r2_score(y_test,p)"
   ]
  },
  {
   "cell_type": "code",
   "execution_count": 27,
   "id": "5fcb4baf",
   "metadata": {},
   "outputs": [],
   "source": [
    "mse,bias,var=bias_variance_decomp(ridge_model2,x_tr.values,y_tr.values,x_test.values,y_test.values,loss='mse',num_rounds=200,random_seed=1)"
   ]
  },
  {
   "cell_type": "code",
   "execution_count": 28,
   "id": "db6b9133",
   "metadata": {},
   "outputs": [
    {
     "name": "stdout",
     "output_type": "stream",
     "text": [
      "mse: 24.135089459806224\n",
      "bias: 23.08951925083383\n",
      "variance: 1.045570208972398\n"
     ]
    }
   ],
   "source": [
    "print(\"mse:\",mse)\n",
    "print(\"bias:\",bias)\n",
    "print(\"variance:\",var)"
   ]
  },
  {
   "cell_type": "code",
   "execution_count": 29,
   "id": "c11446d0",
   "metadata": {},
   "outputs": [
    {
     "data": {
      "image/png": "[encoded data removed]",
      "text/plain": [
       "<Figure size 360x360 with 1 Axes>"
      ]
     },
     "metadata": {
      "needs_background": "light"
     },
     "output_type": "display_data"
    },
    {
     "data": {
      "image/png": "[encoded data removed]",
      "text/plain": [
       "<Figure size 360x360 with 1 Axes>"
      ]
     },
     "metadata": {
      "needs_background": "light"
     },
     "output_type": "display_data"
    }
   ],
   "source": [
    "import seaborn as sns\n",
    "import matplotlib.pyplot as plt\n",
    "alpha= [0.0001, 0.001, 0.01, 0.05, 0.1, \n",
    " 0.2, 0.3, 0.4, 0.5, 0.6, 0.7, 0.8, 0.9, 1.0, 2.0, 3.0, \n",
    " 4.0, 5.0, 6.0, 7.0, 8.0, 9.0, 10.0 ]\n",
    "\n",
    "bias1=[]\n",
    "var1=[]\n",
    "mse1=[]\n",
    "\n",
    "for i in alpha:\n",
    "    model=Ridge(alpha=i)\n",
    "    mse,bias,var=bias_variance_decomp(model,x_tr.values,y_tr.values,x_test.values,y_test.values,loss=\"mse\",num_rounds=200,random_seed=1)\n",
    "    mse1.append(mse)\n",
    "    bias1.append(bias)\n",
    "    var1.append(var)\n",
    "plt1=sns.relplot(x=var1,y=mse1,kind=\"line\")\n",
    "plt2=sns.relplot(x=bias1,y=mse1,kind=\"line\")\n",
    "plt1.set_xlabels(\"variance\")\n",
    "plt1.set_ylabels(\"mean square error\")\n",
    "plt1.set_titles(\"variance vs Means square error\")\n",
    "\n",
    "plt2.set_xlabels(\"Bias\")\n",
    "plt2.set_ylabels(\"mean square error\")\n",
    "plt2.set_titles(\"Bias vs Means square error\")\n",
    "\n",
    "\n",
    "plt.show()"
   ]
  },
  {
   "cell_type": "code",
   "execution_count": 30,
   "id": "47c48692",
   "metadata": {},
   "outputs": [],
   "source": [
    "from sklearn.linear_model import Lasso\n",
    "lasso_model=Lasso(alpha=1.0)\n",
    "mse,bias,var=bias_variance_decomp(lasso_model,x_tr.values,y_tr.values,x_test.values,y_test.values,loss='mse',num_rounds=200,random_seed=1)"
   ]
  },
  {
   "cell_type": "code",
   "execution_count": 31,
   "id": "d0aa1be8",
   "metadata": {},
   "outputs": [
    {
     "name": "stdout",
     "output_type": "stream",
     "text": [
      "mse: 35.66138701642816\n",
      "bias: 34.73726034014022\n",
      "variance: 0.9241266762879403\n"
     ]
    }
   ],
   "source": [
    "print(\"mse:\",mse)\n",
    "print(\"bias:\",bias)\n",
    "print(\"variance:\",var)"
   ]
  },
  {
   "cell_type": "code",
   "execution_count": 32,
   "id": "a1a84632",
   "metadata": {},
   "outputs": [
    {
     "data": {
      "text/plain": [
       "array([-0.04073648,  0.08925634, -0.08683994,  0.        , -0.        ,\n",
       "        0.        ,  0.019168  , -0.85989516,  0.42340465, -0.02019791,\n",
       "       -0.66135468,  0.00569898, -0.74089486])"
      ]
     },
     "execution_count": 32,
     "metadata": {},
     "output_type": "execute_result"
    }
   ],
   "source": [
    "lasso_model.coef_"
   ]
  },
  {
   "cell_type": "code",
   "execution_count": 36,
   "id": "9e5c61e2",
   "metadata": {},
   "outputs": [],
   "source": [
    "lasso_coef=pd.DataFrame({\"features\":x_tr.columns,\"coef\":lasso_model.coef_})"
   ]
  },
  {
   "cell_type": "code",
   "execution_count": 37,
   "id": "201c96f2",
   "metadata": {},
   "outputs": [
    {
     "data": {
      "text/html": [
       "<div>\n",
       "<style scoped>\n",
       "    .dataframe tbody tr th:only-of-type {\n",
       "        vertical-align: middle;\n",
       "    }\n",
       "\n",
       "    .dataframe tbody tr th {\n",
       "        vertical-align: top;\n",
       "    }\n",
       "\n",
       "    .dataframe thead th {\n",
       "        text-align: right;\n",
       "    }\n",
       "</style>\n",
       "<table border=\"1\" class=\"dataframe\">\n",
       "  <thead>\n",
       "    <tr style=\"text-align: right;\">\n",
       "      <th></th>\n",
       "      <th>features</th>\n",
       "      <th>coef</th>\n",
       "    </tr>\n",
       "  </thead>\n",
       "  <tbody>\n",
       "    <tr>\n",
       "      <th>0</th>\n",
       "      <td>crim</td>\n",
       "      <td>-0.040736</td>\n",
       "    </tr>\n",
       "    <tr>\n",
       "      <th>1</th>\n",
       "      <td>zn</td>\n",
       "      <td>0.089256</td>\n",
       "    </tr>\n",
       "    <tr>\n",
       "      <th>2</th>\n",
       "      <td>indus</td>\n",
       "      <td>-0.086840</td>\n",
       "    </tr>\n",
       "    <tr>\n",
       "      <th>3</th>\n",
       "      <td>chas</td>\n",
       "      <td>0.000000</td>\n",
       "    </tr>\n",
       "    <tr>\n",
       "      <th>4</th>\n",
       "      <td>nox</td>\n",
       "      <td>-0.000000</td>\n",
       "    </tr>\n",
       "    <tr>\n",
       "      <th>5</th>\n",
       "      <td>rm</td>\n",
       "      <td>0.000000</td>\n",
       "    </tr>\n",
       "    <tr>\n",
       "      <th>6</th>\n",
       "      <td>age</td>\n",
       "      <td>0.019168</td>\n",
       "    </tr>\n",
       "    <tr>\n",
       "      <th>7</th>\n",
       "      <td>dis</td>\n",
       "      <td>-0.859895</td>\n",
       "    </tr>\n",
       "    <tr>\n",
       "      <th>8</th>\n",
       "      <td>rad</td>\n",
       "      <td>0.423405</td>\n",
       "    </tr>\n",
       "    <tr>\n",
       "      <th>9</th>\n",
       "      <td>tax</td>\n",
       "      <td>-0.020198</td>\n",
       "    </tr>\n",
       "    <tr>\n",
       "      <th>10</th>\n",
       "      <td>ptratio</td>\n",
       "      <td>-0.661355</td>\n",
       "    </tr>\n",
       "    <tr>\n",
       "      <th>11</th>\n",
       "      <td>black</td>\n",
       "      <td>0.005699</td>\n",
       "    </tr>\n",
       "    <tr>\n",
       "      <th>12</th>\n",
       "      <td>lstat</td>\n",
       "      <td>-0.740895</td>\n",
       "    </tr>\n",
       "  </tbody>\n",
       "</table>\n",
       "</div>"
      ],
      "text/plain": [
       "   features      coef\n",
       "0      crim -0.040736\n",
       "1        zn  0.089256\n",
       "2     indus -0.086840\n",
       "3      chas  0.000000\n",
       "4       nox -0.000000\n",
       "5        rm  0.000000\n",
       "6       age  0.019168\n",
       "7       dis -0.859895\n",
       "8       rad  0.423405\n",
       "9       tax -0.020198\n",
       "10  ptratio -0.661355\n",
       "11    black  0.005699\n",
       "12    lstat -0.740895"
      ]
     },
     "execution_count": 37,
     "metadata": {},
     "output_type": "execute_result"
    }
   ],
   "source": [
    "lasso_coef"
   ]
  },
  {
   "cell_type": "code",
   "execution_count": 38,
   "id": "9b97f47b",
   "metadata": {},
   "outputs": [
    {
     "data": {
      "text/plain": [
       "<AxesSubplot:xlabel='features', ylabel='coef'>"
      ]
     },
     "execution_count": 38,
     "metadata": {},
     "output_type": "execute_result"
    },
    {
     "data": {
      "image/png": "[encoded data removed]",
      "text/plain": [
       "<Figure size 432x288 with 1 Axes>"
      ]
     },
     "metadata": {
      "needs_background": "light"
     },
     "output_type": "display_data"
    }
   ],
   "source": [
    "sns.barplot(x=\"features\",y=\"coef\",data=lasso_coef)"
   ]
  },
  {
   "cell_type": "code",
   "execution_count": null,
   "id": "7c95448f",
   "metadata": {},
   "outputs": [],
   "source": []
  }
 ],
 "metadata": {
  "kernelspec": {
   "display_name": "Python 3",
   "language": "python",
   "name": "python3"
  },
  "language_info": {
   "codemirror_mode": {
    "name": "ipython",
    "version": 3
   },
   "file_extension": ".py",
   "mimetype": "text/x-python",
   "name": "python",
   "nbconvert_exporter": "python",
   "pygments_lexer": "ipython3",
   "version": "3.8.8"
  }
 },
 "nbformat": 4,
 "nbformat_minor": 5
}
