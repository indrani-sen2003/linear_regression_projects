{
 "cells": [
  {
   "cell_type": "code",
   "execution_count": 198,
   "metadata": {},
   "outputs": [],
   "source": [
    "import numpy as np\n",
    "import pandas as pd"
   ]
  },
  {
   "cell_type": "code",
   "execution_count": 199,
   "metadata": {},
   "outputs": [],
   "source": [
    "df=pd.read_csv(\"train.csv\")"
   ]
  },
  {
   "cell_type": "code",
   "execution_count": 200,
   "metadata": {},
   "outputs": [
    {
     "data": {
      "text/plain": [
       "<bound method NDFrame.head of                Customer Id          Artist Name  Artist Reputation  Height  \\\n",
       "0     fffe3900350033003300        Billy Jenkins               0.26    17.0   \n",
       "1     fffe3800330031003900          Jean Bryant               0.28     3.0   \n",
       "2     fffe3600370035003100         Laura Miller               0.07     8.0   \n",
       "3         fffe350031003300       Robert Chaires               0.12     9.0   \n",
       "4     fffe3900320038003400         Rosalyn Krol               0.15    17.0   \n",
       "...                    ...                  ...                ...     ...   \n",
       "6495  fffe3800370037003300  Jeffrey Freudenthal               0.37    37.0   \n",
       "6496      fffe310036003400        Larry Edwards               0.67    15.0   \n",
       "6497  fffe3600300031003300         Denise Worth               0.68    19.0   \n",
       "6498  fffe3600350035003900          Daniel Drew               0.02    33.0   \n",
       "6499  fffe3700310031003600       Vernon Carroll               0.18    30.0   \n",
       "\n",
       "      Width     Weight   Material  Price Of Sculpture  Base Shipping Price  \\\n",
       "0       6.0     4128.0      Brass               13.91                16.27   \n",
       "1       3.0       61.0      Brass                6.83                15.00   \n",
       "2       5.0      237.0       Clay                4.96                21.18   \n",
       "3       NaN        NaN  Aluminium                5.81                16.31   \n",
       "4       6.0      324.0  Aluminium                3.18                11.94   \n",
       "...     ...        ...        ...                 ...                  ...   \n",
       "6495   10.0    16551.0      Brass               28.28                38.46   \n",
       "6496    NaN    18981.0        NaN               67.18                27.72   \n",
       "6497    8.0      587.0       Clay                6.92                10.38   \n",
       "6498    9.0  1269377.0      Stone             2929.13                69.76   \n",
       "6499   13.0    34729.0      Brass               46.63                78.25   \n",
       "\n",
       "     International Express Shipment Installation Included Transport Fragile  \\\n",
       "0              Yes              Yes                    No   Airways      No   \n",
       "1               No               No                    No  Roadways      No   \n",
       "2               No               No                    No  Roadways     Yes   \n",
       "3               No               No                    No       NaN      No   \n",
       "4              Yes              Yes                   Yes   Airways      No   \n",
       "...            ...              ...                   ...       ...     ...   \n",
       "6495           Yes              Yes                    No   Airways      No   \n",
       "6496            No               No                    No  Roadways      No   \n",
       "6497           Yes               No                    No       NaN     Yes   \n",
       "6498            No              Yes                    No  Roadways      No   \n",
       "6499            No              Yes                    No   Airways      No   \n",
       "\n",
       "     Customer Information Remote Location Scheduled Date Delivery Date  \\\n",
       "0           Working Class              No       06/07/15      06/03/15   \n",
       "1           Working Class              No       03/06/17      03/05/17   \n",
       "2           Working Class             Yes       03/09/15      03/08/15   \n",
       "3                 Wealthy             Yes       05/24/15      05/20/15   \n",
       "4           Working Class              No       12/18/16      12/14/16   \n",
       "...                   ...             ...            ...           ...   \n",
       "6495              Wealthy             Yes       03/28/18      03/25/18   \n",
       "6496        Working Class              No       08/29/15      08/27/15   \n",
       "6497              Wealthy              No       04/10/19      04/09/19   \n",
       "6498        Working Class             Yes       03/10/19      03/12/19   \n",
       "6499        Working Class              No       12/03/16      12/05/16   \n",
       "\n",
       "              Customer Location     Cost  \n",
       "0        New Michelle, OH 50777  -283.29  \n",
       "1     New Michaelport, WY 12072  -159.96  \n",
       "2         Bowmanshire, WA 19241  -154.29  \n",
       "3          East Robyn, KY 86375  -161.16  \n",
       "4           Aprilside, PA 52793  -159.23  \n",
       "...                         ...      ...  \n",
       "6495       New Robert, VT 85335   872.43  \n",
       "6496       New Joshua, VA 35766  1347.02  \n",
       "6497       Lake Kelly, MA 80823   354.55  \n",
       "6498       Hintonberg, UT 35006  5037.50  \n",
       "6499  New Christopher, AK 87406   722.47  \n",
       "\n",
       "[6500 rows x 20 columns]>"
      ]
     },
     "execution_count": 200,
     "metadata": {},
     "output_type": "execute_result"
    }
   ],
   "source": [
    "df.head"
   ]
  },
  {
   "cell_type": "code",
   "execution_count": 201,
   "metadata": {},
   "outputs": [
    {
     "data": {
      "text/plain": [
       "Customer Id               object\n",
       "Artist Name               object\n",
       "Artist Reputation        float64\n",
       "Height                   float64\n",
       "Width                    float64\n",
       "Weight                   float64\n",
       "Material                  object\n",
       "Price Of Sculpture       float64\n",
       "Base Shipping Price      float64\n",
       "International             object\n",
       "Express Shipment          object\n",
       "Installation Included     object\n",
       "Transport                 object\n",
       "Fragile                   object\n",
       "Customer Information      object\n",
       "Remote Location           object\n",
       "Scheduled Date            object\n",
       "Delivery Date             object\n",
       "Customer Location         object\n",
       "Cost                     float64\n",
       "dtype: object"
      ]
     },
     "execution_count": 201,
     "metadata": {},
     "output_type": "execute_result"
    }
   ],
   "source": [
    "df.dtypes"
   ]
  },
  {
   "cell_type": "code",
   "execution_count": 202,
   "metadata": {},
   "outputs": [],
   "source": [
    "df_new=df.drop([\"Artist Name\",\"Scheduled Date\",\"Delivery Date\"],axis=1)"
   ]
  },
  {
   "cell_type": "code",
   "execution_count": 203,
   "metadata": {},
   "outputs": [],
   "source": [
    "df_new[\"Customer Location\"]=df_new[\"Customer Location\"].str.extract('(\\d+)')"
   ]
  },
  {
   "cell_type": "code",
   "execution_count": 204,
   "metadata": {},
   "outputs": [
    {
     "data": {
      "text/plain": [
       "0       50777\n",
       "1       12072\n",
       "2       19241\n",
       "3       86375\n",
       "4       52793\n",
       "        ...  \n",
       "6495    85335\n",
       "6496    35766\n",
       "6497    80823\n",
       "6498    35006\n",
       "6499    87406\n",
       "Name: Customer Location, Length: 6500, dtype: object"
      ]
     },
     "execution_count": 204,
     "metadata": {},
     "output_type": "execute_result"
    }
   ],
   "source": [
    "df_new[\"Customer Location\"]"
   ]
  },
  {
   "cell_type": "code",
   "execution_count": 205,
   "metadata": {},
   "outputs": [
    {
     "data": {
      "text/plain": [
       "Customer Id                 0\n",
       "Artist Reputation         750\n",
       "Height                    375\n",
       "Width                     584\n",
       "Weight                    587\n",
       "Material                  764\n",
       "Price Of Sculpture          0\n",
       "Base Shipping Price         0\n",
       "International               0\n",
       "Express Shipment            0\n",
       "Installation Included       0\n",
       "Transport                1392\n",
       "Fragile                     0\n",
       "Customer Information        0\n",
       "Remote Location           771\n",
       "Customer Location           0\n",
       "Cost                        0\n",
       "dtype: int64"
      ]
     },
     "execution_count": 205,
     "metadata": {},
     "output_type": "execute_result"
    }
   ],
   "source": [
    "df_new.isnull().sum()"
   ]
  },
  {
   "cell_type": "code",
   "execution_count": 206,
   "metadata": {},
   "outputs": [],
   "source": [
    "df_new=df_new.drop([\"Material\",\"International\",\"Express Shipment\",\"Installation Included\",\"Transport\",\"Fragile\",\"Customer Information\",\"Remote Location\",\"Customer Location\"],axis=1)"
   ]
  },
  {
   "cell_type": "code",
   "execution_count": 207,
   "metadata": {},
   "outputs": [
    {
     "data": {
      "text/plain": [
       "Customer Id              0\n",
       "Artist Reputation      750\n",
       "Height                 375\n",
       "Width                  584\n",
       "Weight                 587\n",
       "Price Of Sculpture       0\n",
       "Base Shipping Price      0\n",
       "Cost                     0\n",
       "dtype: int64"
      ]
     },
     "execution_count": 207,
     "metadata": {},
     "output_type": "execute_result"
    }
   ],
   "source": [
    "df_new.isnull().sum()"
   ]
  },
  {
   "cell_type": "code",
   "execution_count": 208,
   "metadata": {},
   "outputs": [],
   "source": [
    "#df_new[\"Artist Reputation\"]=df_new[\"Artist Reputation\"].replace(np.NaN,df_new[\"Artist Reputation\"].mean())"
   ]
  },
  {
   "cell_type": "code",
   "execution_count": 209,
   "metadata": {},
   "outputs": [],
   "source": [
    "#df_new[\"Height\"]=df_new[\"Height\"].replace(np.NaN,df_new[\"Height\"].mean())"
   ]
  },
  {
   "cell_type": "code",
   "execution_count": 210,
   "metadata": {},
   "outputs": [],
   "source": [
    "#df_new[\"Weight\"]=df_new[\"Weight\"].replace(np.NaN,df_new[\"Weight\"].mean())"
   ]
  },
  {
   "cell_type": "code",
   "execution_count": 211,
   "metadata": {},
   "outputs": [],
   "source": [
    "#df_new[\"Width\"]=df_new[\"Width\"].replace(np.NaN,df_new[\"Weight\"].mean())"
   ]
  },
  {
   "cell_type": "code",
   "execution_count": 212,
   "metadata": {},
   "outputs": [],
   "source": [
    "df_new=df_new.dropna()"
   ]
  },
  {
   "cell_type": "code",
   "execution_count": 213,
   "metadata": {},
   "outputs": [
    {
     "data": {
      "text/plain": [
       "Customer Id            0\n",
       "Artist Reputation      0\n",
       "Height                 0\n",
       "Width                  0\n",
       "Weight                 0\n",
       "Price Of Sculpture     0\n",
       "Base Shipping Price    0\n",
       "Cost                   0\n",
       "dtype: int64"
      ]
     },
     "execution_count": 213,
     "metadata": {},
     "output_type": "execute_result"
    }
   ],
   "source": [
    "df_new.isnull().sum()"
   ]
  },
  {
   "cell_type": "code",
   "execution_count": 214,
   "metadata": {},
   "outputs": [
    {
     "data": {
      "text/plain": [
       "Customer Id            0\n",
       "Artist Reputation      0\n",
       "Height                 0\n",
       "Width                  0\n",
       "Weight                 0\n",
       "Price Of Sculpture     0\n",
       "Base Shipping Price    0\n",
       "Cost                   0\n",
       "dtype: int64"
      ]
     },
     "execution_count": 214,
     "metadata": {},
     "output_type": "execute_result"
    }
   ],
   "source": [
    "df_new.isnull().sum()"
   ]
  },
  {
   "cell_type": "code",
   "execution_count": 215,
   "metadata": {},
   "outputs": [
    {
     "data": {
      "text/plain": [
       "(4629, 8)"
      ]
     },
     "execution_count": 215,
     "metadata": {},
     "output_type": "execute_result"
    }
   ],
   "source": [
    "df_new.shape"
   ]
  },
  {
   "cell_type": "code",
   "execution_count": 216,
   "metadata": {},
   "outputs": [
    {
     "data": {
      "text/plain": [
       "0       -283.29\n",
       "1       -159.96\n",
       "2       -154.29\n",
       "4       -159.23\n",
       "5      -1922.78\n",
       "         ...   \n",
       "6492    5177.64\n",
       "6495     872.43\n",
       "6497     354.55\n",
       "6498    5037.50\n",
       "6499     722.47\n",
       "Name: Cost, Length: 4629, dtype: float64"
      ]
     },
     "execution_count": 216,
     "metadata": {},
     "output_type": "execute_result"
    }
   ],
   "source": [
    "df_new[\"Cost\"]"
   ]
  },
  {
   "cell_type": "code",
   "execution_count": null,
   "metadata": {},
   "outputs": [],
   "source": []
  },
  {
   "cell_type": "code",
   "execution_count": 219,
   "metadata": {},
   "outputs": [
    {
     "data": {
      "text/html": [
       "<div>\n",
       "<style scoped>\n",
       "    .dataframe tbody tr th:only-of-type {\n",
       "        vertical-align: middle;\n",
       "    }\n",
       "\n",
       "    .dataframe tbody tr th {\n",
       "        vertical-align: top;\n",
       "    }\n",
       "\n",
       "    .dataframe thead th {\n",
       "        text-align: right;\n",
       "    }\n",
       "</style>\n",
       "<table border=\"1\" class=\"dataframe\">\n",
       "  <thead>\n",
       "    <tr style=\"text-align: right;\">\n",
       "      <th></th>\n",
       "      <th>Customer Id</th>\n",
       "      <th>Artist Reputation</th>\n",
       "      <th>Height</th>\n",
       "      <th>Width</th>\n",
       "      <th>Weight</th>\n",
       "      <th>Price Of Sculpture</th>\n",
       "      <th>Base Shipping Price</th>\n",
       "      <th>Cost</th>\n",
       "    </tr>\n",
       "  </thead>\n",
       "  <tbody>\n",
       "    <tr>\n",
       "      <th>0</th>\n",
       "      <td>fffe3900350033003300</td>\n",
       "      <td>0.26</td>\n",
       "      <td>17.0</td>\n",
       "      <td>6.0</td>\n",
       "      <td>4128.0</td>\n",
       "      <td>13.91</td>\n",
       "      <td>16.27</td>\n",
       "      <td>-283.29</td>\n",
       "    </tr>\n",
       "    <tr>\n",
       "      <th>1</th>\n",
       "      <td>fffe3800330031003900</td>\n",
       "      <td>0.28</td>\n",
       "      <td>3.0</td>\n",
       "      <td>3.0</td>\n",
       "      <td>61.0</td>\n",
       "      <td>6.83</td>\n",
       "      <td>15.00</td>\n",
       "      <td>-159.96</td>\n",
       "    </tr>\n",
       "    <tr>\n",
       "      <th>2</th>\n",
       "      <td>fffe3600370035003100</td>\n",
       "      <td>0.07</td>\n",
       "      <td>8.0</td>\n",
       "      <td>5.0</td>\n",
       "      <td>237.0</td>\n",
       "      <td>4.96</td>\n",
       "      <td>21.18</td>\n",
       "      <td>-154.29</td>\n",
       "    </tr>\n",
       "    <tr>\n",
       "      <th>4</th>\n",
       "      <td>fffe3900320038003400</td>\n",
       "      <td>0.15</td>\n",
       "      <td>17.0</td>\n",
       "      <td>6.0</td>\n",
       "      <td>324.0</td>\n",
       "      <td>3.18</td>\n",
       "      <td>11.94</td>\n",
       "      <td>-159.23</td>\n",
       "    </tr>\n",
       "    <tr>\n",
       "      <th>5</th>\n",
       "      <td>fffe3300390039003900</td>\n",
       "      <td>0.99</td>\n",
       "      <td>46.0</td>\n",
       "      <td>19.0</td>\n",
       "      <td>1178.0</td>\n",
       "      <td>6.16</td>\n",
       "      <td>16.88</td>\n",
       "      <td>-1922.78</td>\n",
       "    </tr>\n",
       "    <tr>\n",
       "      <th>...</th>\n",
       "      <td>...</td>\n",
       "      <td>...</td>\n",
       "      <td>...</td>\n",
       "      <td>...</td>\n",
       "      <td>...</td>\n",
       "      <td>...</td>\n",
       "      <td>...</td>\n",
       "      <td>...</td>\n",
       "    </tr>\n",
       "    <tr>\n",
       "      <th>6492</th>\n",
       "      <td>fffe3800350039003100</td>\n",
       "      <td>0.80</td>\n",
       "      <td>17.0</td>\n",
       "      <td>12.0</td>\n",
       "      <td>424586.0</td>\n",
       "      <td>1648.14</td>\n",
       "      <td>61.13</td>\n",
       "      <td>5177.64</td>\n",
       "    </tr>\n",
       "    <tr>\n",
       "      <th>6495</th>\n",
       "      <td>fffe3800370037003300</td>\n",
       "      <td>0.37</td>\n",
       "      <td>37.0</td>\n",
       "      <td>10.0</td>\n",
       "      <td>16551.0</td>\n",
       "      <td>28.28</td>\n",
       "      <td>38.46</td>\n",
       "      <td>872.43</td>\n",
       "    </tr>\n",
       "    <tr>\n",
       "      <th>6497</th>\n",
       "      <td>fffe3600300031003300</td>\n",
       "      <td>0.68</td>\n",
       "      <td>19.0</td>\n",
       "      <td>8.0</td>\n",
       "      <td>587.0</td>\n",
       "      <td>6.92</td>\n",
       "      <td>10.38</td>\n",
       "      <td>354.55</td>\n",
       "    </tr>\n",
       "    <tr>\n",
       "      <th>6498</th>\n",
       "      <td>fffe3600350035003900</td>\n",
       "      <td>0.02</td>\n",
       "      <td>33.0</td>\n",
       "      <td>9.0</td>\n",
       "      <td>1269377.0</td>\n",
       "      <td>2929.13</td>\n",
       "      <td>69.76</td>\n",
       "      <td>5037.50</td>\n",
       "    </tr>\n",
       "    <tr>\n",
       "      <th>6499</th>\n",
       "      <td>fffe3700310031003600</td>\n",
       "      <td>0.18</td>\n",
       "      <td>30.0</td>\n",
       "      <td>13.0</td>\n",
       "      <td>34729.0</td>\n",
       "      <td>46.63</td>\n",
       "      <td>78.25</td>\n",
       "      <td>722.47</td>\n",
       "    </tr>\n",
       "  </tbody>\n",
       "</table>\n",
       "<p>4629 rows × 8 columns</p>\n",
       "</div>"
      ],
      "text/plain": [
       "               Customer Id  Artist Reputation  Height  Width     Weight  \\\n",
       "0     fffe3900350033003300               0.26    17.0    6.0     4128.0   \n",
       "1     fffe3800330031003900               0.28     3.0    3.0       61.0   \n",
       "2     fffe3600370035003100               0.07     8.0    5.0      237.0   \n",
       "4     fffe3900320038003400               0.15    17.0    6.0      324.0   \n",
       "5     fffe3300390039003900               0.99    46.0   19.0     1178.0   \n",
       "...                    ...                ...     ...    ...        ...   \n",
       "6492  fffe3800350039003100               0.80    17.0   12.0   424586.0   \n",
       "6495  fffe3800370037003300               0.37    37.0   10.0    16551.0   \n",
       "6497  fffe3600300031003300               0.68    19.0    8.0      587.0   \n",
       "6498  fffe3600350035003900               0.02    33.0    9.0  1269377.0   \n",
       "6499  fffe3700310031003600               0.18    30.0   13.0    34729.0   \n",
       "\n",
       "      Price Of Sculpture  Base Shipping Price     Cost  \n",
       "0                  13.91                16.27  -283.29  \n",
       "1                   6.83                15.00  -159.96  \n",
       "2                   4.96                21.18  -154.29  \n",
       "4                   3.18                11.94  -159.23  \n",
       "5                   6.16                16.88 -1922.78  \n",
       "...                  ...                  ...      ...  \n",
       "6492             1648.14                61.13  5177.64  \n",
       "6495               28.28                38.46   872.43  \n",
       "6497                6.92                10.38   354.55  \n",
       "6498             2929.13                69.76  5037.50  \n",
       "6499               46.63                78.25   722.47  \n",
       "\n",
       "[4629 rows x 8 columns]"
      ]
     },
     "execution_count": 219,
     "metadata": {},
     "output_type": "execute_result"
    }
   ],
   "source": [
    "df_new"
   ]
  },
  {
   "cell_type": "code",
   "execution_count": 220,
   "metadata": {},
   "outputs": [],
   "source": [
    "df_new_x=df_new.drop([\"Cost\",\"Customer Id\"],axis=1)"
   ]
  },
  {
   "cell_type": "code",
   "execution_count": 221,
   "metadata": {},
   "outputs": [
    {
     "data": {
      "text/plain": [
       "Artist Reputation      float64\n",
       "Height                 float64\n",
       "Width                  float64\n",
       "Weight                 float64\n",
       "Price Of Sculpture     float64\n",
       "Base Shipping Price    float64\n",
       "dtype: object"
      ]
     },
     "execution_count": 221,
     "metadata": {},
     "output_type": "execute_result"
    }
   ],
   "source": [
    "df_new_x.dtypes"
   ]
  },
  {
   "cell_type": "code",
   "execution_count": 222,
   "metadata": {},
   "outputs": [
    {
     "data": {
      "text/html": [
       "<div>\n",
       "<style scoped>\n",
       "    .dataframe tbody tr th:only-of-type {\n",
       "        vertical-align: middle;\n",
       "    }\n",
       "\n",
       "    .dataframe tbody tr th {\n",
       "        vertical-align: top;\n",
       "    }\n",
       "\n",
       "    .dataframe thead th {\n",
       "        text-align: right;\n",
       "    }\n",
       "</style>\n",
       "<table border=\"1\" class=\"dataframe\">\n",
       "  <thead>\n",
       "    <tr style=\"text-align: right;\">\n",
       "      <th></th>\n",
       "      <th>Artist Reputation</th>\n",
       "      <th>Height</th>\n",
       "      <th>Width</th>\n",
       "      <th>Weight</th>\n",
       "      <th>Price Of Sculpture</th>\n",
       "      <th>Base Shipping Price</th>\n",
       "    </tr>\n",
       "  </thead>\n",
       "  <tbody>\n",
       "    <tr>\n",
       "      <th>0</th>\n",
       "      <td>0.26</td>\n",
       "      <td>17.0</td>\n",
       "      <td>6.0</td>\n",
       "      <td>4128.0</td>\n",
       "      <td>13.91</td>\n",
       "      <td>16.27</td>\n",
       "    </tr>\n",
       "    <tr>\n",
       "      <th>1</th>\n",
       "      <td>0.28</td>\n",
       "      <td>3.0</td>\n",
       "      <td>3.0</td>\n",
       "      <td>61.0</td>\n",
       "      <td>6.83</td>\n",
       "      <td>15.00</td>\n",
       "    </tr>\n",
       "    <tr>\n",
       "      <th>2</th>\n",
       "      <td>0.07</td>\n",
       "      <td>8.0</td>\n",
       "      <td>5.0</td>\n",
       "      <td>237.0</td>\n",
       "      <td>4.96</td>\n",
       "      <td>21.18</td>\n",
       "    </tr>\n",
       "    <tr>\n",
       "      <th>4</th>\n",
       "      <td>0.15</td>\n",
       "      <td>17.0</td>\n",
       "      <td>6.0</td>\n",
       "      <td>324.0</td>\n",
       "      <td>3.18</td>\n",
       "      <td>11.94</td>\n",
       "    </tr>\n",
       "    <tr>\n",
       "      <th>5</th>\n",
       "      <td>0.99</td>\n",
       "      <td>46.0</td>\n",
       "      <td>19.0</td>\n",
       "      <td>1178.0</td>\n",
       "      <td>6.16</td>\n",
       "      <td>16.88</td>\n",
       "    </tr>\n",
       "    <tr>\n",
       "      <th>...</th>\n",
       "      <td>...</td>\n",
       "      <td>...</td>\n",
       "      <td>...</td>\n",
       "      <td>...</td>\n",
       "      <td>...</td>\n",
       "      <td>...</td>\n",
       "    </tr>\n",
       "    <tr>\n",
       "      <th>6492</th>\n",
       "      <td>0.80</td>\n",
       "      <td>17.0</td>\n",
       "      <td>12.0</td>\n",
       "      <td>424586.0</td>\n",
       "      <td>1648.14</td>\n",
       "      <td>61.13</td>\n",
       "    </tr>\n",
       "    <tr>\n",
       "      <th>6495</th>\n",
       "      <td>0.37</td>\n",
       "      <td>37.0</td>\n",
       "      <td>10.0</td>\n",
       "      <td>16551.0</td>\n",
       "      <td>28.28</td>\n",
       "      <td>38.46</td>\n",
       "    </tr>\n",
       "    <tr>\n",
       "      <th>6497</th>\n",
       "      <td>0.68</td>\n",
       "      <td>19.0</td>\n",
       "      <td>8.0</td>\n",
       "      <td>587.0</td>\n",
       "      <td>6.92</td>\n",
       "      <td>10.38</td>\n",
       "    </tr>\n",
       "    <tr>\n",
       "      <th>6498</th>\n",
       "      <td>0.02</td>\n",
       "      <td>33.0</td>\n",
       "      <td>9.0</td>\n",
       "      <td>1269377.0</td>\n",
       "      <td>2929.13</td>\n",
       "      <td>69.76</td>\n",
       "    </tr>\n",
       "    <tr>\n",
       "      <th>6499</th>\n",
       "      <td>0.18</td>\n",
       "      <td>30.0</td>\n",
       "      <td>13.0</td>\n",
       "      <td>34729.0</td>\n",
       "      <td>46.63</td>\n",
       "      <td>78.25</td>\n",
       "    </tr>\n",
       "  </tbody>\n",
       "</table>\n",
       "<p>4629 rows × 6 columns</p>\n",
       "</div>"
      ],
      "text/plain": [
       "      Artist Reputation  Height  Width     Weight  Price Of Sculpture  \\\n",
       "0                  0.26    17.0    6.0     4128.0               13.91   \n",
       "1                  0.28     3.0    3.0       61.0                6.83   \n",
       "2                  0.07     8.0    5.0      237.0                4.96   \n",
       "4                  0.15    17.0    6.0      324.0                3.18   \n",
       "5                  0.99    46.0   19.0     1178.0                6.16   \n",
       "...                 ...     ...    ...        ...                 ...   \n",
       "6492               0.80    17.0   12.0   424586.0             1648.14   \n",
       "6495               0.37    37.0   10.0    16551.0               28.28   \n",
       "6497               0.68    19.0    8.0      587.0                6.92   \n",
       "6498               0.02    33.0    9.0  1269377.0             2929.13   \n",
       "6499               0.18    30.0   13.0    34729.0               46.63   \n",
       "\n",
       "      Base Shipping Price  \n",
       "0                   16.27  \n",
       "1                   15.00  \n",
       "2                   21.18  \n",
       "4                   11.94  \n",
       "5                   16.88  \n",
       "...                   ...  \n",
       "6492                61.13  \n",
       "6495                38.46  \n",
       "6497                10.38  \n",
       "6498                69.76  \n",
       "6499                78.25  \n",
       "\n",
       "[4629 rows x 6 columns]"
      ]
     },
     "execution_count": 222,
     "metadata": {},
     "output_type": "execute_result"
    }
   ],
   "source": [
    "df_new_x"
   ]
  },
  {
   "cell_type": "code",
   "execution_count": 223,
   "metadata": {},
   "outputs": [],
   "source": [
    "df_new_y=df_new[\"Cost\"]"
   ]
  },
  {
   "cell_type": "code",
   "execution_count": 224,
   "metadata": {},
   "outputs": [],
   "source": [
    "from sklearn.linear_model import LinearRegression"
   ]
  },
  {
   "cell_type": "code",
   "execution_count": 225,
   "metadata": {},
   "outputs": [],
   "source": [
    "from sklearn.model_selection import train_test_split"
   ]
  },
  {
   "cell_type": "code",
   "execution_count": 226,
   "metadata": {},
   "outputs": [],
   "source": [
    "df_tr_x,df_test_x,df_tr_y,df_test_y=train_test_split(df_new_x,df_new_y,test_size=.3)"
   ]
  },
  {
   "cell_type": "code",
   "execution_count": 227,
   "metadata": {},
   "outputs": [],
   "source": [
    "lm_model=LinearRegression().fit(df_tr_x,df_tr_y)"
   ]
  },
  {
   "cell_type": "code",
   "execution_count": 228,
   "metadata": {},
   "outputs": [],
   "source": [
    "p=lm_model.predict(df_test_x)"
   ]
  },
  {
   "cell_type": "code",
   "execution_count": 229,
   "metadata": {},
   "outputs": [],
   "source": [
    "from sklearn.metrics import r2_score"
   ]
  },
  {
   "cell_type": "code",
   "execution_count": 231,
   "metadata": {},
   "outputs": [
    {
     "data": {
      "text/plain": [
       "0.00036400278269577147"
      ]
     },
     "execution_count": 231,
     "metadata": {},
     "output_type": "execute_result"
    }
   ],
   "source": [
    "r2_score(df_test_y,p)"
   ]
  },
  {
   "cell_type": "code",
   "execution_count": 232,
   "metadata": {},
   "outputs": [],
   "source": [
    "import statsmodels.formula.api as smf\n",
    "from statsmodels.formula.api import ols\n"
   ]
  },
  {
   "cell_type": "code",
   "execution_count": 233,
   "metadata": {},
   "outputs": [
    {
     "data": {
      "text/plain": [
       "Customer Id             object\n",
       "Artist Reputation      float64\n",
       "Height                 float64\n",
       "Width                  float64\n",
       "Weight                 float64\n",
       "Price Of Sculpture     float64\n",
       "Base Shipping Price    float64\n",
       "Cost                   float64\n",
       "dtype: object"
      ]
     },
     "execution_count": 233,
     "metadata": {},
     "output_type": "execute_result"
    }
   ],
   "source": [
    "df_new.dtypes"
   ]
  },
  {
   "cell_type": "code",
   "execution_count": 241,
   "metadata": {},
   "outputs": [
    {
     "data": {
      "text/plain": [
       "Customer Id             object\n",
       "Artist Reputation      float64\n",
       "Height                 float64\n",
       "Width                  float64\n",
       "Weight                 float64\n",
       "Price Of Sculpture     float64\n",
       "Base Shipping Price    float64\n",
       "Cost                   float64\n",
       "dtype: object"
      ]
     },
     "execution_count": 241,
     "metadata": {},
     "output_type": "execute_result"
    }
   ],
   "source": [
    "df_new.dtypes"
   ]
  },
  {
   "cell_type": "code",
   "execution_count": null,
   "metadata": {},
   "outputs": [],
   "source": []
  },
  {
   "cell_type": "code",
   "execution_count": 243,
   "metadata": {},
   "outputs": [],
   "source": [
    "x_ols=pd.DataFrame(df_new.iloc[:,[1,2,3,4,5,6]])"
   ]
  },
  {
   "cell_type": "code",
   "execution_count": 244,
   "metadata": {},
   "outputs": [],
   "source": [
    "y_ols=pd.DataFrame(df_new.iloc[:,[7]])"
   ]
  },
  {
   "cell_type": "code",
   "execution_count": 245,
   "metadata": {},
   "outputs": [],
   "source": [
    "sm_model=ols(\"y_ols~x_ols\",data=df_new).fit()"
   ]
  },
  {
   "cell_type": "code",
   "execution_count": 246,
   "metadata": {},
   "outputs": [
    {
     "data": {
      "text/html": [
       "<table class=\"simpletable\">\n",
       "<caption>OLS Regression Results</caption>\n",
       "<tr>\n",
       "  <th>Dep. Variable:</th>          <td>y_ols</td>      <th>  R-squared:         </th> <td>   0.177</td> \n",
       "</tr>\n",
       "<tr>\n",
       "  <th>Model:</th>                   <td>OLS</td>       <th>  Adj. R-squared:    </th> <td>   0.175</td> \n",
       "</tr>\n",
       "<tr>\n",
       "  <th>Method:</th>             <td>Least Squares</td>  <th>  F-statistic:       </th> <td>   165.1</td> \n",
       "</tr>\n",
       "<tr>\n",
       "  <th>Date:</th>             <td>Sat, 06 Mar 2021</td> <th>  Prob (F-statistic):</th> <td>1.01e-190</td>\n",
       "</tr>\n",
       "<tr>\n",
       "  <th>Time:</th>                 <td>23:10:35</td>     <th>  Log-Likelihood:    </th> <td> -63820.</td> \n",
       "</tr>\n",
       "<tr>\n",
       "  <th>No. Observations:</th>      <td>  4629</td>      <th>  AIC:               </th> <td>1.277e+05</td>\n",
       "</tr>\n",
       "<tr>\n",
       "  <th>Df Residuals:</th>          <td>  4622</td>      <th>  BIC:               </th> <td>1.277e+05</td>\n",
       "</tr>\n",
       "<tr>\n",
       "  <th>Df Model:</th>              <td>     6</td>      <th>                     </th>     <td> </td>    \n",
       "</tr>\n",
       "<tr>\n",
       "  <th>Covariance Type:</th>      <td>nonrobust</td>    <th>                     </th>     <td> </td>    \n",
       "</tr>\n",
       "</table>\n",
       "<table class=\"simpletable\">\n",
       "<tr>\n",
       "      <td></td>         <th>coef</th>     <th>std err</th>      <th>t</th>      <th>P>|t|</th>  <th>[0.025</th>    <th>0.975]</th>  \n",
       "</tr>\n",
       "<tr>\n",
       "  <th>Intercept</th> <td>-2.925e+04</td> <td> 1.02e+04</td> <td>   -2.879</td> <td> 0.004</td> <td>-4.92e+04</td> <td>-9331.996</td>\n",
       "</tr>\n",
       "<tr>\n",
       "  <th>x_ols[0]</th>  <td> 4.794e+04</td> <td>  1.3e+04</td> <td>    3.682</td> <td> 0.000</td> <td> 2.24e+04</td> <td> 7.35e+04</td>\n",
       "</tr>\n",
       "<tr>\n",
       "  <th>x_ols[1]</th>  <td>    7.3057</td> <td>  457.316</td> <td>    0.016</td> <td> 0.987</td> <td> -889.253</td> <td>  903.864</td>\n",
       "</tr>\n",
       "<tr>\n",
       "  <th>x_ols[2]</th>  <td> 1708.0468</td> <td> 1033.730</td> <td>    1.652</td> <td> 0.099</td> <td> -318.558</td> <td> 3734.652</td>\n",
       "</tr>\n",
       "<tr>\n",
       "  <th>x_ols[3]</th>  <td>    0.0070</td> <td>    0.003</td> <td>    2.324</td> <td> 0.020</td> <td>    0.001</td> <td>    0.013</td>\n",
       "</tr>\n",
       "<tr>\n",
       "  <th>x_ols[4]</th>  <td>    9.8673</td> <td>    0.959</td> <td>   10.289</td> <td> 0.000</td> <td>    7.987</td> <td>   11.747</td>\n",
       "</tr>\n",
       "<tr>\n",
       "  <th>x_ols[5]</th>  <td> -167.3216</td> <td>  137.875</td> <td>   -1.214</td> <td> 0.225</td> <td> -437.622</td> <td>  102.978</td>\n",
       "</tr>\n",
       "</table>\n",
       "<table class=\"simpletable\">\n",
       "<tr>\n",
       "  <th>Omnibus:</th>       <td>12516.794</td> <th>  Durbin-Watson:     </th>   <td>   2.003</td>   \n",
       "</tr>\n",
       "<tr>\n",
       "  <th>Prob(Omnibus):</th>  <td> 0.000</td>   <th>  Jarque-Bera (JB):  </th> <td>341871289.342</td>\n",
       "</tr>\n",
       "<tr>\n",
       "  <th>Skew:</th>           <td>32.866</td>   <th>  Prob(JB):          </th>   <td>    0.00</td>   \n",
       "</tr>\n",
       "<tr>\n",
       "  <th>Kurtosis:</th>      <td>1332.730</td>  <th>  Cond. No.          </th>   <td>1.23e+07</td>   \n",
       "</tr>\n",
       "</table><br/><br/>Warnings:<br/>[1] Standard Errors assume that the covariance matrix of the errors is correctly specified.<br/>[2] The condition number is large, 1.23e+07. This might indicate that there are<br/>strong multicollinearity or other numerical problems."
      ],
      "text/plain": [
       "<class 'statsmodels.iolib.summary.Summary'>\n",
       "\"\"\"\n",
       "                            OLS Regression Results                            \n",
       "==============================================================================\n",
       "Dep. Variable:                  y_ols   R-squared:                       0.177\n",
       "Model:                            OLS   Adj. R-squared:                  0.175\n",
       "Method:                 Least Squares   F-statistic:                     165.1\n",
       "Date:                Sat, 06 Mar 2021   Prob (F-statistic):          1.01e-190\n",
       "Time:                        23:10:35   Log-Likelihood:                -63820.\n",
       "No. Observations:                4629   AIC:                         1.277e+05\n",
       "Df Residuals:                    4622   BIC:                         1.277e+05\n",
       "Df Model:                           6                                         \n",
       "Covariance Type:            nonrobust                                         \n",
       "==============================================================================\n",
       "                 coef    std err          t      P>|t|      [0.025      0.975]\n",
       "------------------------------------------------------------------------------\n",
       "Intercept  -2.925e+04   1.02e+04     -2.879      0.004   -4.92e+04   -9331.996\n",
       "x_ols[0]    4.794e+04    1.3e+04      3.682      0.000    2.24e+04    7.35e+04\n",
       "x_ols[1]       7.3057    457.316      0.016      0.987    -889.253     903.864\n",
       "x_ols[2]    1708.0468   1033.730      1.652      0.099    -318.558    3734.652\n",
       "x_ols[3]       0.0070      0.003      2.324      0.020       0.001       0.013\n",
       "x_ols[4]       9.8673      0.959     10.289      0.000       7.987      11.747\n",
       "x_ols[5]    -167.3216    137.875     -1.214      0.225    -437.622     102.978\n",
       "==============================================================================\n",
       "Omnibus:                    12516.794   Durbin-Watson:                   2.003\n",
       "Prob(Omnibus):                  0.000   Jarque-Bera (JB):        341871289.342\n",
       "Skew:                          32.866   Prob(JB):                         0.00\n",
       "Kurtosis:                    1332.730   Cond. No.                     1.23e+07\n",
       "==============================================================================\n",
       "\n",
       "Warnings:\n",
       "[1] Standard Errors assume that the covariance matrix of the errors is correctly specified.\n",
       "[2] The condition number is large, 1.23e+07. This might indicate that there are\n",
       "strong multicollinearity or other numerical problems.\n",
       "\"\"\""
      ]
     },
     "execution_count": 246,
     "metadata": {},
     "output_type": "execute_result"
    }
   ],
   "source": [
    "sm_model.summary()"
   ]
  },
  {
   "cell_type": "code",
   "execution_count": 247,
   "metadata": {},
   "outputs": [],
   "source": [
    "x_ols=pd.DataFrame(df_new.iloc[:,[3]])"
   ]
  },
  {
   "cell_type": "code",
   "execution_count": 248,
   "metadata": {},
   "outputs": [],
   "source": [
    "y_ols=pd.DataFrame(df_new.iloc[:,[7]])"
   ]
  },
  {
   "cell_type": "code",
   "execution_count": 249,
   "metadata": {},
   "outputs": [],
   "source": [
    "sm_model=ols(\"y_ols~x_ols\",data=df_new).fit()"
   ]
  },
  {
   "cell_type": "code",
   "execution_count": 250,
   "metadata": {},
   "outputs": [
    {
     "data": {
      "text/html": [
       "<table class=\"simpletable\">\n",
       "<caption>OLS Regression Results</caption>\n",
       "<tr>\n",
       "  <th>Dep. Variable:</th>          <td>y_ols</td>      <th>  R-squared:         </th> <td>   0.026</td> \n",
       "</tr>\n",
       "<tr>\n",
       "  <th>Model:</th>                   <td>OLS</td>       <th>  Adj. R-squared:    </th> <td>   0.026</td> \n",
       "</tr>\n",
       "<tr>\n",
       "  <th>Method:</th>             <td>Least Squares</td>  <th>  F-statistic:       </th> <td>   122.4</td> \n",
       "</tr>\n",
       "<tr>\n",
       "  <th>Date:</th>             <td>Sat, 06 Mar 2021</td> <th>  Prob (F-statistic):</th> <td>4.20e-28</td> \n",
       "</tr>\n",
       "<tr>\n",
       "  <th>Time:</th>                 <td>23:13:18</td>     <th>  Log-Likelihood:    </th> <td> -64209.</td> \n",
       "</tr>\n",
       "<tr>\n",
       "  <th>No. Observations:</th>      <td>  4629</td>      <th>  AIC:               </th> <td>1.284e+05</td>\n",
       "</tr>\n",
       "<tr>\n",
       "  <th>Df Residuals:</th>          <td>  4627</td>      <th>  BIC:               </th> <td>1.284e+05</td>\n",
       "</tr>\n",
       "<tr>\n",
       "  <th>Df Model:</th>              <td>     1</td>      <th>                     </th>     <td> </td>    \n",
       "</tr>\n",
       "<tr>\n",
       "  <th>Covariance Type:</th>      <td>nonrobust</td>    <th>                     </th>     <td> </td>    \n",
       "</tr>\n",
       "</table>\n",
       "<table class=\"simpletable\">\n",
       "<tr>\n",
       "      <td></td>         <th>coef</th>     <th>std err</th>      <th>t</th>      <th>P>|t|</th>  <th>[0.025</th>    <th>0.975]</th>  \n",
       "</tr>\n",
       "<tr>\n",
       "  <th>Intercept</th> <td> -5.61e+04</td> <td> 7675.827</td> <td>   -7.309</td> <td> 0.000</td> <td>-7.12e+04</td> <td>-4.11e+04</td>\n",
       "</tr>\n",
       "<tr>\n",
       "  <th>x_ols</th>     <td> 7688.2601</td> <td>  694.883</td> <td>   11.064</td> <td> 0.000</td> <td> 6325.959</td> <td> 9050.561</td>\n",
       "</tr>\n",
       "</table>\n",
       "<table class=\"simpletable\">\n",
       "<tr>\n",
       "  <th>Omnibus:</th>       <td>12176.502</td> <th>  Durbin-Watson:     </th>   <td>   2.007</td>   \n",
       "</tr>\n",
       "<tr>\n",
       "  <th>Prob(Omnibus):</th>  <td> 0.000</td>   <th>  Jarque-Bera (JB):  </th> <td>251590092.051</td>\n",
       "</tr>\n",
       "<tr>\n",
       "  <th>Skew:</th>           <td>30.679</td>   <th>  Prob(JB):          </th>   <td>    0.00</td>   \n",
       "</tr>\n",
       "<tr>\n",
       "  <th>Kurtosis:</th>      <td>1143.463</td>  <th>  Cond. No.          </th>   <td>    22.7</td>   \n",
       "</tr>\n",
       "</table><br/><br/>Warnings:<br/>[1] Standard Errors assume that the covariance matrix of the errors is correctly specified."
      ],
      "text/plain": [
       "<class 'statsmodels.iolib.summary.Summary'>\n",
       "\"\"\"\n",
       "                            OLS Regression Results                            \n",
       "==============================================================================\n",
       "Dep. Variable:                  y_ols   R-squared:                       0.026\n",
       "Model:                            OLS   Adj. R-squared:                  0.026\n",
       "Method:                 Least Squares   F-statistic:                     122.4\n",
       "Date:                Sat, 06 Mar 2021   Prob (F-statistic):           4.20e-28\n",
       "Time:                        23:13:18   Log-Likelihood:                -64209.\n",
       "No. Observations:                4629   AIC:                         1.284e+05\n",
       "Df Residuals:                    4627   BIC:                         1.284e+05\n",
       "Df Model:                           1                                         \n",
       "Covariance Type:            nonrobust                                         \n",
       "==============================================================================\n",
       "                 coef    std err          t      P>|t|      [0.025      0.975]\n",
       "------------------------------------------------------------------------------\n",
       "Intercept   -5.61e+04   7675.827     -7.309      0.000   -7.12e+04   -4.11e+04\n",
       "x_ols       7688.2601    694.883     11.064      0.000    6325.959    9050.561\n",
       "==============================================================================\n",
       "Omnibus:                    12176.502   Durbin-Watson:                   2.007\n",
       "Prob(Omnibus):                  0.000   Jarque-Bera (JB):        251590092.051\n",
       "Skew:                          30.679   Prob(JB):                         0.00\n",
       "Kurtosis:                    1143.463   Cond. No.                         22.7\n",
       "==============================================================================\n",
       "\n",
       "Warnings:\n",
       "[1] Standard Errors assume that the covariance matrix of the errors is correctly specified.\n",
       "\"\"\""
      ]
     },
     "execution_count": 250,
     "metadata": {},
     "output_type": "execute_result"
    }
   ],
   "source": [
    "sm_model.summary()"
   ]
  },
  {
   "cell_type": "code",
   "execution_count": null,
   "metadata": {},
   "outputs": [],
   "source": []
  }
 ],
 "metadata": {
  "kernelspec": {
   "display_name": "Python 3",
   "language": "python",
   "name": "python3"
  },
  "language_info": {
   "codemirror_mode": {
    "name": "ipython",
    "version": 3
   },
   "file_extension": ".py",
   "mimetype": "text/x-python",
   "name": "python",
   "nbconvert_exporter": "python",
   "pygments_lexer": "ipython3",
   "version": "3.8.8"
  }
 },
 "nbformat": 4,
 "nbformat_minor": 4
}
